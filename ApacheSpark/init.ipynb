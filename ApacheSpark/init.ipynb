{
 "cells": [
  {
   "cell_type": "code",
   "execution_count": 1,
   "source": [
    "!pip install pyspark"
   ],
   "outputs": [
    {
     "output_type": "stream",
     "name": "stdout",
     "text": [
      "Collecting pyspark\n",
      "  Downloading pyspark-3.1.2.tar.gz (212.4 MB)\n",
      "\u001b[K     |████████████████████████████████| 212.4 MB 227 kB/s \n",
      "\u001b[?25hCollecting py4j==0.10.9\n",
      "  Downloading py4j-0.10.9-py2.py3-none-any.whl (198 kB)\n",
      "\u001b[K     |████████████████████████████████| 198 kB 1.3 MB/s \n",
      "\u001b[?25hBuilding wheels for collected packages: pyspark\n",
      "  Building wheel for pyspark (setup.py) ... \u001b[?25ldone\n",
      "\u001b[?25h  Created wheel for pyspark: filename=pyspark-3.1.2-py2.py3-none-any.whl size=212880768 sha256=0ccd82bab753cd85e3fa71ea7c6a58b7b2ac0c22b845425fa52c6bc44a9a0a34\n",
      "  Stored in directory: /Users/rohankilledar/Library/Caches/pip/wheels/df/88/9e/58ef1f74892fef590330ca0830b5b6d995ba29b44f977b3926\n",
      "Successfully built pyspark\n",
      "Installing collected packages: py4j, pyspark\n",
      "Successfully installed py4j-0.10.9 pyspark-3.1.2\n"
     ]
    }
   ],
   "metadata": {}
  },
  {
   "cell_type": "code",
   "execution_count": 2,
   "source": [
    "import pyspark"
   ],
   "outputs": [],
   "metadata": {}
  },
  {
   "cell_type": "code",
   "execution_count": 4,
   "source": [
    "from pyspark.sql import SparkSession\n",
    "spark = SparkSession.builder.appName('Practise').getOrCreate()"
   ],
   "outputs": [],
   "metadata": {}
  },
  {
   "cell_type": "code",
   "execution_count": 5,
   "source": [
    "spark"
   ],
   "outputs": [
    {
     "output_type": "execute_result",
     "data": {
      "text/html": [
       "\n",
       "            <div>\n",
       "                <p><b>SparkSession - in-memory</b></p>\n",
       "                \n",
       "        <div>\n",
       "            <p><b>SparkContext</b></p>\n",
       "\n",
       "            <p><a href=\"http://192.168.0.109:4040\">Spark UI</a></p>\n",
       "\n",
       "            <dl>\n",
       "              <dt>Version</dt>\n",
       "                <dd><code>v3.1.2</code></dd>\n",
       "              <dt>Master</dt>\n",
       "                <dd><code>local[*]</code></dd>\n",
       "              <dt>AppName</dt>\n",
       "                <dd><code>Practise</code></dd>\n",
       "            </dl>\n",
       "        </div>\n",
       "        \n",
       "            </div>\n",
       "        "
      ],
      "text/plain": [
       "<pyspark.sql.session.SparkSession at 0x7f8bc0b50700>"
      ]
     },
     "metadata": {},
     "execution_count": 5
    }
   ],
   "metadata": {}
  },
  {
   "cell_type": "code",
   "execution_count": 8,
   "source": [
    "ds_pyspark = spark.read.csv('/Users/rohankilledar/Documents/MSc Artificial Intelligence/repos/Natural Language Processing/data.csv')"
   ],
   "outputs": [],
   "metadata": {}
  },
  {
   "cell_type": "code",
   "execution_count": 9,
   "source": [
    "ds_pyspark.show()"
   ],
   "outputs": [
    {
     "output_type": "stream",
     "name": "stdout",
     "text": [
      "+----+--------------------+--------------------+\n",
      "| _c0|                 _c1|                 _c2|\n",
      "+----+--------------------+--------------------+\n",
      "|null|                text|           sentiment|\n",
      "|   0|\"Enjoy the openin...|             however|\n",
      "|   1|\"Well, the Sci-Fi...| Jack-In-The-Box ...|\n",
      "|   2|It takes guts to ...|                 pos|\n",
      "|   3|The Nest is reall...|                 neg|\n",
      "|   4|Waco: Rules of En...|                 pos|\n",
      "|   5|I read the review...|                 neg|\n",
      "|   6|The plot was very...|                 neg|\n",
      "|   7|\"LOVE AT THE TOP-...|             I think|\n",
      "|   8|I sometimes grow ...|                 pos|\n",
      "|   9|Lynne Ramsey make...|                 neg|\n",
      "|  10|This 1984 version...|                 pos|\n",
      "|  11|\"For reasons I ca...| I'm not sure any...|\n",
      "|  12|Drawn by Pain is ...|                 pos|\n",
      "|  13|I thought this wa...|                 pos|\n",
      "|  14|\"This is one of t...| innocent mind fa...|\n",
      "|  15|\"When A Killer Ca...| waiting ten seconds|\n",
      "|  16|The first music v...|                 pos|\n",
      "|  17|\"I was a Marine a...| California.<br /...|\n",
      "|  18|\"I rated this fil...| since despite se...|\n",
      "+----+--------------------+--------------------+\n",
      "only showing top 20 rows\n",
      "\n"
     ]
    }
   ],
   "metadata": {}
  },
  {
   "cell_type": "code",
   "execution_count": 10,
   "source": [
    "df_pyspark = spark.read.option('header','true').csv('/Users/rohankilledar/Documents/MSc Artificial Intelligence/repos/Natural Language Processing/data.csv')\n",
    "df_pyspark.show()"
   ],
   "outputs": [
    {
     "output_type": "stream",
     "name": "stdout",
     "text": [
      "+---+--------------------+--------------------+\n",
      "|_c0|                text|           sentiment|\n",
      "+---+--------------------+--------------------+\n",
      "|  0|\"Enjoy the openin...|             however|\n",
      "|  1|\"Well, the Sci-Fi...| Jack-In-The-Box ...|\n",
      "|  2|It takes guts to ...|                 pos|\n",
      "|  3|The Nest is reall...|                 neg|\n",
      "|  4|Waco: Rules of En...|                 pos|\n",
      "|  5|I read the review...|                 neg|\n",
      "|  6|The plot was very...|                 neg|\n",
      "|  7|\"LOVE AT THE TOP-...|             I think|\n",
      "|  8|I sometimes grow ...|                 pos|\n",
      "|  9|Lynne Ramsey make...|                 neg|\n",
      "| 10|This 1984 version...|                 pos|\n",
      "| 11|\"For reasons I ca...| I'm not sure any...|\n",
      "| 12|Drawn by Pain is ...|                 pos|\n",
      "| 13|I thought this wa...|                 pos|\n",
      "| 14|\"This is one of t...| innocent mind fa...|\n",
      "| 15|\"When A Killer Ca...| waiting ten seconds|\n",
      "| 16|The first music v...|                 pos|\n",
      "| 17|\"I was a Marine a...| California.<br /...|\n",
      "| 18|\"I rated this fil...| since despite se...|\n",
      "| 19|Mario Van Peebles...|                 neg|\n",
      "+---+--------------------+--------------------+\n",
      "only showing top 20 rows\n",
      "\n"
     ]
    }
   ],
   "metadata": {}
  },
  {
   "cell_type": "code",
   "execution_count": 11,
   "source": [
    "type(df_pyspark)"
   ],
   "outputs": [
    {
     "output_type": "execute_result",
     "data": {
      "text/plain": [
       "pyspark.sql.dataframe.DataFrame"
      ]
     },
     "metadata": {},
     "execution_count": 11
    }
   ],
   "metadata": {}
  },
  {
   "cell_type": "code",
   "execution_count": 12,
   "source": [
    "df_pyspark.printSchema()\n"
   ],
   "outputs": [
    {
     "output_type": "stream",
     "name": "stdout",
     "text": [
      "root\n",
      " |-- _c0: string (nullable = true)\n",
      " |-- text: string (nullable = true)\n",
      " |-- sentiment: string (nullable = true)\n",
      "\n"
     ]
    }
   ],
   "metadata": {}
  },
  {
   "cell_type": "code",
   "execution_count": null,
   "source": [],
   "outputs": [],
   "metadata": {}
  }
 ],
 "metadata": {
  "orig_nbformat": 4,
  "language_info": {
   "name": "python",
   "version": "3.8.8",
   "mimetype": "text/x-python",
   "codemirror_mode": {
    "name": "ipython",
    "version": 3
   },
   "pygments_lexer": "ipython3",
   "nbconvert_exporter": "python",
   "file_extension": ".py"
  },
  "kernelspec": {
   "name": "python3",
   "display_name": "Python 3.8.8 64-bit ('base': conda)"
  },
  "interpreter": {
   "hash": "344443636c3027c5042750c9c609acdda283a9c43681b128a8c1053e7ad2aa7d"
  }
 },
 "nbformat": 4,
 "nbformat_minor": 2
}