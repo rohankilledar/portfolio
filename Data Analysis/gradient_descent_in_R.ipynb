{
 "cells": [
  {
   "cell_type": "code",
   "execution_count": 1,
   "metadata": {},
   "outputs": [],
   "source": [
    "#Task 1\n",
    "#sigmoid implements the sigmoid function that gives the probablity of getting 1 \n",
    "sigmoid <- function(xi,w){\n",
    "    return(1/(1+exp(-xi%*%w)))\n",
    "}"
   ]
  },
  {
   "cell_type": "code",
   "execution_count": 2,
   "metadata": {},
   "outputs": [],
   "source": [
    "#MSE to calculate the mean squared error of predictions\n",
    "MSE <- function(y,predY){\n",
    "    return(mean((predY-y)^2))\n",
    "}"
   ]
  },
  {
   "cell_type": "code",
   "execution_count": 3,
   "metadata": {},
   "outputs": [],
   "source": [
    "#gradient function is derivative of negative log likelihood that we are trying to minimize\n",
    "gradient <- function(g,x,y,w){\n",
    "    return(t(x)%*%(g(x,w)-y))\n",
    "}"
   ]
  },
  {
   "cell_type": "code",
   "execution_count": 4,
   "metadata": {},
   "outputs": [],
   "source": [
    "#gradient_descent calculates the theta or weights for logistic regression \n",
    "gradient_descent <- function(g,x,y,learning.step = 0.001,num.epoch=10000,theta = rep(0,ncol(x))){\n",
    "    \n",
    "    for (i in 1:num.epoch){\n",
    "        theta <- theta - learning.step*gradient(g,x,y,theta)        \n",
    "    }\n",
    "    return(c(theta))\n",
    "    \n",
    "}"
   ]
  },
  {
   "cell_type": "code",
   "execution_count": 5,
   "metadata": {},
   "outputs": [],
   "source": [
    "#based on the value of sigmoid we calculate the predicted values by rounding it.\n",
    "logisticPred <- function(x,w){\n",
    "  prob <- sigmoid(x,w)\n",
    "  return(round(prob, 0))\n",
    "}"
   ]
  },
  {
   "cell_type": "code",
   "execution_count": 7,
   "metadata": {},
   "outputs": [
    {
     "name": "stderr",
     "output_type": "stream",
     "text": [
      "Updating HTML index of packages in '.Library'\n",
      "Making 'packages.html' ... done\n"
     ]
    },
    {
     "name": "stdout",
     "output_type": "stream",
     "text": [
      "[1] \"The libraries are now loaded\"\n"
     ]
    }
   ],
   "source": [
    "#Task 2\n",
    "LoadLibraries <- function(){\n",
    "    install.packages('ISLR')\n",
    "    library(ISLR)\n",
    "    print(\"The libraries are now loaded\")\n",
    "}\n",
    "LoadLibraries()\n",
    "attach(Auto)\n",
    "\n",
    "High <- ifelse(mpg>=23,1,0)\n",
    "Auto <- data.frame(Auto,High)\n",
    "\n",
    "dummy1 <- ifelse(origin==1,1,0)\n",
    "dummy2 <- ifelse(origin==2,1,0)\n",
    "Auto <- data.frame(Auto,dummy1)\n",
    "Auto <- data.frame(Auto,dummy2)\n",
    "\n",
    "Auto.label <- as.matrix(High)\n",
    "Auto.data <- as.matrix(Auto[, c(4,5,7,11,12)])\n",
    "\n",
    "Auto.data <- scale(Auto.data)\n",
    "Auto.data <- cbind(rep(1,nrow(Auto.data)),Auto.data)\n"
   ]
  },
  {
   "cell_type": "code",
   "execution_count": 8,
   "metadata": {},
   "outputs": [],
   "source": [
    "#Task 3\n",
    "#splitting the data in two equal parts randomly as train and test sets.\n",
    "set.seed(2501)\n",
    "indexTrain <- sample(1:nrow(Auto.data), size = nrow(Auto.data)/2)\n",
    "X <- Auto.data[indexTrain,]\n",
    "X_test <- Auto.data[-indexTrain,]\n",
    "y <- Auto.label[indexTrain,1]\n",
    "y_test <- Auto.label[-indexTrain,1]"
   ]
  },
  {
   "cell_type": "code",
   "execution_count": 9,
   "metadata": {},
   "outputs": [
    {
     "name": "stdout",
     "output_type": "stream",
     "text": [
      "[1] \"Test vs Training MSE with learning rate as 0.001 and stopping rule as 10000\"\n"
     ]
    },
    {
     "data": {
      "text/plain": [
       "                   trainMSE\n",
       "testMSE             0.683673469387755\n",
       "  0.622448979591837                 1"
      ]
     },
     "metadata": {},
     "output_type": "display_data"
    }
   ],
   "source": [
    "#Task4\n",
    "# randomtheta is the initial theta in range [-0.7,0.7]\n",
    "set.seed(2501)\n",
    "randomtheta <- runif(ncol(X),min=(-0.7),max=0.7)\n",
    "\n",
    "# we find the theta using gradient descent function\n",
    "theta <- gradient_descent(sigmoid,X,y,randomtheta)\n",
    "\n",
    "# we find predZ , the probablity of 1 using sigmoid function\n",
    "#predZ <- sigmoid(X_test,theta)\n",
    "\n",
    "#find the actual value of predicted label\n",
    "pred <- logisticPred(X_test,theta)\n",
    "\n",
    "#the test MSE is calculated using MSE function defined above.\n",
    "testMSE<- MSE(pred,y_test)\n",
    "#also calculating the trainMSE with same parameters\n",
    "trainMSE <- MSE(logisticPred(X,theta),y)\n",
    "\n",
    "#table\n",
    "print(\"Test vs Training MSE with learning rate as 0.001 and stopping rule as 10000\")\n",
    "table(testMSE,trainMSE)"
   ]
  },
  {
   "cell_type": "code",
   "execution_count": 10,
   "metadata": {},
   "outputs": [
    {
     "name": "stdout",
     "output_type": "stream",
     "text": [
      "\n",
      "\n",
      " Test vs Training MSE with learning rate as  1e-04  and stopping rule as 10 \n",
      "\n",
      "                  trainMSE\n",
      "testMSE            0.224489795918367\n",
      "  0.48469387755102                 1\n",
      "\n",
      "\n",
      " Test vs Training MSE with learning rate as  1e-04  and stopping rule as 100 \n",
      "\n",
      "       trainMSE\n",
      "testMSE 0.158163265306122\n",
      "    0.5                 1\n",
      "\n",
      "\n",
      " Test vs Training MSE with learning rate as  1e-04  and stopping rule as 1000 \n",
      "\n",
      "                   trainMSE\n",
      "testMSE             0.11734693877551\n",
      "  0.530612244897959                1\n",
      "\n",
      "\n",
      " Test vs Training MSE with learning rate as  0.001  and stopping rule as 10 \n",
      "\n",
      "       trainMSE\n",
      "testMSE 0.158163265306122\n",
      "    0.5                 1\n",
      "\n",
      "\n",
      " Test vs Training MSE with learning rate as  0.001  and stopping rule as 100 \n",
      "\n",
      "                   trainMSE\n",
      "testMSE             0.11734693877551\n",
      "  0.530612244897959                1\n",
      "\n",
      "\n",
      " Test vs Training MSE with learning rate as  0.001  and stopping rule as 1000 \n",
      "\n",
      "                   trainMSE\n",
      "testMSE             0.107142857142857\n",
      "  0.540816326530612                 1\n"
     ]
    }
   ],
   "source": [
    "#lets try training model using different values of learning rate as 0.01 and stopping rules as 1000\n",
    " learning.rate <- c(0.0001,0.001)\n",
    " stopping.rule <- c(10,100,1000)\n",
    "\n",
    " for(i in learning.rate){\n",
    "     for(j in stopping.rule){\n",
    "        theta<- gradient_descent(sigmoid,X,y,i,j,randomtheta)\n",
    "#calculating test and training MSE\n",
    "        testMSE <- MSE(logisticPred(X_test,theta),y)\n",
    "        trainMSE <- MSE(logisticPred(X,theta),y)\n",
    "        cat(\"\\n\\n Test vs Training MSE with learning rate as \",i,\" and stopping rule as\", j, \"\\n\\n\")\n",
    "        print(table(testMSE,trainMSE))\n",
    "     }\n",
    "}\n",
    "\n"
   ]
  },
  {
   "cell_type": "code",
   "execution_count": 11,
   "metadata": {},
   "outputs": [],
   "source": [
    "#task 6\n",
    "#the best test MSE from above was with learning.rate as 0.0001 and stopping.rule as 10\n",
    "# we try to loop 100 times with random thetas every time and find the test MSE of them to plot a boxplot\n",
    "\n",
    "testMSE <- vector()\n",
    "for(i in 1:100){\n",
    "    #set.seed(Sys.time())\n",
    "    randomTheta<- runif(ncol(X),min=(-0.7),max=0.7)\n",
    "    theta<- gradient_descent(sigmoid,X,y,0.0001,10,randomtheta)\n",
    "    testMSE[i] <- MSE(logisticPred(X_test,theta),y)\n",
    "}"
   ]
  },
  {
   "cell_type": "code",
   "execution_count": 12,
   "metadata": {},
   "outputs": [
    {
     "data": {
      "image/png": "[encoded data removed]",
      "text/plain": [
       "Plot with title “Boxplot of test MSE with different random initial weights and \n",
       "learning rate as 0.0001 and \n",
       " stopping rule as 10”"
      ]
     },
     "metadata": {},
     "output_type": "display_data"
    }
   ],
   "source": [
    "boxplot(testMSE, ylab = \"Test MSE\",main=\"Boxplot of test MSE with different random initial weights and \\nlearning rate as 0.0001 and \\n stopping rule as 10\")"
   ]
  },
  {
   "cell_type": "markdown",
   "metadata": {},
   "source": [
    "the initial weights actually doesnt make any difference to the test MSE but the parameters like learning_rate and stopping_rule do make some difference in the MSE."
   ]
  }
 ],
 "metadata": {
  "kernelspec": {
   "display_name": "R 3.6",
   "language": "R",
   "name": "r-3.6"
  },
  "language_info": {
   "codemirror_mode": "r",
   "file_extension": ".r",
   "mimetype": "text/x-r-source",
   "name": "R",
   "pygments_lexer": "r",
   "version": "3.6.1"
  }
 },
 "nbformat": 4,
 "nbformat_minor": 5
}
