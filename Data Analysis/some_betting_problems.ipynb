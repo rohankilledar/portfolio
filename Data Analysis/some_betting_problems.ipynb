{
 "cells": [
  {
   "cell_type": "markdown",
   "metadata": {},
   "source": [
    "1) In a best of 9 frame snooker match between Player A and Player B, it is estimated that the probability for Player A to win the first frame is 55%. Using this information:\n",
    "a) estimate the probability for Player A to win the match,"
   ]
  },
  {
   "cell_type": "markdown",
   "metadata": {},
   "source": [
    "the probability of A winning first game is 55%\n",
    "We can assume for the remaining game the probability of A winning is Pa. We can assume it to be 50%\n",
    "To win the match A needs to win atleast 5 games out of 9.\n",
    "Therefore the probability of A winning = 0.55 + (Pa)**4"
   ]
  },
  {
   "cell_type": "code",
   "execution_count": 5,
   "metadata": {},
   "outputs": [
    {
     "name": "stdout",
     "output_type": "stream",
     "text": [
      "0.6125\n"
     ]
    }
   ],
   "source": [
    "Pa = 0.55 + 0.5**4 \n",
    "print(Pa)"
   ]
  },
  {
   "cell_type": "markdown",
   "metadata": {},
   "source": [
    "Hence, the probability of A winning an individual game is 61.25%"
   ]
  },
  {
   "cell_type": "markdown",
   "metadata": {},
   "source": [
    "b) estimate the probability for there to be at least 8 frames played in the match"
   ]
  },
  {
   "cell_type": "markdown",
   "metadata": {},
   "source": [
    "For atleast 8 games A or B needs to win atleast 4 games of which A winning first game has probability of 55%.\n",
    "\n",
    "some scenario. (AB) refers to any of them winning the game to win 5 games and win the match.\n",
    "AAAABBB(AB)\n",
    "AAABBBB(AB)\n",
    "AAAABBBB(AB)\n",
    "\n",
    "\n"
   ]
  },
  {
   "cell_type": "code",
   "execution_count": 28,
   "metadata": {},
   "outputs": [
    {
     "name": "stdout",
     "output_type": "stream",
     "text": [
      "the probability for there to be at least 8 frames played in the match 56%\n"
     ]
    }
   ],
   "source": [
    "eig = 0.55 + 0.5**3 * 0.5**4\n",
    "print(\"the probability for there to be at least 8 frames played in the match \" + str(round(round(eig,2)*100))+\"%\")\n"
   ]
  },
  {
   "cell_type": "markdown",
   "metadata": {},
   "source": [
    "c) what would be an appropriate level of odds (in decimal format) to offer for Player B to win the match.\n"
   ]
  },
  {
   "cell_type": "code",
   "execution_count": 17,
   "metadata": {},
   "outputs": [
    {
     "name": "stdout",
     "output_type": "stream",
     "text": [
      "an appropriate level of odds (in decimal format) to offer for Player B to win the match is 2.58\n"
     ]
    }
   ],
   "source": [
    "Pb = 1 - Pa\n",
    "\n",
    "WinStake = 1/Pb\n",
    "\n",
    "print(\"an appropriate level of odds (in decimal format) to offer for Player B to win the match is \" + str(round(WinStake,2)))"
   ]
  },
  {
   "cell_type": "markdown",
   "metadata": {},
   "source": [
    "2) In a football match between Team A and Team B, Team A is estimated to have a goals expectancy of 1.5 goals and Team B is estimated to have a goals expectancy of 1.25 goals. Using the Poisson Distribution:\n",
    "a) estimate the probability for Team A to win the match,"
   ]
  },
  {
   "cell_type": "code",
   "execution_count": 33,
   "metadata": {},
   "outputs": [
    {
     "name": "stdout",
     "output_type": "stream",
     "text": [
      "the probability for Team A to win the match is 44.22%\n"
     ]
    }
   ],
   "source": [
    "from scipy.stats import poisson\n",
    "teamA = 1.5\n",
    "teamB = 1.25\n",
    "\n",
    "teamAWins = 1- poisson.cdf(k = teamB, mu = teamA)\n",
    "print(\"the probability for Team A to win the match is \"+ \"{:.2f}\".format(teamAWins*100)+\"%\")"
   ]
  },
  {
   "cell_type": "markdown",
   "metadata": {},
   "source": [
    "estimate the probability for there to be at least 2.5 goals in the match"
   ]
  },
  {
   "cell_type": "code",
   "execution_count": null,
   "metadata": {},
   "outputs": [],
   "source": []
  },
  {
   "cell_type": "markdown",
   "metadata": {},
   "source": [
    " In a tennis match, the probability of Player A winning a given point on serve in the first game of the match is 0.52. Find the probability that Player B wins the first game, given player A is serving."
   ]
  },
  {
   "cell_type": "code",
   "execution_count": 34,
   "metadata": {},
   "outputs": [
    {
     "name": "stdout",
     "output_type": "stream",
     "text": [
      "0.48\n"
     ]
    }
   ],
   "source": [
    "Pa = 0.52\n",
    "\n",
    "Pb = 1 - Pa\n",
    "\n",
    "print(Pb)"
   ]
  }
 ],
 "metadata": {
  "interpreter": {
   "hash": "cd78fef2128015050713e82ca51c6520b11aee7c9ee8df750520bbbc7384cbaa"
  },
  "kernelspec": {
   "display_name": "Python 3.8.8 64-bit ('base': conda)",
   "name": "python3"
  },
  "language_info": {
   "codemirror_mode": {
    "name": "ipython",
    "version": 3
   },
   "file_extension": ".py",
   "mimetype": "text/x-python",
   "name": "python",
   "nbconvert_exporter": "python",
   "pygments_lexer": "ipython3",
   "version": "3.8.8"
  },
  "orig_nbformat": 4
 },
 "nbformat": 4,
 "nbformat_minor": 2
}
