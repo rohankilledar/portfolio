{
 "cells": [
  {
   "cell_type": "markdown",
   "metadata": {},
   "source": [
    "Name: Rohan Killedar\n",
    "Student Number: 100954251"
   ]
  },
  {
   "cell_type": "markdown",
   "metadata": {},
   "source": [
    "As the alternate hypothesis is Ha>0.7, we will perform a right sided tail test"
   ]
  },
  {
   "cell_type": "code",
   "execution_count": 1,
   "metadata": {},
   "outputs": [
    {
     "name": "stdout",
     "output_type": "stream",
     "text": [
      "1.729132811521367\n"
     ]
    }
   ],
   "source": [
    "import numpy as np\n",
    "from scipy import stats\n",
    "import matplotlib.pyplot as plt\n",
    "%matplotlib inline\n",
    "\n",
    "p=0.7\n",
    "alpha=0.05\n",
    "n=20\n",
    "\n",
    "std_dev = np.sqrt(n*p*(1-p))\n",
    "\n",
    "#critical value under H0 for right sided tail test\n",
    "t_alpha = stats.t.ppf(q=1-alpha,df = n-1)\n",
    "print(t_alpha)"
   ]
  },
  {
   "cell_type": "code",
   "execution_count": 2,
   "metadata": {},
   "outputs": [],
   "source": [
    "p_true = np.arange(0.7,1,0.01)"
   ]
  },
  {
   "cell_type": "code",
   "execution_count": 3,
   "metadata": {},
   "outputs": [],
   "source": [
    "def right_sided_t_power(p_true,p,st_dev, n, alpha):\n",
    "    t_alpha = stats.t.ppf(q=1-alpha,df=n-1)\n",
    "    delta = (p_true - p)/(st_dev/np.sqrt(n))\n",
    "    return 1-stats.t(n-1).cdf(t_alpha-delta)\n"
   ]
  },
  {
   "cell_type": "code",
   "execution_count": 4,
   "metadata": {},
   "outputs": [
    {
     "data": {
      "image/png": "[encoded data removed]",
      "text/plain": [
       "<Figure size 432x288 with 1 Axes>"
      ]
     },
     "metadata": {
      "needs_background": "light"
     },
     "output_type": "display_data"
    }
   ],
   "source": [
    "t_power_vec = np.vectorize(right_sided_t_power)\n",
    "plt.plot(p_true,t_power_vec(p_true,p,std_dev,n,alpha))\n",
    "plt.show()"
   ]
  },
  {
   "cell_type": "code",
   "execution_count": null,
   "metadata": {},
   "outputs": [],
   "source": []
  }
 ],
 "metadata": {
  "kernelspec": {
   "display_name": "Python 3",
   "language": "python",
   "name": "python3"
  },
  "language_info": {
   "codemirror_mode": {
    "name": "ipython",
    "version": 3
   },
   "file_extension": ".py",
   "mimetype": "text/x-python",
   "name": "python",
   "nbconvert_exporter": "python",
   "pygments_lexer": "ipython3",
   "version": "3.8.5"
  }
 },
 "nbformat": 4,
 "nbformat_minor": 4
}
