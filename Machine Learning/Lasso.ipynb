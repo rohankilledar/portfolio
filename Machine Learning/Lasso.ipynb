{
 "cells": [
  {
   "cell_type": "code",
   "execution_count": 1,
   "metadata": {},
   "outputs": [],
   "source": [
    "from sklearn.datasets import load_diabetes\n",
    "diabetes = load_diabetes()"
   ]
  },
  {
   "cell_type": "markdown",
   "metadata": {},
   "source": [
    "Loaded the diabetes dataset from sklearn datasets"
   ]
  },
  {
   "cell_type": "code",
   "execution_count": 2,
   "metadata": {},
   "outputs": [],
   "source": [
    "from sklearn.model_selection import train_test_split\n",
    "X_train , X_test, y_train, y_test = train_test_split(diabetes['data'], diabetes['target'], random_state = 2501)"
   ]
  },
  {
   "cell_type": "code",
   "execution_count": 3,
   "metadata": {},
   "outputs": [
    {
     "name": "stdout",
     "output_type": "stream",
     "text": [
      "The training R2 with default parameter is  0.37454569448410613\n",
      "The test R2 with default parameter is  0.3193506509873977\n"
     ]
    }
   ],
   "source": [
    "from sklearn.linear_model import Lasso\n",
    "lasso = Lasso().fit(X_train, y_train)\n",
    "train_r2 = lasso.score(X_train,y_train)\n",
    "test_r2 = lasso.score(X_test,y_test)\n",
    "print(\"The training R2 with default parameter is \", train_r2)\n",
    "print(\"The test R2 with default parameter is \", test_r2)"
   ]
  },
  {
   "cell_type": "markdown",
   "metadata": {},
   "source": [
    "This model uses 10 features. The name of these features are age, sex, body mass index (bmi), average blood\n",
    "pressure (bp), and six blood serum measurements ( s1, s2, s3, s4, s5, s6)"
   ]
  },
  {
   "cell_type": "code",
   "execution_count": 4,
   "metadata": {},
   "outputs": [],
   "source": [
    "import numpy as np\n",
    "diabetes_data = np.genfromtxt(\"diabetes.data\",usecols=np.arange(10),skip_header=1)\n",
    "diabetes_target = np.genfromtxt(\"diabetes.data\", usecols=10, dtype='int',skip_header=1)\n",
    "#diabetes = np.genfromtxt(\"diabetes.data\", names=True)"
   ]
  },
  {
   "cell_type": "code",
   "execution_count": 5,
   "metadata": {},
   "outputs": [],
   "source": [
    "X_train,X_test,y_train,y_test = train_test_split(diabetes_data, diabetes_target, random_state =2501)"
   ]
  },
  {
   "cell_type": "code",
   "execution_count": 6,
   "metadata": {},
   "outputs": [
    {
     "name": "stdout",
     "output_type": "stream",
     "text": [
      "The training R2 with default parameter on original diabetes dataset  is  0.5482880544177613\n",
      "The test R2 with default parameter on original diabetes dataset  is  0.41318465448011765\n"
     ]
    }
   ],
   "source": [
    "lasso = Lasso().fit(X_train, y_train)\n",
    "train_r2 = lasso.score(X_train,y_train)\n",
    "test_r2 = lasso.score(X_test,y_test)\n",
    "print(\"The training R2 with default parameter on original diabetes dataset  is \", train_r2)\n",
    "print(\"The test R2 with default parameter on original diabetes dataset  is \", test_r2)"
   ]
  },
  {
   "cell_type": "markdown",
   "metadata": {},
   "source": [
    "The training and test R2 seems better with the original diabetes dataset compared to the one from sklearn."
   ]
  },
  {
   "cell_type": "code",
   "execution_count": 7,
   "metadata": {},
   "outputs": [],
   "source": [
    "from sklearn.preprocessing import StandardScaler\n",
    "scaler = StandardScaler()\n",
    "\n",
    "scaler.fit(X_train)\n",
    "X_train_scaled = scaler.transform(X_train)\n",
    "X_test_scaled = scaler.transform(X_test)"
   ]
  },
  {
   "cell_type": "code",
   "execution_count": 8,
   "metadata": {},
   "outputs": [
    {
     "name": "stdout",
     "output_type": "stream",
     "text": [
      "The training R2 with default parameter and scaled data on original diabetes dataset is  0.5486303084923339\n",
      "The test R2 with default parameter and scaled data  on original diabetes dataset is  0.4142659260246696\n"
     ]
    }
   ],
   "source": [
    "lasso = Lasso().fit(X_train_scaled, y_train)\n",
    "train_r2 = lasso.score(X_train_scaled,y_train)\n",
    "test_r2 = lasso.score(X_test_scaled,y_test)\n",
    "print(\"The training R2 with default parameter and scaled data on original diabetes dataset is \", train_r2)\n",
    "print(\"The test R2 with default parameter and scaled data  on original diabetes dataset is \", test_r2)"
   ]
  },
  {
   "cell_type": "markdown",
   "metadata": {},
   "source": [
    "Current results are closer to item6 than item3. The expectation fails even though the data in item3 and item8 were normalised as data in item3 was normalised by mean centered and scaled by the standard deviation times `n_samples` and data in item8 was normalised using StandardScaler that scale the features by removing the mean and scaling to unit variance."
   ]
  },
  {
   "cell_type": "code",
   "execution_count": 9,
   "metadata": {},
   "outputs": [
    {
     "data": {
      "image/png": "[encoded data removed]",
      "text/plain": [
       "<Figure size 432x288 with 1 Axes>"
      ]
     },
     "metadata": {
      "needs_background": "light"
     },
     "output_type": "display_data"
    }
   ],
   "source": [
    "%matplotlib inline\n",
    "import matplotlib.pyplot as plt\n",
    "\n",
    "values = [0.0001,0.001,0.01,0.1,1,10,25]\n",
    "r2 = list()\n",
    "num_coef = list()\n",
    "for a in values:\n",
    "    \n",
    "    lasso = Lasso(alpha = a).fit(X_train_scaled, y_train)\n",
    "    test_r2 = lasso.score(X_test_scaled,y_test)\n",
    "    r2.append(test_r2)\n",
    "    num_coef.append(np.sum(lasso.coef_ != 0))\n",
    "\n",
    "# print(values)\n",
    "# print(r2)\n",
    "# print(num_coef)\n",
    "\n",
    "# print(num_coef)\n",
    "# lasso.coef_\n",
    "plt.title(\"R2 vs Number of features\")\n",
    "plt.xlabel(\"R2\")  \n",
    "plt.ylabel(\"Number of features\")\n",
    "plt.plot(r2,num_coef)\n",
    "plt.grid()\n",
    "plt.show()"
   ]
  },
  {
   "cell_type": "markdown",
   "metadata": {},
   "source": [
    "Here we can chose the point with 8 number of coef as it has the best test r2(0.4133) value on the curve.\n",
    "Lets try using validation set to be sure."
   ]
  },
  {
   "cell_type": "code",
   "execution_count": 10,
   "metadata": {},
   "outputs": [
    {
     "data": {
      "image/png": "[encoded data removed]",
      "text/plain": [
       "<Figure size 432x288 with 1 Axes>"
      ]
     },
     "metadata": {
      "needs_background": "light"
     },
     "output_type": "display_data"
    }
   ],
   "source": [
    "X_train_pr , X_valid, y_train_pr, y_valid = train_test_split(X_train_scaled, y_train, random_state = 2501)\n",
    "#print(X_train_pr.shape[0], X_valid.shape[0],X_test.shape[0])\n",
    "values = [0.0001,0.001,0.01,0.1,1,10,25]\n",
    "r2 = list()\n",
    "num_coef = list()\n",
    "for a in values:\n",
    "    \n",
    "    lasso = Lasso(alpha = a).fit(X_train_pr, y_train_pr)\n",
    "    test_r2 = lasso.score(X_valid,y_valid)\n",
    "    r2.append(test_r2)\n",
    "    num_coef.append(np.sum(lasso.coef_ != 0))\n",
    "\n",
    "# print(values)\n",
    "# print(r2)\n",
    "# print(num_coef)\n",
    "\n",
    "# print(num_coef)\n",
    "# lasso.coef_\n",
    "plt.title(\"R2 vs Number of features\")\n",
    "plt.xlabel(\"R2\")  \n",
    "plt.ylabel(\"Number of features\")\n",
    "plt.plot(r2,num_coef)\n",
    "plt.grid()\n",
    "plt.show()"
   ]
  },
  {
   "cell_type": "markdown",
   "metadata": {},
   "source": [
    "Unlike the previous graph, this time the best point on graph is with 0.5146 test r2 and num of coef = 7. \n",
    "Lets try cross-validation on training set to find best parameter"
   ]
  },
  {
   "cell_type": "code",
   "execution_count": 11,
   "metadata": {},
   "outputs": [
    {
     "name": "stdout",
     "output_type": "stream",
     "text": [
      "The training r2 is  0.5556893257881077 , the test r2 is  0.4073393177934208 \n",
      " and the number of coefficient used are  10\n"
     ]
    }
   ],
   "source": [
    "from sklearn.model_selection import cross_val_score\n",
    "best_score = 0\n",
    "\n",
    "for a in values:\n",
    "    lasso = Lasso(alpha=a)\n",
    "    scores = cross_val_score(lasso, X_train, y_train, cv=5)\n",
    "    score = np.mean(scores)\n",
    "    if score > best_score:\n",
    "        best_score = score\n",
    "        best_alpha = a\n",
    "        \n",
    "lasso = Lasso(alpha= best_alpha).fit(X_train,y_train)\n",
    "train_r2 = lasso.score(X_train,y_train)\n",
    "test_r2 = lasso.score(X_test,y_test)\n",
    "num_coef = np.sum(lasso.coef_ != 0)\n",
    "\n",
    "print(\"The training r2 is \", train_r2, \", the test r2 is \", test_r2, \"\\n and the number of coefficient used are \",num_coef)\n"
   ]
  },
  {
   "cell_type": "markdown",
   "metadata": {},
   "source": [
    "Now, lets split the training set in training proper and validation set for inductive conformal predictor"
   ]
  },
  {
   "cell_type": "code",
   "execution_count": 12,
   "metadata": {},
   "outputs": [],
   "source": [
    "X_train,X_test,y_train,y_test = train_test_split(diabetes_data, diabetes_target, random_state =2501)\n",
    "X_train_pr, X_valid, y_train_pr, y_valid = train_test_split(X_train,y_train, test_size = 99, random_state = 2501)\n",
    "\n",
    "\n",
    "from sklearn.preprocessing import StandardScaler\n",
    "scaler = StandardScaler()\n",
    "scaler.fit(X_train_pr)\n",
    "X_train_pr_scaled = scaler.transform(X_train_pr)\n",
    "X_valid_scaled = scaler.transform(X_valid)\n",
    "X_test_scaled = scaler.transform(X_test)\n"
   ]
  },
  {
   "cell_type": "code",
   "execution_count": 13,
   "metadata": {},
   "outputs": [
    {
     "name": "stdout",
     "output_type": "stream",
     "text": [
      "The length of prediction interval for significance level 5% is  197.88906004454338\n",
      "the test error rate for 5% is  0.09909909909909909\n",
      "\n",
      "The length of prediction interval for significance level 20% is  66.01106567628909\n",
      "the test error rate for 20% is  0.5765765765765766\n"
     ]
    }
   ],
   "source": [
    "lasso = Lasso(alpha=best_alpha)\n",
    "lasso.fit(X_train_pr_scaled,y_train_pr)\n",
    "\n",
    "y_pred_train = lasso.predict(X_train_pr_scaled)\n",
    "\n",
    "y_pred_valid = lasso.predict(X_valid_scaled)\n",
    "y_pred_test = lasso.predict(X_test_scaled)\n",
    "\n",
    "#conf_valid = abs(y_valid - y_pred_valid)\n",
    "conf_valid = abs(y_train_pr - y_pred_train)\n",
    "np.sort(conf_valid)\n",
    "\n",
    "#for significance level 5%\n",
    "k= int(np.ceil((1-0.05)*(len(y_valid)+1)))\n",
    "interval= conf_valid[k]\n",
    "\n",
    "lower, upper = y_pred_test - interval , y_pred_test + interval\n",
    "\n",
    "print(\"The length of prediction interval for significance level 5% is \", 2*interval)\n",
    "#print(\"The interval set for significance level 5% is \", interval_set)\n",
    "\n",
    "def check(val,lower,upper):\n",
    "    if lower <= val <= upper:\n",
    "        return 1\n",
    "    else:\n",
    "        return 0\n",
    "\n",
    "def test_err(test_label, lower, upper,significance):\n",
    "    \n",
    "    val_in_range = [] # this list will store the number of correct predictions. [1,0,1,1,0,...] where 1 is for correct and 0 for incorrect\n",
    "    for i in range(len(lower)):\n",
    "        val_in_range.append(check(test_label[i],lower[i],upper[i]))\n",
    "\n",
    "    accuracy = np.sum(val_in_range)/len(lower) # sum of 1+0+1  # 2/3\n",
    "    print(\"the test error rate for \" + str(significance)+  \"% is \", 1-accuracy)\n",
    "#     return 1-accuracy\n",
    "\n",
    "test_err(y_test,lower,upper,5)\n",
    "\n",
    "# su = []\n",
    "# for i in range(len(lower)):\n",
    "#     su.append((lower[i],upper[i]))\n",
    "\n",
    "#for significance level 20%\n",
    "k_20 = int(np.ceil((1-0.2)*(len(y_valid)+1)))\n",
    "interval_20 = conf_valid[k_20]\n",
    "\n",
    "lower_20, upper_20 =  y_pred_test - interval_20 , y_pred_test + interval_20\n",
    "\n",
    "print(\"\\nThe length of prediction interval for significance level 20% is \", 2*interval_20)\n",
    "test_err(y_test,lower_20,upper_20,20)"
   ]
  }
 ],
 "metadata": {
  "kernelspec": {
   "display_name": "Python 3",
   "language": "python",
   "name": "python3"
  },
  "language_info": {
   "codemirror_mode": {
    "name": "ipython",
    "version": 3
   },
   "file_extension": ".py",
   "mimetype": "text/x-python",
   "name": "python",
   "nbconvert_exporter": "python",
   "pygments_lexer": "ipython3",
   "version": "3.8.5"
  }
 },
 "nbformat": 4,
 "nbformat_minor": 4
}
