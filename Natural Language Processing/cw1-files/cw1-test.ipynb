{
 "cells": [
  {
   "cell_type": "markdown",
   "metadata": {},
   "source": [
    "# Test Your Model\n",
    "The code below illustrates how to load the model trained and saved at notebook *cw1-train.ipynb*, and apply the loaded model to some test data. \n",
    "\n",
    "**REMARK 1**: You should adjust the code below according to what components you have saved and how you have saved them.\n",
    "\n",
    "**REMARK 2**: When we evaluate your model, we will use the code below (but replace the test data with some held-out data) to run the test. **Hence, make sure you can re-load your model with the code below.**"
   ]
  },
  {
   "cell_type": "code",
   "execution_count": 1,
   "metadata": {},
   "outputs": [],
   "source": [
    "import pickle\n",
    "\n",
    "# reload your model and use it to make predictions for test text\n",
    "# you should adjust the code so as to load to your saved model/components\n",
    "def test_trained_model(model_path, test_text):\n",
    "    saved_model_dic = pickle.load(open(model_path,\"rb\"))\n",
    "    saved_clf = saved_model_dic['model']\n",
    "    saved_vectorizer = saved_model_dic['vectorizer']\n",
    "    print(len(saved_vectorizer.vocabulary))\n",
    "    new_test_vecs = saved_vectorizer.fit_transform(test_text)\n",
    "    return saved_clf.predict(new_test_vecs)"
   ]
  },
  {
   "cell_type": "code",
   "execution_count": 2,
   "metadata": {},
   "outputs": [
    {
     "name": "stdout",
     "output_type": "stream",
     "text": [
      "test data size 5000\n",
      "1000\n",
      "acc 0.8616\n",
      "precision 0.8616043455692743\n",
      "rec 0.8615913854621674\n",
      "f1 0.8615956596398864\n"
     ]
    }
   ],
   "source": [
    "# load sample test data\n",
    "import pandas as pd\n",
    "test_data = pd.read_csv('coursework1_train.csv')\n",
    "test_text = test_data['text'].tolist()[-5000:]\n",
    "test_labels = test_data['sentiment'].tolist()[-5000:]\n",
    "\n",
    "print('test data size', len(test_labels))\n",
    "\n",
    "# test model\n",
    "from sklearn.metrics import precision_recall_fscore_support,accuracy_score\n",
    "new_test_pred = test_trained_model(\"sample_trained_model.pickle\", test_text)\n",
    "acc = accuracy_score(test_labels, new_test_pred)\n",
    "pre, rec, f1, _ = precision_recall_fscore_support(test_labels, new_test_pred, average='macro')\n",
    "print('acc', acc)\n",
    "print('precision', pre)\n",
    "print('rec', rec)\n",
    "print('f1', f1)"
   ]
  },
  {
   "cell_type": "code",
   "execution_count": null,
   "metadata": {},
   "outputs": [],
   "source": []
  }
 ],
 "metadata": {
  "kernelspec": {
   "display_name": "venv_nlp",
   "language": "python",
   "name": "venv_nlp"
  },
  "language_info": {
   "codemirror_mode": {
    "name": "ipython",
    "version": 3
   },
   "file_extension": ".py",
   "mimetype": "text/x-python",
   "name": "python",
   "nbconvert_exporter": "python",
   "pygments_lexer": "ipython3",
   "version": "3.7.7"
  }
 },
 "nbformat": 4,
 "nbformat_minor": 2
}
