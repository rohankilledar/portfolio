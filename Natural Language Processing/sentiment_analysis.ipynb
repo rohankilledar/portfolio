{
 "cells": [
  {
   "cell_type": "markdown",
   "source": [
    "# Train a Sentiment Analysis Classifier\n",
    "the code below builds a simple classifier that uses tf-idf to vectorize text and a logistic regression model to make predictions."
   ],
   "metadata": {
    "id": "5iNkoyd_p1dd"
   }
  },
  {
   "cell_type": "markdown",
   "source": [
    "# New Section"
   ],
   "metadata": {
    "id": "wLgNa2rjp9Wq"
   }
  },
  {
   "cell_type": "code",
   "execution_count": 1,
   "source": [
    "# load data and take a quick look\n",
    "\n",
    "# from google.colab import drive\n",
    "# drive.mount('/content/drive') path /content/drive/MyDrive/Royal Holloway AI/NLP/\n",
    "\n",
    "import pandas as pd\n",
    "filepath='data.csv'\n",
    "raw_data = pd.read_csv(filepath)\n",
    "\n",
    "raw_data.head()"
   ],
   "outputs": [
    {
     "output_type": "execute_result",
     "data": {
      "text/html": [
       "<div>\n",
       "<style scoped>\n",
       "    .dataframe tbody tr th:only-of-type {\n",
       "        vertical-align: middle;\n",
       "    }\n",
       "\n",
       "    .dataframe tbody tr th {\n",
       "        vertical-align: top;\n",
       "    }\n",
       "\n",
       "    .dataframe thead th {\n",
       "        text-align: right;\n",
       "    }\n",
       "</style>\n",
       "<table border=\"1\" class=\"dataframe\">\n",
       "  <thead>\n",
       "    <tr style=\"text-align: right;\">\n",
       "      <th></th>\n",
       "      <th>Unnamed: 0</th>\n",
       "      <th>text</th>\n",
       "      <th>sentiment</th>\n",
       "    </tr>\n",
       "  </thead>\n",
       "  <tbody>\n",
       "    <tr>\n",
       "      <th>0</th>\n",
       "      <td>0</td>\n",
       "      <td>Enjoy the opening credits. They're the best th...</td>\n",
       "      <td>neg</td>\n",
       "    </tr>\n",
       "    <tr>\n",
       "      <th>1</th>\n",
       "      <td>1</td>\n",
       "      <td>Well, the Sci-Fi channel keeps churning these ...</td>\n",
       "      <td>neg</td>\n",
       "    </tr>\n",
       "    <tr>\n",
       "      <th>2</th>\n",
       "      <td>2</td>\n",
       "      <td>It takes guts to make a movie on Gandhi in Ind...</td>\n",
       "      <td>pos</td>\n",
       "    </tr>\n",
       "    <tr>\n",
       "      <th>3</th>\n",
       "      <td>3</td>\n",
       "      <td>The Nest is really just another 'nature run am...</td>\n",
       "      <td>neg</td>\n",
       "    </tr>\n",
       "    <tr>\n",
       "      <th>4</th>\n",
       "      <td>4</td>\n",
       "      <td>Waco: Rules of Engagement does a very good job...</td>\n",
       "      <td>pos</td>\n",
       "    </tr>\n",
       "  </tbody>\n",
       "</table>\n",
       "</div>"
      ],
      "text/plain": [
       "   Unnamed: 0                                               text sentiment\n",
       "0           0  Enjoy the opening credits. They're the best th...       neg\n",
       "1           1  Well, the Sci-Fi channel keeps churning these ...       neg\n",
       "2           2  It takes guts to make a movie on Gandhi in Ind...       pos\n",
       "3           3  The Nest is really just another 'nature run am...       neg\n",
       "4           4  Waco: Rules of Engagement does a very good job...       pos"
      ]
     },
     "metadata": {},
     "execution_count": 1
    }
   ],
   "metadata": {
    "colab": {
     "base_uri": "https://localhost:8080/",
     "height": 242
    },
    "id": "zursStR4p1dh",
    "outputId": "8f4593bf-ac0a-4417-eb2e-6936d5b82389"
   }
  },
  {
   "cell_type": "code",
   "execution_count": 2,
   "source": [
    "# check the size of the data and its class distribution\n",
    "all_text = raw_data['text'].tolist()\n",
    "all_lables = raw_data['sentiment'].tolist()\n",
    "\n",
    "print('entry num', len(all_text))\n",
    "print('num of pos entries', len([l for l in all_lables if l=='pos']))\n",
    "print('num of neg entries', len([l for l in all_lables if l=='neg']))\n",
    "\n"
   ],
   "outputs": [
    {
     "output_type": "stream",
     "name": "stdout",
     "text": [
      "entry num 40000\n",
      "num of pos entries 20000\n",
      "num of neg entries 20000\n"
     ]
    }
   ],
   "metadata": {
    "colab": {
     "base_uri": "https://localhost:8080/"
    },
    "id": "_HpvwNN_p1dk",
    "outputId": "1a75da58-bedc-435c-dbec-3eb1b4ae4b06"
   }
  },
  {
   "cell_type": "code",
   "execution_count": 3,
   "source": [
    "# text cleaning and preprocessing:\n",
    "\n",
    "# Lower case all the text to avoid mismatch\n",
    "all_text = [words.lower() for words in all_text]\n",
    "\n",
    "#tokenizing the sentences into words using nltk word tokenizer \n",
    "import nltk\n",
    "#check if required resource is available or not and if not then install it.\n",
    "try:\n",
    "  nltk.data.find('tokenizers/punkt')\n",
    "except LookupError:\n",
    "  nltk.download('punkt')\n",
    "from nltk.tokenize import word_tokenize\n",
    "\n",
    "#list of tokenized words from the entire text list\n",
    "tokenized_sents = [word_tokenize(i) for i in all_text]\n"
   ],
   "outputs": [],
   "metadata": {
    "id": "RmklTStEp1dl"
   }
  },
  {
   "cell_type": "code",
   "execution_count": 4,
   "source": [
    "#lets see what we got\n",
    "tokenized_sents[0][:10]"
   ],
   "outputs": [
    {
     "output_type": "execute_result",
     "data": {
      "text/plain": [
       "['enjoy',\n",
       " 'the',\n",
       " 'opening',\n",
       " 'credits',\n",
       " '.',\n",
       " 'they',\n",
       " \"'re\",\n",
       " 'the',\n",
       " 'best',\n",
       " 'thing']"
      ]
     },
     "metadata": {},
     "execution_count": 4
    }
   ],
   "metadata": {}
  },
  {
   "cell_type": "markdown",
   "source": [
    "Now that we have tokenized the words, we can remove the stopwords and punctuation mark from them as they are not useful for computers/classifer"
   ],
   "metadata": {
    "id": "BqodNxg6ahJq"
   }
  },
  {
   "cell_type": "code",
   "execution_count": 5,
   "source": [
    "from nltk.corpus import stopwords\n",
    "import string\n",
    "nltk.download('stopwords')\n",
    "en_stopwords = stopwords.words('english')\n",
    "#adding some additional stopwords that we observed in text to list of stopwords \n",
    "new_stopwords = ['--','`',\"'\",'``', \"''\",\"'s\",'br','...',\"'re\"]\n",
    "en_stopwords.extend(new_stopwords)\n",
    "\n",
    "#clean text is a nested list of clean reviews \n",
    "clean_text = []\n",
    "\n",
    "for review in tokenized_sents:\n",
    "  tokenized_sents_wo_sw = [word for word in review if word not in en_stopwords and word not in string.punctuation]\n",
    "  clean_text.append(tokenized_sents_wo_sw)\n",
    "\n"
   ],
   "outputs": [
    {
     "output_type": "stream",
     "name": "stderr",
     "text": [
      "[nltk_data] Downloading package stopwords to\n",
      "[nltk_data]     /Users/rohankilledar/nltk_data...\n",
      "[nltk_data]   Package stopwords is already up-to-date!\n"
     ]
    }
   ],
   "metadata": {
    "colab": {
     "base_uri": "https://localhost:8080/"
    },
    "id": "tWw-fEGxuFht",
    "outputId": "56bccd65-bdb1-4afc-dc26-ae47a6977653"
   }
  },
  {
   "cell_type": "code",
   "execution_count": 6,
   "source": [
    "clean_text[0][:10]"
   ],
   "outputs": [
    {
     "output_type": "execute_result",
     "data": {
      "text/plain": [
       "['enjoy',\n",
       " 'opening',\n",
       " 'credits',\n",
       " 'best',\n",
       " 'thing',\n",
       " 'second-rate',\n",
       " 'inoffensive',\n",
       " 'time-killer',\n",
       " 'features',\n",
       " 'passable']"
      ]
     },
     "metadata": {},
     "execution_count": 6
    }
   ],
   "metadata": {}
  },
  {
   "cell_type": "markdown",
   "source": [
    "we can also lemmatize the words to find the basic form of word that means the same thing "
   ],
   "metadata": {
    "id": "tRJFf_YprjoR"
   }
  },
  {
   "cell_type": "code",
   "execution_count": 7,
   "source": [
    "from nltk.stem import WordNetLemmatizer\n",
    "#check if required resource is available or not and if not then install it.\n",
    "try:\n",
    "  nltk.data.find('corpora/wordnet')\n",
    "except LookupError:\n",
    "  nltk.download('wordnet')  \n",
    "lemmatizer = WordNetLemmatizer()\n",
    "\n",
    "lemmatized_clean_text=[] \n",
    "#all clean text is a list of all the words from all the reviews\n",
    "all_clean_text = []\n",
    "\n",
    "for review in clean_text:\n",
    "  lemm = [lemmatizer.lemmatize(word) for word in review]\n",
    "  lemmatized_clean_text.append(lemm)\n",
    "  all_clean_text.extend(lemm)"
   ],
   "outputs": [],
   "metadata": {
    "id": "Ij_ak6Fppx8C"
   }
  },
  {
   "cell_type": "code",
   "execution_count": 8,
   "source": [
    "lemmatized_clean_text[0][:10]"
   ],
   "outputs": [
    {
     "output_type": "execute_result",
     "data": {
      "text/plain": [
       "['enjoy',\n",
       " 'opening',\n",
       " 'credit',\n",
       " 'best',\n",
       " 'thing',\n",
       " 'second-rate',\n",
       " 'inoffensive',\n",
       " 'time-killer',\n",
       " 'feature',\n",
       " 'passable']"
      ]
     },
     "metadata": {},
     "execution_count": 8
    }
   ],
   "metadata": {}
  },
  {
   "cell_type": "markdown",
   "source": [
    "we can see it found the lemma of credits -> credit and features to feature, so its working fine!"
   ],
   "metadata": {}
  },
  {
   "cell_type": "markdown",
   "source": [
    "Let's make a function of this preprocessing of data for easier use later."
   ],
   "metadata": {
    "id": "xJGpnSpbMKCa"
   }
  },
  {
   "cell_type": "code",
   "execution_count": 9,
   "source": [
    "def preprocessing(sentence, stopwords_list = en_stopwords, lemma = lemmatizer):\n",
    "  clean_word = []\n",
    "  for word in sentence:\n",
    "    word = word.lower()\n",
    "    if word not in stopwords_list and word not in string.punctuation:\n",
    "      clean_word.append(lemma.lemmatize(word))\n",
    "  return clean_word"
   ],
   "outputs": [],
   "metadata": {
    "id": "yy5w5UwAJdCX"
   }
  },
  {
   "cell_type": "code",
   "execution_count": 10,
   "source": [
    "cw=preprocessing(tokenized_sents[0])\n",
    "cw[:10]"
   ],
   "outputs": [
    {
     "output_type": "execute_result",
     "data": {
      "text/plain": [
       "['enjoy',\n",
       " 'opening',\n",
       " 'credit',\n",
       " 'best',\n",
       " 'thing',\n",
       " 'second-rate',\n",
       " 'inoffensive',\n",
       " 'time-killer',\n",
       " 'feature',\n",
       " 'passable']"
      ]
     },
     "metadata": {},
     "execution_count": 10
    }
   ],
   "metadata": {
    "id": "qqwHxjcJKwEt",
    "scrolled": true
   }
  },
  {
   "cell_type": "markdown",
   "source": [
    "So our function works as expected and provides the same output"
   ],
   "metadata": {}
  },
  {
   "cell_type": "markdown",
   "source": [
    "Lets have a visual look at how our list of words look using wordcloud"
   ],
   "metadata": {
    "id": "qz9VvbGS9nFb"
   }
  },
  {
   "cell_type": "code",
   "execution_count": 11,
   "source": [
    "!pip install wordcloud"
   ],
   "outputs": [
    {
     "output_type": "stream",
     "name": "stdout",
     "text": [
      "Collecting wordcloud\n",
      "  Downloading wordcloud-1.8.1.tar.gz (220 kB)\n",
      "\u001b[K     |████████████████████████████████| 220 kB 1.7 MB/s \n",
      "\u001b[?25hRequirement already satisfied: numpy>=1.6.1 in /Applications/anaconda3/lib/python3.8/site-packages (from wordcloud) (1.20.1)\n",
      "Requirement already satisfied: pillow in /Applications/anaconda3/lib/python3.8/site-packages (from wordcloud) (8.2.0)\n",
      "Requirement already satisfied: matplotlib in /Applications/anaconda3/lib/python3.8/site-packages (from wordcloud) (3.3.4)\n",
      "Requirement already satisfied: python-dateutil>=2.1 in /Applications/anaconda3/lib/python3.8/site-packages (from matplotlib->wordcloud) (2.8.1)\n",
      "Requirement already satisfied: kiwisolver>=1.0.1 in /Applications/anaconda3/lib/python3.8/site-packages (from matplotlib->wordcloud) (1.3.1)\n",
      "Requirement already satisfied: cycler>=0.10 in /Applications/anaconda3/lib/python3.8/site-packages (from matplotlib->wordcloud) (0.10.0)\n",
      "Requirement already satisfied: pyparsing!=2.0.4,!=2.1.2,!=2.1.6,>=2.0.3 in /Applications/anaconda3/lib/python3.8/site-packages (from matplotlib->wordcloud) (2.4.7)\n",
      "Requirement already satisfied: six in /Applications/anaconda3/lib/python3.8/site-packages (from cycler>=0.10->matplotlib->wordcloud) (1.15.0)\n",
      "Building wheels for collected packages: wordcloud\n",
      "  Building wheel for wordcloud (setup.py) ... \u001b[?25ldone\n",
      "\u001b[?25h  Created wheel for wordcloud: filename=wordcloud-1.8.1-cp38-cp38-macosx_10_9_x86_64.whl size=158420 sha256=d9285874f12b4d710e9327d80090bf406d1285aeb34571c9c26648430ffabaf3\n",
      "  Stored in directory: /Users/rohankilledar/Library/Caches/pip/wheels/4d/3f/0d/a2ba9b7895c9f1be89018b3141c3df3d4f9c786c882ccfbc3b\n",
      "Successfully built wordcloud\n",
      "Installing collected packages: wordcloud\n",
      "Successfully installed wordcloud-1.8.1\n"
     ]
    }
   ],
   "metadata": {}
  },
  {
   "cell_type": "code",
   "execution_count": 12,
   "source": [
    "from wordcloud import WordCloud \n",
    "import matplotlib.pyplot as plt\n",
    "# Create and generate a word cloud image:\n",
    "wordcloud = WordCloud().generate((\" \").join(all_clean_text))\n",
    "\n",
    "# Display the generated image:\n",
    "plt.imshow(wordcloud, interpolation='bilinear')\n",
    "plt.axis(\"off\")\n",
    "plt.show()"
   ],
   "outputs": [
    {
     "output_type": "display_data",
     "data": {
      "image/png": "[encoded data removed]",
      "text/plain": [
       "<Figure size 432x288 with 1 Axes>"
      ]
     },
     "metadata": {
      "needs_background": "light"
     }
    }
   ],
   "metadata": {
    "colab": {
     "base_uri": "https://localhost:8080/",
     "height": 198
    },
    "id": "qct1bPBCq1i5",
    "outputId": "0866b39c-3b49-405a-c964-4be3d418ed37"
   }
  },
  {
   "cell_type": "markdown",
   "source": [
    "now that we have the clean data, we can do some analysis of the data."
   ],
   "metadata": {
    "id": "xt6TrSajafi0"
   }
  },
  {
   "cell_type": "code",
   "execution_count": 13,
   "source": [
    "from nltk import FreqDist\n",
    "# i figured some stopwords using this and removed them in the previous step, I think We can use this before removing stopwords to find more stopwords\n",
    "all_words_frequency = FreqDist(all_clean_text)\n",
    "all_words_frequency.most_common(15)\n"
   ],
   "outputs": [
    {
     "output_type": "execute_result",
     "data": {
      "text/plain": [
       "[('movie', 79890),\n",
       " ('film', 72054),\n",
       " (\"n't\", 52856),\n",
       " ('one', 42797),\n",
       " ('like', 32008),\n",
       " ('time', 23588),\n",
       " ('good', 23165),\n",
       " ('character', 22278),\n",
       " ('would', 21196),\n",
       " ('even', 19801),\n",
       " ('story', 19455),\n",
       " ('get', 19439),\n",
       " ('see', 18862),\n",
       " ('make', 18753),\n",
       " ('really', 18373)]"
      ]
     },
     "metadata": {},
     "execution_count": 13
    }
   ],
   "metadata": {
    "colab": {
     "base_uri": "https://localhost:8080/"
    },
    "id": "J8iyFXULmtYj",
    "outputId": "2ec36de4-7a39-46f1-8e36-b55b8ca9650a"
   }
  },
  {
   "cell_type": "code",
   "execution_count": 14,
   "source": [
    "print(\"Total number of unique words: \"+ str(len(all_words_frequency)))\n",
    "# get 2000 frequently occuring words\n",
    "most_common_words = all_words_frequency.most_common(2000)\n",
    "word_features = [item[0] for item in most_common_words]\n",
    "print (word_features[:10])"
   ],
   "outputs": [
    {
     "output_type": "stream",
     "name": "stdout",
     "text": [
      "Total number of unique words: 136251\n",
      "['movie', 'film', \"n't\", 'one', 'like', 'time', 'good', 'character', 'would', 'even']\n"
     ]
    }
   ],
   "metadata": {
    "colab": {
     "base_uri": "https://localhost:8080/"
    },
    "id": "iG8rDPpOoaTd",
    "outputId": "9274e618-818e-4ae1-df40-4efe85ac2553"
   }
  },
  {
   "cell_type": "markdown",
   "source": [
    "lets use bag of words to create feature set for our Naive Bayese classifier"
   ],
   "metadata": {
    "id": "3ryTwzGS50mR"
   }
  },
  {
   "cell_type": "code",
   "execution_count": 16,
   "source": [
    "from nltk import ngrams\n",
    "\n",
    "# feature extractor function for unigram\n",
    "def bag_of_words(words):\t\n",
    "\twords_dictionary = dict([word, True] for word in words)\t\n",
    "\treturn words_dictionary\n",
    "\n",
    "\n",
    "#when using bi-grams, there are some stopwords that makes sense in a sentence in context to other words like \"It was a very good movie\"\n",
    "#stopword 'very' is important for bigram so lets use a different set of stopwords for bigram\n",
    "\n",
    "en_stopwords_for_bigram = set(en_stopwords) - {'very','over','under','above','below','more','less','no','nor','not','never','only'}\n",
    "\n",
    "# feature extractor function for ngrams (unigram)\n",
    "def bag_of_ngrams(words, n=2):\n",
    "\twords_ng = []\n",
    "\tfor item in iter(ngrams(words, n)):\n",
    "\t\twords_ng.append(item)\n",
    "\twords_dictionary = dict([word, True] for word in words_ng)\t\n",
    "\treturn words_dictionary\n",
    "\n",
    " #  let's define a new function that extracts all features\n",
    "# i.e. that extracts both unigram and bigrams features\n",
    "def bag_of_all_words(words, n=2):\n",
    "\twords_clean = preprocessing(words, en_stopwords)\n",
    "\twords_clean_for_bigrams = preprocessing(words, en_stopwords_for_bigram)\n",
    "\n",
    "\tunigram_features = bag_of_words(words_clean)\n",
    "\tbigram_features = bag_of_ngrams(words_clean_for_bigrams)\n",
    "\n",
    "\tall_features = unigram_features.copy()\n",
    "\tall_features.update(bigram_features)\n",
    "\n",
    "\treturn all_features"
   ],
   "outputs": [],
   "metadata": {
    "id": "W7-q3QZKqq0j"
   }
  },
  {
   "cell_type": "code",
   "execution_count": null,
   "source": [
    "# bag_of_words(preprocessing(tokenized_sents[0]))\n",
    "# bag_of_ngrams(preprocessing(tokenized_sents[0]))\n",
    "# bag_of_all_words(preprocessing(tokenized_sents[0]))"
   ],
   "outputs": [],
   "metadata": {
    "id": "rAPbF3BbXpKT"
   }
  },
  {
   "cell_type": "markdown",
   "source": [
    "The following train test split tries to keep the positive and negative reviews in same proportion to avoid class imbalance\n"
   ],
   "metadata": {
    "id": "cp848CjCwmtk"
   }
  },
  {
   "cell_type": "code",
   "execution_count": 17,
   "source": [
    "pos_r = raw_data.loc[raw_data['sentiment'] == 'pos']\n",
    "pos_review=pos_r['text'].tolist()\n",
    "\n",
    "neg_r = raw_data.loc[raw_data['sentiment'] == 'neg']\n",
    "neg_review=neg_r['text'].tolist()\n",
    "\n",
    "train_text = pos_review[:15000]+neg_review[:15000]\n",
    "train_label = ['pos' for n in range(len(pos_review[:15000]))] + ['neg' for n in range(len(neg_review[:15000]))]\n",
    "test_text = pos_review[15000:]+neg_review[15000:]\n",
    "test_label = ['pos' for n in range(len(pos_review[15000:]))] + ['neg' for n in range(len(neg_review[15000:]))]\n"
   ],
   "outputs": [],
   "metadata": {
    "id": "AlYR6AzdC0IJ"
   }
  },
  {
   "cell_type": "code",
   "execution_count": 18,
   "source": [
    "# positive reviews feature set\n",
    "pos_review_set = []\n",
    "for words in pos_review:\n",
    "\tpos_review_set.append((bag_of_all_words(word_tokenize(words.replace(\".\", \" \"))), 'pos'))\n",
    " \n",
    " #after tokenizing and preprocessing data, I figured the .(dot) is not getting tokenized \n",
    " #and joining few words like watch.brilliant and wrong.this\n",
    "\n",
    "# # negative reviews feature set\n",
    "neg_review_set = []\n",
    "for words in neg_review:\n",
    "\tneg_review_set.append((bag_of_all_words(word_tokenize(words.replace(\".\",\" \"))), 'neg'))"
   ],
   "outputs": [],
   "metadata": {
    "id": "5mK-ukjUqrYw"
   }
  },
  {
   "cell_type": "markdown",
   "source": [
    "We have 20000 positive and 20000 negative review each. We can divide them in the ratio of 70:30 for training and testing dataset."
   ],
   "metadata": {
    "id": "C0g81CqAL6iF"
   }
  },
  {
   "cell_type": "code",
   "execution_count": 19,
   "source": [
    "train_set = pos_review_set[:14000] + neg_review_set[:14000]\n",
    "test_set = pos_review_set[14000:] + neg_review_set[14000:]"
   ],
   "outputs": [],
   "metadata": {
    "id": "Zv1Ngzsz8HUW"
   }
  },
  {
   "cell_type": "markdown",
   "source": [
    "Now that we have our training and test set of all positive and negative feature set, we can apply classifier to it"
   ],
   "metadata": {
    "id": "l8-RdWjcMrbp"
   }
  },
  {
   "cell_type": "code",
   "execution_count": 21,
   "source": [
    "from nltk import classify\n",
    "from nltk import NaiveBayesClassifier\n",
    "import nltk.metrics as met\n",
    "\n",
    "#initializing the classifier object\n",
    "NBclassifier = NaiveBayesClassifier.train(train_set)\n",
    "\n",
    "accuracy = classify.accuracy(NBclassifier,test_set)\n",
    "print(\"acc \"+ str(accuracy))\n",
    "\n",
    "#we can check the most informative features that the classifier determined to label the test set\n",
    "#print(NBclassifier.show_most_informative_features(10))\n"
   ],
   "outputs": [
    {
     "output_type": "stream",
     "name": "stdout",
     "text": [
      "acc 0.8860833333333333\n"
     ]
    }
   ],
   "metadata": {
    "colab": {
     "base_uri": "https://localhost:8080/"
    },
    "id": "vciiPQWKac-j",
    "outputId": "134bdc90-afe2-477e-cc5b-a10b31ebf1a2"
   }
  },
  {
   "cell_type": "markdown",
   "source": [
    "Let's test our classifier using some custom reviews"
   ],
   "metadata": {
    "id": "2l2QeyuVcH6w"
   }
  },
  {
   "cell_type": "code",
   "execution_count": 22,
   "source": [
    "#test_review = word_tokenize(neg_review[5].replace(\".\",\" \"))\n",
    "custom_review1 = \"Captain America getting Thor's hammer was the highlight of the movie and it was shocking and surprising\"\n",
    "test_review1 = word_tokenize(custom_review1)\n",
    "test_review_set1 = bag_of_all_words(test_review1)\n",
    "print(\"Custom Review1: \"+custom_review1)\n",
    "print(NBclassifier.classify(test_review_set1))\n",
    "\n",
    "#custom_review2 = \" the movie was a bit off and too obvious\"\n",
    "#custom_review2= test_text[7]\n",
    "custom_review2=\"I was not able to take off my eyes all the time. It kept me hooked for a long time. I was also googling things about it after it was over\"\n",
    "test_review2 = word_tokenize(custom_review2)\n",
    "test_review_set2 = bag_of_all_words(test_review2)\n",
    "print(\"Custom Review2: \"+custom_review2)\n",
    "print(NBclassifier.classify(test_review_set2))\n",
    "\n",
    "custom_review3=\"This was not a good movie at all. It was long and very dull.\"\n",
    "test_review3 = word_tokenize(custom_review3)\n",
    "test_review_set3 = bag_of_all_words(test_review3)\n",
    "print(\"Custom Review2: \"+custom_review3)\n",
    "print(NBclassifier.classify(test_review_set3))\n",
    "\n"
   ],
   "outputs": [
    {
     "output_type": "stream",
     "name": "stdout",
     "text": [
      "Custom Review1: Captain America getting Thor's hammer was the highlight of the movie and it was shocking and surprising\n",
      "pos\n",
      "Custom Review2: I was not able to take off my eyes all the time. It kept me hooked for a long time. I was also googling things about it after it was over\n",
      "pos\n",
      "Custom Review2: This was not a good movie at all. It was long and very dull.\n",
      "neg\n"
     ]
    }
   ],
   "metadata": {
    "colab": {
     "base_uri": "https://localhost:8080/"
    },
    "id": "udoiXNKZYjLd",
    "outputId": "c6e7135c-91de-41b7-f104-47f976bdf02e"
   }
  },
  {
   "cell_type": "markdown",
   "source": [
    "using the above code, Lets make a function that gives the predicted values, in our case sentiments using our classifier"
   ],
   "metadata": {
    "id": "sW6QXfbXrW0m"
   }
  },
  {
   "cell_type": "code",
   "execution_count": 23,
   "source": [
    "def predict(test_text):\n",
    "  test_pred = []\n",
    "  for review in test_text:\n",
    "    test_review_token = word_tokenize(review.replace(\".\",\" \"))\n",
    "    test_review_set = bag_of_all_words(test_review_token)\n",
    "    test_pred.append(NBclassifier.classify(test_review_set))\n",
    "  return test_pred\n"
   ],
   "outputs": [],
   "metadata": {
    "id": "B_NP8ZqSo9_n"
   }
  },
  {
   "cell_type": "markdown",
   "source": [
    "now we can use all of the functions we made to get the test accuracy for the test_set we created without the labels with 75:25 split of train:test "
   ],
   "metadata": {}
  },
  {
   "cell_type": "code",
   "execution_count": 24,
   "source": [
    "test_pred=predict(test_text)\n",
    "\n",
    "from sklearn.metrics import precision_recall_fscore_support,accuracy_score\n",
    "acc= accuracy_score(test_pred,test_label)\n",
    "pre,rec,f1,_ = precision_recall_fscore_support(test_label,test_pred,average='macro')\n",
    "print(\"acc \", acc)\n",
    "print(\"precision \",pre)\n",
    "print(\"rec \", rec)\n",
    "print(\"f1  \",f1)"
   ],
   "outputs": [
    {
     "output_type": "stream",
     "name": "stdout",
     "text": [
      "acc  0.887\n",
      "precision  0.8870356692072741\n",
      "rec  0.887\n",
      "f1   0.8869973964200134\n"
     ]
    }
   ],
   "metadata": {
    "colab": {
     "base_uri": "https://localhost:8080/"
    },
    "id": "iaGptgIorF5X",
    "outputId": "103f659d-f789-4b19-9d1b-aa986045e849"
   }
  },
  {
   "cell_type": "markdown",
   "source": [
    "To use these functions we need to create a class as we would use pickle to store the object of that class"
   ],
   "metadata": {}
  },
  {
   "cell_type": "code",
   "execution_count": 25,
   "source": [
    "class cw1:\n",
    "    from nltk.corpus import stopwords\n",
    "    import string\n",
    "    from nltk.stem import WordNetLemmatizer\n",
    "    from nltk.tokenize import word_tokenize\n",
    "    lemmatizer =WordNetLemmatizer()\n",
    "    en_stopwords = stopwords.words('english')\n",
    "  \n",
    "    def preprocessing(self,sentence, stopwords_list = en_stopwords, lemma = lemmatizer):\n",
    "        clean_word = []\n",
    "        for word in sentence:\n",
    "            word = word.lower()\n",
    "            if word not in stopwords_list and word not in string.punctuation:\n",
    "                clean_word.append(lemma.lemmatize(word))\n",
    "        return clean_word\n",
    "    \n",
    "    from nltk import ngrams\n",
    "\n",
    "# feature extractor function for unigram\n",
    "    def bag_of_words(self,words):\t\n",
    "        words_dictionary = dict([word, True] for word in words)\t\n",
    "        return words_dictionary\n",
    "\n",
    "\n",
    "#when using bi-grams, there are some stopwords that makes sense in a sentence in context to other words like \"It was a very good movie\"\n",
    "#stopword 'very' is important for bigram so lets use a different set of stopwords for bigram\n",
    "\n",
    "    en_stopwords_for_bigram = set(en_stopwords) - {'very','over','under','above','below','more','less','no','nor','not','never','only'}\n",
    "\n",
    "# feature extractor function for ngrams (unigram)\n",
    "    def bag_of_ngrams(self,words, n=2):\n",
    "        words_ng = []\n",
    "        for item in iter(ngrams(words, n)):\n",
    "            words_ng.append(item)\n",
    "        words_dictionary = dict([word, True] for word in words_ng)\t\n",
    "        return words_dictionary\n",
    "\n",
    " #  let's define a new function that extracts all features\n",
    "# i.e. that extracts both unigram and bigrams features\n",
    "    def bag_of_all_words(self,words, n=2):\n",
    "        words_clean = preprocessing(words, en_stopwords)\n",
    "        words_clean_for_bigrams = preprocessing(words, en_stopwords_for_bigram)\n",
    "\n",
    "        unigram_features = bag_of_words(words_clean)\n",
    "        bigram_features = bag_of_ngrams(words_clean_for_bigrams)\n",
    "\n",
    "        all_features = unigram_features.copy()\n",
    "        all_features.update(bigram_features)\n",
    "\n",
    "        return all_features\n",
    "\n",
    "    def predict(self,test_text,classifier = NBclassifier):\n",
    "        test_pred = []\n",
    "        for review in test_text:\n",
    "            test_review_token = word_tokenize(review.replace(\".\",\" \"))\n",
    "            test_review_set = bag_of_all_words(test_review_token)\n",
    "            test_pred.append(classifier.classify(test_review_set))\n",
    "        return test_pred\n",
    "\n",
    "cw1object = cw1()\n",
    "cw1object.predict(test_text[0:10])"
   ],
   "outputs": [
    {
     "output_type": "execute_result",
     "data": {
      "text/plain": [
       "['pos', 'neg', 'pos', 'pos', 'pos', 'pos', 'pos', 'pos', 'pos', 'pos']"
      ]
     },
     "metadata": {},
     "execution_count": 25
    }
   ],
   "metadata": {}
  },
  {
   "cell_type": "markdown",
   "source": [
    "When the classifier was trained using unigram features the accuracy was less compared to the combined feature set.\n"
   ],
   "metadata": {
    "id": "zRJgAiyrZAgP"
   }
  },
  {
   "cell_type": "markdown",
   "source": [
    "Another way to do this was using TF-IDF and logistic method :\n"
   ],
   "metadata": {
    "id": "Nb7bsZ55uAqB"
   }
  },
  {
   "cell_type": "code",
   "execution_count": 26,
   "source": [
    "# data split. \n",
    "# Feel free to use differnt ratios or strategies to split the data.\n",
    "train_text = all_text[:35000]\n",
    "train_labels = all_lables[:35000]\n",
    "test_text = all_text[35000:]\n",
    "test_labels = all_lables[35000:]"
   ],
   "outputs": [],
   "metadata": {
    "id": "lKzOnACFp1dl"
   }
  },
  {
   "cell_type": "code",
   "execution_count": 27,
   "source": [
    "# training: tf-idf + logistic regression\n",
    "# you should explore different representations and algorithms.\n",
    "from sklearn.feature_extraction.text import TfidfVectorizer\n",
    "max_feature_num = 1000\n",
    "train_vectorizer = TfidfVectorizer(max_features=max_feature_num)\n",
    "train_vecs = train_vectorizer.fit_transform(train_text)\n",
    "test_vecs = TfidfVectorizer(max_features=max_feature_num,vocabulary=train_vectorizer.vocabulary_).fit_transform(test_text)\n",
    "\n",
    "# train model\n",
    "from sklearn.linear_model import LogisticRegression\n",
    "clf = LogisticRegression().fit(train_vecs, train_labels)\n",
    "\n",
    "# test model\n",
    "test_pred = clf.predict(test_vecs)\n",
    "from sklearn.metrics import precision_recall_fscore_support,accuracy_score\n",
    "acc = accuracy_score(test_labels, test_pred)\n",
    "pre, rec, f1, _ = precision_recall_fscore_support(test_labels, test_pred, average='macro')\n",
    "print('acc', acc)\n",
    "print('precision', pre)\n",
    "print('rec', rec)\n",
    "print('f1', f1)"
   ],
   "outputs": [
    {
     "output_type": "stream",
     "name": "stdout",
     "text": [
      "acc 0.8616\n",
      "precision 0.8616043455692743\n",
      "rec 0.8615913854621674\n",
      "f1 0.8615956596398864\n"
     ]
    }
   ],
   "metadata": {
    "colab": {
     "base_uri": "https://localhost:8080/"
    },
    "id": "CbmtQIrVp1dm",
    "outputId": "c623a094-a0b3-4869-b40d-d28f138705b5"
   }
  }
 ],
 "metadata": {
  "colab": {
   "collapsed_sections": [],
   "name": "cw1-train.ipynb",
   "provenance": []
  },
  "kernelspec": {
   "name": "python3",
   "display_name": "Python 3.8.8 64-bit ('base': conda)"
  },
  "language_info": {
   "codemirror_mode": {
    "name": "ipython",
    "version": 3
   },
   "file_extension": ".py",
   "mimetype": "text/x-python",
   "name": "python",
   "nbconvert_exporter": "python",
   "pygments_lexer": "ipython3",
   "version": "3.8.8"
  },
  "interpreter": {
   "hash": "344443636c3027c5042750c9c609acdda283a9c43681b128a8c1053e7ad2aa7d"
  }
 },
 "nbformat": 4,
 "nbformat_minor": 1
}