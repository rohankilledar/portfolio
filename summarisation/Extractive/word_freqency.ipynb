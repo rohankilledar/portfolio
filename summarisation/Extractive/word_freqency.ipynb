{
 "cells": [
  {
   "cell_type": "markdown",
   "metadata": {},
   "source": [
    "Using the text from already created dataset for abstractive summarization"
   ]
  },
  {
   "cell_type": "code",
   "execution_count": 10,
   "metadata": {},
   "outputs": [],
   "source": [
    "import pandas as pd\n",
    "\n",
    "#df = pd.read_csv('data.csv')\n",
    "\n",
    "news_df =  pd.read_pickle(r'/Users/rohankilledar/Documents/MSc Artificial Intelligence/repos/summarisation/dataset.pkl')\n",
    "text = news_df['story'][0]"
   ]
  },
  {
   "cell_type": "markdown",
   "metadata": {},
   "source": [
    "This text is already cleaned."
   ]
  },
  {
   "cell_type": "code",
   "execution_count": 11,
   "metadata": {},
   "outputs": [],
   "source": [
    "from string import punctuation\n",
    "from spacy.lang.en.stop_words import STOP_WORDS\n",
    "import spacy\n",
    "\n",
    "stopwords = list(STOP_WORDS)"
   ]
  },
  {
   "cell_type": "code",
   "execution_count": 12,
   "metadata": {},
   "outputs": [],
   "source": [
    "nlp = spacy.load('en_core_web_sm')"
   ]
  },
  {
   "cell_type": "code",
   "execution_count": 16,
   "metadata": {},
   "outputs": [
    {
     "name": "stdout",
     "output_type": "stream",
     "text": [
      "at the start of a big week for the higgs boson the most soughtafter particle in all of physics scientists in illinois said monday that they had crept closer to proving that the particle exists but had been unable to reach a definitive conclusion. the scientists outlined their final analysis based on more than years of research and trillion particle collisions using the us department of energys fermilab tevatron collider near batavia illinois whose budgetary woes shut it down last year. what is the higgs boson and why is it important. their announcement came two days before researchers at the large hadron collider under the alps are due to unveil their latest results at an eagerly awaited seminar at the cern particle physics laboratory in geneva switzerland. our data strongly point toward the existence of the higgs boson rob roser a spokesman for one of two independent experiments at the tevatron said in a statement but it will take results from the experiments at the large hadron collider in europe to establish a discovery. read more the woman at the edge of physics. finding the higgs boson would help explain the origin of mass one of the open questions in physicists current understanding of the way the universe works. the particle has been so difficult to pin down that the physicist leon lederman reportedly wanted to call his book the goddamn particle but he truncated that epithet to the god particle which may have helped elevate the particles allure in popular culture. more science news from cnn light years. about times the mass of the proton. before the tevatron closed the experiments there sent beams of particles whizzing around a fourmile circumference in opposite directions traveling at a fraction below the speed of light the particles would crash into each other creating conditions similar to those at the dawn of the universe for scientists to observe. but so far neither the results from the us collider experiments nor from the the large hadron collider located feet underneath the border of france and switzerland have enough statistical significance to constitute a discovery. it is easier to look for a friends face in a sports stadium filled with people than to search for a higgslike event among trillions of collisions said luciano ristori a physicist at the us facility. attention now turns to the latest analysis of data from the billion european machine the worlds most powerful particle smasher. we now have more than double the data we had last year sergio bertolucci the director for research and computing at cern said last month that should be enough to see whether the trends we were seeing in the data are still there or whether theyve gone away its a very exciting time. scientists getting clearer picture of god particle\n"
     ]
    }
   ],
   "source": [
    "doc = nlp(text)\n",
    "print(doc)"
   ]
  },
  {
   "cell_type": "code",
   "execution_count": 19,
   "metadata": {},
   "outputs": [
    {
     "name": "stdout",
     "output_type": "stream",
     "text": [
      "['at', 'the', 'start', 'of', 'a', 'big', 'week', 'for', 'the', 'higgs', 'boson', 'the', 'most', 'soughtafter', 'particle', 'in', 'all', 'of', 'physics', 'scientists', 'in', 'illinois', 'said', 'monday', 'that', 'they', 'had', 'crept', 'closer', 'to', 'proving', 'that', 'the', 'particle', 'exists', 'but', 'had', 'been', 'unable', 'to', 'reach', 'a', 'definitive', 'conclusion', '.', 'the', 'scientists', 'outlined', 'their', 'final', 'analysis', 'based', 'on', 'more', 'than', 'years', 'of', 'research', 'and', 'trillion', 'particle', 'collisions', 'using', 'the', 'us', 'department', 'of', 'energys', 'fermilab', 'tevatron', 'collider', 'near', 'batavia', 'illinois', 'whose', 'budgetary', 'woes', 'shut', 'it', 'down', 'last', 'year', '.', 'what', 'is', 'the', 'higgs', 'boson', 'and', 'why', 'is', 'it', 'important', '.', 'their', 'announcement', 'came', 'two', 'days', 'before', 'researchers', 'at', 'the', 'large', 'hadron', 'collider', 'under', 'the', 'alps', 'are', 'due', 'to', 'unveil', 'their', 'latest', 'results', 'at', 'an', 'eagerly', 'awaited', 'seminar', 'at', 'the', 'cern', 'particle', 'physics', 'laboratory', 'in', 'geneva', 'switzerland', '.', 'our', 'data', 'strongly', 'point', 'toward', 'the', 'existence', 'of', 'the', 'higgs', 'boson', 'rob', 'roser', 'a', 'spokesman', 'for', 'one', 'of', 'two', 'independent', 'experiments', 'at', 'the', 'tevatron', 'said', 'in', 'a', 'statement', 'but', 'it', 'will', 'take', 'results', 'from', 'the', 'experiments', 'at', 'the', 'large', 'hadron', 'collider', 'in', 'europe', 'to', 'establish', 'a', 'discovery', '.', 'read', 'more', 'the', 'woman', 'at', 'the', 'edge', 'of', 'physics', '.', 'finding', 'the', 'higgs', 'boson', 'would', 'help', 'explain', 'the', 'origin', 'of', 'mass', 'one', 'of', 'the', 'open', 'questions', 'in', 'physicists', 'current', 'understanding', 'of', 'the', 'way', 'the', 'universe', 'works', '.', 'the', 'particle', 'has', 'been', 'so', 'difficult', 'to', 'pin', 'down', 'that', 'the', 'physicist', 'leon', 'lederman', 'reportedly', 'wanted', 'to', 'call', 'his', 'book', 'the', 'goddamn', 'particle', 'but', 'he', 'truncated', 'that', 'epithet', 'to', 'the', 'god', 'particle', 'which', 'may', 'have', 'helped', 'elevate', 'the', 'particles', 'allure', 'in', 'popular', 'culture', '.', 'more', 'science', 'news', 'from', 'cnn', 'light', 'years', '.', 'about', 'times', 'the', 'mass', 'of', 'the', 'proton', '.', 'before', 'the', 'tevatron', 'closed', 'the', 'experiments', 'there', 'sent', 'beams', 'of', 'particles', 'whizzing', 'around', 'a', 'fourmile', 'circumference', 'in', 'opposite', 'directions', 'traveling', 'at', 'a', 'fraction', 'below', 'the', 'speed', 'of', 'light', 'the', 'particles', 'would', 'crash', 'into', 'each', 'other', 'creating', 'conditions', 'similar', 'to', 'those', 'at', 'the', 'dawn', 'of', 'the', 'universe', 'for', 'scientists', 'to', 'observe', '.', 'but', 'so', 'far', 'neither', 'the', 'results', 'from', 'the', 'us', 'collider', 'experiments', 'nor', 'from', 'the', 'the', 'large', 'hadron', 'collider', 'located', 'feet', 'underneath', 'the', 'border', 'of', 'france', 'and', 'switzerland', 'have', 'enough', 'statistical', 'significance', 'to', 'constitute', 'a', 'discovery', '.', 'it', 'is', 'easier', 'to', 'look', 'for', 'a', 'friends', 'face', 'in', 'a', 'sports', 'stadium', 'filled', 'with', 'people', 'than', 'to', 'search', 'for', 'a', 'higgslike', 'event', 'among', 'trillions', 'of', 'collisions', 'said', 'luciano', 'ristori', 'a', 'physicist', 'at', 'the', 'us', 'facility', '.', 'attention', 'now', 'turns', 'to', 'the', 'latest', 'analysis', 'of', 'data', 'from', 'the', 'billion', 'european', 'machine', 'the', 'worlds', 'most', 'powerful', 'particle', 'smasher', '.', 'we', 'now', 'have', 'more', 'than', 'double', 'the', 'data', 'we', 'had', 'last', 'year', 'sergio', 'bertolucci', 'the', 'director', 'for', 'research', 'and', 'computing', 'at', 'cern', 'said', 'last', 'month', 'that', 'should', 'be', 'enough', 'to', 'see', 'whether', 'the', 'trends', 'we', 'were', 'seeing', 'in', 'the', 'data', 'are', 'still', 'there', 'or', 'whether', 'they', 've', 'gone', 'away', 'its', 'a', 'very', 'exciting', 'time', '.', 'scientists', 'getting', 'clearer', 'picture', 'of', 'god', 'particle']\n"
     ]
    }
   ],
   "source": [
    "tokens = [token.text for token in doc ]\n",
    "print(tokens)"
   ]
  },
  {
   "cell_type": "code",
   "execution_count": 20,
   "metadata": {},
   "outputs": [
    {
     "name": "stdout",
     "output_type": "stream",
     "text": [
      "!\"#$%&'()*+,-./:;<=>?@[\\]^_`{|}~\n",
      "\n"
     ]
    }
   ],
   "source": [
    "punctuation = punctuation + '\\n'\n",
    "print(punctuation)"
   ]
  },
  {
   "cell_type": "code",
   "execution_count": 21,
   "metadata": {},
   "outputs": [],
   "source": [
    "cleaned_token = [token for token in tokens if token not in stopwords]"
   ]
  },
  {
   "cell_type": "code",
   "execution_count": 22,
   "metadata": {},
   "outputs": [],
   "source": [
    "word_frequencies = {}\n",
    "\n",
    "for word in doc:\n",
    "    if word.text not in stopwords:\n",
    "        if word.text not in punctuation:\n",
    "            if word.text not in word_frequencies.keys():\n",
    "                word_frequencies[word.text] = 1\n",
    "            else:\n",
    "                word_frequencies[word.text] +=1"
   ]
  },
  {
   "cell_type": "code",
   "execution_count": 24,
   "metadata": {},
   "outputs": [
    {
     "name": "stdout",
     "output_type": "stream",
     "text": [
      "{'start': 1, 'big': 1, 'week': 1, 'higgs': 4, 'boson': 4, 'soughtafter': 1, 'particle': 9, 'physics': 3, 'scientists': 4, 'illinois': 2, 'said': 4, 'monday': 1, 'crept': 1, 'closer': 1, 'proving': 1, 'exists': 1, 'unable': 1, 'reach': 1, 'definitive': 1, 'conclusion': 1, 'outlined': 1, 'final': 1, 'analysis': 2, 'based': 1, 'years': 2, 'research': 2, 'trillion': 1, 'collisions': 2, 'department': 1, 'energys': 1, 'fermilab': 1, 'tevatron': 3, 'collider': 5, 'near': 1, 'batavia': 1, 'budgetary': 1, 'woes': 1, 'shut': 1, 'year': 2, 'important': 1, 'announcement': 1, 'came': 1, 'days': 1, 'researchers': 1, 'large': 3, 'hadron': 3, 'alps': 1, 'unveil': 1, 'latest': 2, 'results': 3, 'eagerly': 1, 'awaited': 1, 'seminar': 1, 'cern': 2, 'laboratory': 1, 'geneva': 1, 'switzerland': 2, 'data': 4, 'strongly': 1, 'point': 1, 'existence': 1, 'rob': 1, 'roser': 1, 'spokesman': 1, 'independent': 1, 'experiments': 4, 'statement': 1, 'europe': 1, 'establish': 1, 'discovery': 2, 'read': 1, 'woman': 1, 'edge': 1, 'finding': 1, 'help': 1, 'explain': 1, 'origin': 1, 'mass': 2, 'open': 1, 'questions': 1, 'physicists': 1, 'current': 1, 'understanding': 1, 'way': 1, 'universe': 2, 'works': 1, 'difficult': 1, 'pin': 1, 'physicist': 2, 'leon': 1, 'lederman': 1, 'reportedly': 1, 'wanted': 1, 'book': 1, 'goddamn': 1, 'truncated': 1, 'epithet': 1, 'god': 2, 'helped': 1, 'elevate': 1, 'particles': 3, 'allure': 1, 'popular': 1, 'culture': 1, 'science': 1, 'news': 1, 'cnn': 1, 'light': 2, 'times': 1, 'proton': 1, 'closed': 1, 'sent': 1, 'beams': 1, 'whizzing': 1, 'fourmile': 1, 'circumference': 1, 'opposite': 1, 'directions': 1, 'traveling': 1, 'fraction': 1, 'speed': 1, 'crash': 1, 'creating': 1, 'conditions': 1, 'similar': 1, 'dawn': 1, 'observe': 1, 'far': 1, 'located': 1, 'feet': 1, 'underneath': 1, 'border': 1, 'france': 1, 'statistical': 1, 'significance': 1, 'constitute': 1, 'easier': 1, 'look': 1, 'friends': 1, 'face': 1, 'sports': 1, 'stadium': 1, 'filled': 1, 'people': 1, 'search': 1, 'higgslike': 1, 'event': 1, 'trillions': 1, 'luciano': 1, 'ristori': 1, 'facility': 1, 'attention': 1, 'turns': 1, 'billion': 1, 'european': 1, 'machine': 1, 'worlds': 1, 'powerful': 1, 'smasher': 1, 'double': 1, 'sergio': 1, 'bertolucci': 1, 'director': 1, 'computing': 1, 'month': 1, 'trends': 1, 'seeing': 1, 've': 1, 'gone': 1, 'away': 1, 'exciting': 1, 'time': 1, 'getting': 1, 'clearer': 1, 'picture': 1}\n"
     ]
    }
   ],
   "source": [
    "print(word_frequencies)"
   ]
  },
  {
   "cell_type": "code",
   "execution_count": 26,
   "metadata": {},
   "outputs": [
    {
     "name": "stdout",
     "output_type": "stream",
     "text": [
      "9\n"
     ]
    }
   ],
   "source": [
    "max_frequency = max(word_frequencies.values())\n",
    "print(max_frequency)"
   ]
  },
  {
   "cell_type": "markdown",
   "metadata": {},
   "source": [
    "Normalizing the frequency using max freq"
   ]
  },
  {
   "cell_type": "code",
   "execution_count": 27,
   "metadata": {},
   "outputs": [
    {
     "name": "stdout",
     "output_type": "stream",
     "text": [
      "{'start': 0.1111111111111111, 'big': 0.1111111111111111, 'week': 0.1111111111111111, 'higgs': 0.4444444444444444, 'boson': 0.4444444444444444, 'soughtafter': 0.1111111111111111, 'particle': 1.0, 'physics': 0.3333333333333333, 'scientists': 0.4444444444444444, 'illinois': 0.2222222222222222, 'said': 0.4444444444444444, 'monday': 0.1111111111111111, 'crept': 0.1111111111111111, 'closer': 0.1111111111111111, 'proving': 0.1111111111111111, 'exists': 0.1111111111111111, 'unable': 0.1111111111111111, 'reach': 0.1111111111111111, 'definitive': 0.1111111111111111, 'conclusion': 0.1111111111111111, 'outlined': 0.1111111111111111, 'final': 0.1111111111111111, 'analysis': 0.2222222222222222, 'based': 0.1111111111111111, 'years': 0.2222222222222222, 'research': 0.2222222222222222, 'trillion': 0.1111111111111111, 'collisions': 0.2222222222222222, 'department': 0.1111111111111111, 'energys': 0.1111111111111111, 'fermilab': 0.1111111111111111, 'tevatron': 0.3333333333333333, 'collider': 0.5555555555555556, 'near': 0.1111111111111111, 'batavia': 0.1111111111111111, 'budgetary': 0.1111111111111111, 'woes': 0.1111111111111111, 'shut': 0.1111111111111111, 'year': 0.2222222222222222, 'important': 0.1111111111111111, 'announcement': 0.1111111111111111, 'came': 0.1111111111111111, 'days': 0.1111111111111111, 'researchers': 0.1111111111111111, 'large': 0.3333333333333333, 'hadron': 0.3333333333333333, 'alps': 0.1111111111111111, 'unveil': 0.1111111111111111, 'latest': 0.2222222222222222, 'results': 0.3333333333333333, 'eagerly': 0.1111111111111111, 'awaited': 0.1111111111111111, 'seminar': 0.1111111111111111, 'cern': 0.2222222222222222, 'laboratory': 0.1111111111111111, 'geneva': 0.1111111111111111, 'switzerland': 0.2222222222222222, 'data': 0.4444444444444444, 'strongly': 0.1111111111111111, 'point': 0.1111111111111111, 'existence': 0.1111111111111111, 'rob': 0.1111111111111111, 'roser': 0.1111111111111111, 'spokesman': 0.1111111111111111, 'independent': 0.1111111111111111, 'experiments': 0.4444444444444444, 'statement': 0.1111111111111111, 'europe': 0.1111111111111111, 'establish': 0.1111111111111111, 'discovery': 0.2222222222222222, 'read': 0.1111111111111111, 'woman': 0.1111111111111111, 'edge': 0.1111111111111111, 'finding': 0.1111111111111111, 'help': 0.1111111111111111, 'explain': 0.1111111111111111, 'origin': 0.1111111111111111, 'mass': 0.2222222222222222, 'open': 0.1111111111111111, 'questions': 0.1111111111111111, 'physicists': 0.1111111111111111, 'current': 0.1111111111111111, 'understanding': 0.1111111111111111, 'way': 0.1111111111111111, 'universe': 0.2222222222222222, 'works': 0.1111111111111111, 'difficult': 0.1111111111111111, 'pin': 0.1111111111111111, 'physicist': 0.2222222222222222, 'leon': 0.1111111111111111, 'lederman': 0.1111111111111111, 'reportedly': 0.1111111111111111, 'wanted': 0.1111111111111111, 'book': 0.1111111111111111, 'goddamn': 0.1111111111111111, 'truncated': 0.1111111111111111, 'epithet': 0.1111111111111111, 'god': 0.2222222222222222, 'helped': 0.1111111111111111, 'elevate': 0.1111111111111111, 'particles': 0.3333333333333333, 'allure': 0.1111111111111111, 'popular': 0.1111111111111111, 'culture': 0.1111111111111111, 'science': 0.1111111111111111, 'news': 0.1111111111111111, 'cnn': 0.1111111111111111, 'light': 0.2222222222222222, 'times': 0.1111111111111111, 'proton': 0.1111111111111111, 'closed': 0.1111111111111111, 'sent': 0.1111111111111111, 'beams': 0.1111111111111111, 'whizzing': 0.1111111111111111, 'fourmile': 0.1111111111111111, 'circumference': 0.1111111111111111, 'opposite': 0.1111111111111111, 'directions': 0.1111111111111111, 'traveling': 0.1111111111111111, 'fraction': 0.1111111111111111, 'speed': 0.1111111111111111, 'crash': 0.1111111111111111, 'creating': 0.1111111111111111, 'conditions': 0.1111111111111111, 'similar': 0.1111111111111111, 'dawn': 0.1111111111111111, 'observe': 0.1111111111111111, 'far': 0.1111111111111111, 'located': 0.1111111111111111, 'feet': 0.1111111111111111, 'underneath': 0.1111111111111111, 'border': 0.1111111111111111, 'france': 0.1111111111111111, 'statistical': 0.1111111111111111, 'significance': 0.1111111111111111, 'constitute': 0.1111111111111111, 'easier': 0.1111111111111111, 'look': 0.1111111111111111, 'friends': 0.1111111111111111, 'face': 0.1111111111111111, 'sports': 0.1111111111111111, 'stadium': 0.1111111111111111, 'filled': 0.1111111111111111, 'people': 0.1111111111111111, 'search': 0.1111111111111111, 'higgslike': 0.1111111111111111, 'event': 0.1111111111111111, 'trillions': 0.1111111111111111, 'luciano': 0.1111111111111111, 'ristori': 0.1111111111111111, 'facility': 0.1111111111111111, 'attention': 0.1111111111111111, 'turns': 0.1111111111111111, 'billion': 0.1111111111111111, 'european': 0.1111111111111111, 'machine': 0.1111111111111111, 'worlds': 0.1111111111111111, 'powerful': 0.1111111111111111, 'smasher': 0.1111111111111111, 'double': 0.1111111111111111, 'sergio': 0.1111111111111111, 'bertolucci': 0.1111111111111111, 'director': 0.1111111111111111, 'computing': 0.1111111111111111, 'month': 0.1111111111111111, 'trends': 0.1111111111111111, 'seeing': 0.1111111111111111, 've': 0.1111111111111111, 'gone': 0.1111111111111111, 'away': 0.1111111111111111, 'exciting': 0.1111111111111111, 'time': 0.1111111111111111, 'getting': 0.1111111111111111, 'clearer': 0.1111111111111111, 'picture': 0.1111111111111111}\n"
     ]
    }
   ],
   "source": [
    "for word in word_frequencies.keys():\n",
    "    word_frequencies[word] = word_frequencies[word]/max_frequency\n",
    "\n",
    "print(word_frequencies)"
   ]
  },
  {
   "cell_type": "markdown",
   "metadata": {},
   "source": [
    "Sentence tokenization"
   ]
  },
  {
   "cell_type": "code",
   "execution_count": 33,
   "metadata": {},
   "outputs": [
    {
     "name": "stdout",
     "output_type": "stream",
     "text": [
      "[at the start of a big week for the higgs boson the most soughtafter particle in all of physics scientists in illinois said monday that they had crept closer to proving that the particle exists but had been unable to reach a definitive conclusion., the scientists outlined their final analysis based on more than years of research and trillion particle collisions using the us department of energys fermilab tevatron collider near batavia illinois whose budgetary woes shut it down last year., what is the higgs boson and why is it important., their announcement came two days before researchers at the large hadron collider under the alps are due to unveil their latest results at an eagerly awaited seminar at the cern particle physics laboratory in geneva switzerland., our data strongly point toward the existence of the higgs boson rob roser a spokesman for one of two independent experiments at the tevatron said in a statement but it will take results from the experiments at the large hadron collider in europe to establish a discovery., read more the woman at the edge of physics., finding the higgs boson would help explain the origin of mass one of the open questions in physicists current understanding of the way the universe works., the particle has been so difficult to pin down that the physicist leon lederman reportedly wanted to call his book the goddamn particle but he truncated that epithet to the god particle which may have helped elevate the particles allure in popular culture., more science news from cnn light years., about times the mass of the proton., before the tevatron closed the experiments there sent beams of particles whizzing around a fourmile circumference in opposite directions traveling at a fraction below the speed of light the particles would crash into each other creating conditions similar to those at the dawn of the universe for scientists to observe., but so far neither the results from the us collider experiments nor from the the large hadron collider located feet underneath the border of france and switzerland have enough statistical significance to constitute a discovery., it is easier to look for a friends face in a sports stadium filled with people than to search for a higgslike event among trillions of collisions said luciano ristori a physicist at the us facility., attention now turns to the latest analysis of data from the billion european machine the worlds most powerful particle smasher., we now have more than double the data we had last year sergio bertolucci the director for research and computing at cern said last month that should be enough to see whether the trends we were seeing in the data are still there or whether theyve gone away its a very exciting time., scientists getting clearer picture of god particle]\n"
     ]
    }
   ],
   "source": [
    "sentence_tokens = [sent for sent in doc.sents]\n",
    "print(sentence_tokens)"
   ]
  },
  {
   "cell_type": "markdown",
   "metadata": {},
   "source": [
    "sentence score "
   ]
  },
  {
   "cell_type": "code",
   "execution_count": 34,
   "metadata": {},
   "outputs": [
    {
     "name": "stdout",
     "output_type": "stream",
     "text": [
      "{at the start of a big week for the higgs boson the most soughtafter particle in all of physics scientists in illinois said monday that they had crept closer to proving that the particle exists but had been unable to reach a definitive conclusion.: 5.777777777777775, the scientists outlined their final analysis based on more than years of research and trillion particle collisions using the us department of energys fermilab tevatron collider near batavia illinois whose budgetary woes shut it down last year.: 4.999999999999999, what is the higgs boson and why is it important.: 1.0, their announcement came two days before researchers at the large hadron collider under the alps are due to unveil their latest results at an eagerly awaited seminar at the cern particle physics laboratory in geneva switzerland.: 4.777777777777777, our data strongly point toward the existence of the higgs boson rob roser a spokesman for one of two independent experiments at the tevatron said in a statement but it will take results from the experiments at the large hadron collider in europe to establish a discovery.: 5.8888888888888875, read more the woman at the edge of physics.: 0.6666666666666666, finding the higgs boson would help explain the origin of mass one of the open questions in physicists current understanding of the way the universe works.: 2.5555555555555562, the particle has been so difficult to pin down that the physicist leon lederman reportedly wanted to call his book the goddamn particle but he truncated that epithet to the god particle which may have helped elevate the particles allure in popular culture.: 5.444444444444443, more science news from cnn light years.: 0.7777777777777778, about times the mass of the proton.: 0.4444444444444444, before the tevatron closed the experiments there sent beams of particles whizzing around a fourmile circumference in opposite directions traveling at a fraction below the speed of light the particles would crash into each other creating conditions similar to those at the dawn of the universe for scientists to observe.: 4.222222222222222, but so far neither the results from the us collider experiments nor from the the large hadron collider located feet underneath the border of france and switzerland have enough statistical significance to constitute a discovery.: 4.000000000000001, it is easier to look for a friends face in a sports stadium filled with people than to search for a higgslike event among trillions of collisions said luciano ristori a physicist at the us facility.: 2.555555555555556, attention now turns to the latest analysis of data from the billion european machine the worlds most powerful particle smasher.: 2.777777777777778, we now have more than double the data we had last year sergio bertolucci the director for research and computing at cern said last month that should be enough to see whether the trends we were seeing in the data are still there or whether theyve gone away its a very exciting time.: 3.444444444444445, scientists getting clearer picture of god particle: 2.0}\n"
     ]
    }
   ],
   "source": [
    "sentence_scores = {}\n",
    "for sent in sentence_tokens:\n",
    "    for word in sent:\n",
    "        if word.text in word_frequencies.keys():\n",
    "            if sent not in sentence_scores.keys():\n",
    "                sentence_scores[sent] = word_frequencies[word.text]\n",
    "            else:\n",
    "                sentence_scores[sent] += word_frequencies[word.text]\n",
    "\n",
    "print(sentence_scores)"
   ]
  },
  {
   "cell_type": "markdown",
   "metadata": {},
   "source": [
    "use the setences with largest score"
   ]
  },
  {
   "cell_type": "code",
   "execution_count": 42,
   "metadata": {},
   "outputs": [
    {
     "name": "stdout",
     "output_type": "stream",
     "text": [
      "our data strongly point toward the existence of the higgs boson rob roser a spokesman for one of two independent experiments at the tevatron said in a statement but it will take results from the experiments at the large hadron collider in europe to establish a discovery.at the start of a big week for the higgs boson the most soughtafter particle in all of physics scientists in illinois said monday that they had crept closer to proving that the particle exists but had been unable to reach a definitive conclusion.the particle has been so difficult to pin down that the physicist leon lederman reportedly wanted to call his book the goddamn particle but he truncated that epithet to the god particle which may have helped elevate the particles allure in popular culture.the scientists outlined their final analysis based on more than years of research and trillion particle collisions using the us department of energys fermilab tevatron collider near batavia illinois whose budgetary woes shut it down last year.\n",
      "\n",
      "length of summary: 1016\n",
      "length of text: 2779\n"
     ]
    }
   ],
   "source": [
    "from heapq import nlargest\n",
    "select_length = int(len(sentence_tokens)*0.3) # select 30% of the sentences\n",
    "\n",
    "summary = nlargest(select_length,sentence_scores,key = sentence_scores.get)\n",
    "\n",
    "final_summary = [word.text for word in summary]\n",
    "summary = ''.join(final_summary)\n",
    "print(summary, end = '\\n\\n')\n",
    "\n",
    "print('length of summary: '+ str(len(summary)))\n",
    "\n",
    "print('length of text: '+ str(len(text)))\n"
   ]
  }
 ],
 "metadata": {
  "interpreter": {
   "hash": "cd78fef2128015050713e82ca51c6520b11aee7c9ee8df750520bbbc7384cbaa"
  },
  "kernelspec": {
   "display_name": "Python 3.8.8 64-bit ('base': conda)",
   "language": "python",
   "name": "python3"
  },
  "language_info": {
   "codemirror_mode": {
    "name": "ipython",
    "version": 3
   },
   "file_extension": ".py",
   "mimetype": "text/x-python",
   "name": "python",
   "nbconvert_exporter": "python",
   "pygments_lexer": "ipython3",
   "version": "3.8.8"
  },
  "orig_nbformat": 4
 },
 "nbformat": 4,
 "nbformat_minor": 2
}
