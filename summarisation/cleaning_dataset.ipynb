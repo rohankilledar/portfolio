{
 "cells": [
  {
   "cell_type": "code",
   "execution_count": 69,
   "metadata": {},
   "outputs": [],
   "source": [
    "from tqdm import tqdm\n",
    "import pandas as pd\n",
    "import string\n",
    "from nltk.tokenize import word_tokenize\n",
    "import re"
   ]
  },
  {
   "cell_type": "code",
   "execution_count": 62,
   "metadata": {},
   "outputs": [
    {
     "data": {
      "text/plain": [
       "list"
      ]
     },
     "execution_count": 62,
     "metadata": {},
     "output_type": "execute_result"
    }
   ],
   "source": [
    "dataset = pd.read_pickle('unprocessed_dataset.pkl')\n",
    "type(dataset)\n"
   ]
  },
  {
   "cell_type": "code",
   "execution_count": 63,
   "metadata": {},
   "outputs": [
    {
     "data": {
      "text/plain": [
       "'(CNN)George Zimmerman    acquitted by a Florida jury over the death of Trayvon Martin    was arrested in Florida on suspicion of aggravated assault and domestic violence with a weapon, local authorities said.\\n\\nThe 31 year old Florida resident was arrested Friday by police in Lake Mary at about 10 p.m. and booked into the John E. Polk Correctional Facility, according to that facility\\'s website. That facility, like its website, is run by the Seminole County Sheriff\\'s Office.\\n\\nIt all came about after Zimmerman allegedly threw a wine bottle at a girlfriend, his lawyer Don West told reporters.\\n\\n\"Whatever happened took place several days ago,\" said West. \"And, as far as I know, they have not been together for some time, certainly not since then.\"\\n\\nPolice first learned about it after coming \"in contact with the (alleged) victim at a traffic stop\" on Monday, Lake Mary police spokeswoman Bianca Gillett  said.\\n\\nWhen asked about the delay in making the arrest, Gillett said the arresting officer tried to reach Zimmerman on Monday and Tuesday, but couldn\\'t, and was off duty Wednesday and Thursday. It was the officer\\'s decision not to pass off the case to another officer, Gillett said.\\n\\nThe incident is the latest legal run in for Zimmerman since his acquittal in July 2013 on a murder charge in the death of Martin, a 17 year old African American. In fact, it\\'s his second arrest for alleged domestic violence against a girlfriend    though Lake Mary police spokeswoman Bianca Gillett said this alleged \"victim is not the same (woman) as in 2013.\"\\n\\n\"It\\'s clear he hasn\\'t been very lucky with the ladies the last few months,\" West said of his client.\\n\\nJudge bars contact, orders weapons surrendered\\n\\nZimmerman appeared Saturday morning before Judge John Galluzo, who decided to bar him from contacting the alleged victim or going into Volusia County. He was also told to surrender any weapons to a relative or third party, but not to stop drinking since the judge said \"there wasn\\'t any allegation of abuse of alcohol in the arrest affidavit.\"\\n\\nAppearing in court is not new for Zimmerman, who became a national figure in 2012 after spotting Martin in his Sanford, Florida, neighborhood. The two ended up having a confrontation that climaxed with Zimmerman fatally shooting the teenager, who was unarmed.\\n\\nThat incident, and authorities\\' decision not to immediately charge Zimmerman, spurred large scale protests. In April of that year, Zimmerman was charged with second degree murder, with an affidavit accusing him of profiling Martin and ignoring a police dispatcher\\'s request that he wait for police.\\n\\nAfter a high profile trial, a jury found Zimmerman not guilty.\\n\\nThat made him a free man    but did not end his issues with the law.\\n\\nNo charge after other domestic violence claim\\n\\nAbout two weeks after the verdict, he was pulled over for speeding in northern Texas. Much bigger troubles came in November 2013, when Zimmerman was taken into custody at his then girlfriend\\'s Apoka, Florida, home after the two allegedly had a heated fight.\\n\\nHe was arrested then on aggravated assault and misdemeanor counts of domestic violence battery and criminal mischief, accusations that he denied. He posted $9,000 bail days later.\\n\\nBut after the girlfriend asked that the issue be dropped, State Attorney Phil Archer announced that prosecutors would not press charges.\\n\\nMore recently, in September 2014, Lake Mary police said that a man claimed that Zimmerman threatened him during a road rage incident. \"I will ... kill you,\" Zimmerman allegedly said, according to police. \"Do you know who I am?\" He was not arrested and has not been charged.\\n\\nWest said that his client    who posted $5,000 bail later Saturday    doesn\\'t have a full time job, implying he\\'s had his struggles since the Martin acquittal.\\n\\n\"It\\'s been a devastating experience that he\\'s had that he\\'s working through,\" the lawyer said. \"... I\\'m concerned, obviously, as we are here again this morning.\"\\n\\nCNN\\'s Christine Sever and Chris Welch contributed to this report.\\n\\n'"
      ]
     },
     "execution_count": 63,
     "metadata": {},
     "output_type": "execute_result"
    }
   ],
   "source": [
    "dataset[1]['story'].replace('-',' ')"
   ]
  },
  {
   "cell_type": "code",
   "execution_count": 65,
   "metadata": {},
   "outputs": [
    {
     "name": "stdout",
     "output_type": "stream",
     "text": [
      "<class 'str'>\n"
     ]
    },
    {
     "data": {
      "text/plain": [
       "'acquitted by florida jury over the death of trayvon martin was arrested in florida on suspicion of aggravated assault and domestic violence with weapon local authorities said the 31 year old florida resident was arrested friday by police in lake mary at about 10 pm. and booked into the john. polk correctional facility according to that facility s website. that facility like its website is run by the seminole county sheriff s office it all came about after zimmerman allegedly threw wine bottle at girlfriend his lawyer don west told reporters whatever happened took place several days ago said west. and as far as know they have not been together for some time certainly not since then police first learned about it after coming in contact with the alleged victim at traffic stop on monday lake mary police spokeswoman bianca gillett said when asked about the delay in making the arrest gillett said the arresting officer tried to reach zimmerman on monday and tuesday but could nt and was off duty wednesday and thursday. it was the officer s decision not to pass off the case to another officer gillett said the incident is the latest legal run in for zimmerman since his acquittal in july 2013 on murder charge in the death of martin 17 year old african american. though lake mary police spokeswoman bianca gillett said this alleged victim is not the same woman as in 2013 it s clear he has nt been very lucky with the ladies the last few months west said of his client judge bars contact orders weapons surrendered zimmerman appeared saturday morning before judge john galluzo who decided to bar him from contacting the alleged victim or going into volusia county. he was also told to surrender any weapons to relative or third party but not to stop drinking since the judge said there was nt any allegation of abuse of alcohol in the arrest affidavit appearing in court is not new for zimmerman who became national figure in 2012 after spotting martin in his sanford florida neighborhood. the two ended up having confrontation that climaxed with zimmerman fatally shooting the teenager who was unarmed that incident and authorities decision not to immediately charge zimmerman spurred large scale protests. but did not end his issues with the law no charge after other domestic violence claim about two weeks after the verdict he was pulled over for speeding in northern texas. much bigger troubles came in november 2013 when zimmerman was taken into custody at his then girlfriend s apoka florida home after the two allegedly had heated fight he was arrested then on aggravated assault and misdemeanor counts of domestic violence battery and criminal mischief accusations that he denied. he posted 9000 bail days later but after the girlfriend asked that the issue be dropped state attorney phil archer announced that prosecutors would not press charges more recently in september 2014 lake mary police said that man claimed that zimmerman threatened him during road rage incident. will . kill you zimmerman allegedly said according to police. who posted 5000 bail later saturday does nt have full time job implying he s had his struggles since the martin acquittal it s been devastating experience that he s had that he s working through the lawyer said. . m concerned obviously as we are here again this morning cnn s christine sever and chris welch contributed to this report'"
      ]
     },
     "execution_count": 65,
     "metadata": {},
     "output_type": "execute_result"
    }
   ],
   "source": [
    "data = dataset[1]['story']\n",
    "# custom_punctuation = \"!\\\"#$%&()*+,-./:;<=>?@[\\]^_`{|}~\"\n",
    "# table = str.maketrans('', '', custom_punctuation)\n",
    "def clean_data(data):\n",
    "    data = data.split('. ')\n",
    "    table = str.maketrans('', '', string.punctuation)\n",
    "\n",
    "    cleaned = list()\n",
    "    for sentence in data:\n",
    "        if len(sentence)>0:\n",
    "            \n",
    "            dash_indx = sentence.find('--')\n",
    "            if dash_indx>=0:\n",
    "                sentence = sentence[dash_indx+len('--'):]\n",
    "            sentence = sentence.strip()\n",
    "            sentence = sentence.replace('-',' ')\n",
    "            word = word_tokenize(sentence)\n",
    "            #word = [w.lower() for w in word]\n",
    "            word = [w.translate(table).lower() for w in word if len(w)>1]\n",
    "            cleaned.append(' '.join(word))\n",
    "\n",
    "    data = '. '.join(cleaned)\n",
    "    \n",
    "    return re.sub(' +', ' ', data)\n",
    "print(type(data))\n",
    "clean_data(data)"
   ]
  },
  {
   "cell_type": "code",
   "execution_count": 70,
   "metadata": {},
   "outputs": [
    {
     "name": "stderr",
     "output_type": "stream",
     "text": [
      "100%|██████████| 312085/312085 [23:26<00:00, 221.91it/s]\n"
     ]
    }
   ],
   "source": [
    "for i in tqdm(range(len(dataset))):\n",
    "    dataset[i]['story'] = clean_data(dataset[i]['story'])\n",
    "    dataset[i]['highlight'] = clean_data(dataset[i]['highlight'])"
   ]
  },
  {
   "cell_type": "code",
   "execution_count": 71,
   "metadata": {},
   "outputs": [],
   "source": [
    "df = pd.DataFrame(dataset)"
   ]
  },
  {
   "cell_type": "code",
   "execution_count": 72,
   "metadata": {},
   "outputs": [
    {
     "data": {
      "text/plain": [
       "story        0\n",
       "highlight    0\n",
       "dtype: int64"
      ]
     },
     "execution_count": 72,
     "metadata": {},
     "output_type": "execute_result"
    }
   ],
   "source": [
    "df.isnull().sum()"
   ]
  },
  {
   "cell_type": "code",
   "execution_count": 73,
   "metadata": {},
   "outputs": [],
   "source": [
    "import pickle\n",
    "output_file = open('cleaned_df.pkl','wb')\n",
    "pickle.dump(df, output_file)\n",
    "output_file.close()"
   ]
  },
  {
   "cell_type": "markdown",
   "metadata": {},
   "source": [
    "Let us check the word_count for the articles in our dataset to understand the length of these articles"
   ]
  },
  {
   "cell_type": "code",
   "execution_count": 74,
   "metadata": {},
   "outputs": [],
   "source": [
    "#dataset_pd.drop('hightlight1', axis=1, inplace=True)\n",
    "df['word_count_text'] = df['story'].apply(lambda x: len(str(x).split()))"
   ]
  },
  {
   "cell_type": "markdown",
   "metadata": {},
   "source": [
    "lets check for 0-100 percentile range in steps of 10"
   ]
  },
  {
   "cell_type": "code",
   "execution_count": 75,
   "metadata": {},
   "outputs": [
    {
     "name": "stdout",
     "output_type": "stream",
     "text": [
      " 0 percentile value is 0\n",
      " 10 percentile value is 294\n",
      " 20 percentile value is 381\n",
      " 30 percentile value is 455\n",
      " 40 percentile value is 525\n",
      " 50 percentile value is 597\n",
      " 60 percentile value is 677\n",
      " 70 percentile value is 772\n",
      " 80 percentile value is 897\n",
      " 90 percentile value is 1101\n",
      "100 percentile value is  2167\n"
     ]
    }
   ],
   "source": [
    "import numpy as np\n",
    "for i in range(0,100,10) :\n",
    "    var =df[\"word_count_text\"]. values\n",
    "    var = np.sort(var,axis = None)\n",
    "    print (\" {} percentile value is {}\".format (i,var[int(len(var)*(float(i)/100))]))\n",
    "print (\"100 percentile value is \",var[-1])"
   ]
  },
  {
   "cell_type": "markdown",
   "metadata": {},
   "source": [
    "checking the values in between 90 and 100. \n"
   ]
  },
  {
   "cell_type": "code",
   "execution_count": 77,
   "metadata": {},
   "outputs": [
    {
     "name": "stdout",
     "output_type": "stream",
     "text": [
      "90 percentile value is 1101\n",
      "91 percentile value is 1132\n",
      "92 percentile value is 1166\n",
      "93 percentile value is 1203\n",
      "94 percentile value is 1245\n",
      "95 percentile value is 1292\n",
      "96 percentile value is 1348\n",
      "97 percentile value is 1413\n",
      "98 percentile value is 1496\n",
      "99 percentile value is 1600\n",
      "100 percentile value is  2167\n"
     ]
    }
   ],
   "source": [
    "for i in range (90,100) :\n",
    "    var =df[\"word_count_text\"].values\n",
    "    var = np.sort(var, axis = None)\n",
    "    print(\"{} percentile value is {}\".format(i, var[int (len(var)*(float (i)/100))]))\n",
    "print (\"100 percentile value is \", var[-1])"
   ]
  },
  {
   "cell_type": "markdown",
   "metadata": {},
   "source": [
    "We can assume the lenght of articles in the range of 1200-1300 as 95% articles are less than that."
   ]
  }
 ],
 "metadata": {
  "interpreter": {
   "hash": "cd78fef2128015050713e82ca51c6520b11aee7c9ee8df750520bbbc7384cbaa"
  },
  "kernelspec": {
   "display_name": "Python 3.8.8 64-bit ('base': conda)",
   "language": "python",
   "name": "python3"
  },
  "language_info": {
   "codemirror_mode": {
    "name": "ipython",
    "version": 3
   },
   "file_extension": ".py",
   "mimetype": "text/x-python",
   "name": "python",
   "nbconvert_exporter": "python",
   "pygments_lexer": "ipython3",
   "version": "3.8.8"
  },
  "orig_nbformat": 4
 },
 "nbformat": 4,
 "nbformat_minor": 2
}
