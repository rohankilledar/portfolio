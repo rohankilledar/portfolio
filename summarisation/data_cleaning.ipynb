{
 "cells": [
  {
   "cell_type": "markdown",
   "metadata": {},
   "source": [
    "I'll be using CNN articles as dataset. These articles are stored in multiple files along with their highlights. These highlight can be used to gauge the summary output. "
   ]
  },
  {
   "cell_type": "code",
   "execution_count": 104,
   "metadata": {},
   "outputs": [],
   "source": [
    "from tqdm.notebook import tqdm "
   ]
  },
  {
   "cell_type": "markdown",
   "metadata": {},
   "source": [
    "Let's try reading the file content "
   ]
  },
  {
   "cell_type": "code",
   "execution_count": 105,
   "metadata": {},
   "outputs": [],
   "source": [
    "def read_file(filename):\n",
    "    file = open(filename, encoding= 'UTF-8')\n",
    "    text = file.read()\n",
    "    file.close()\n",
    "    return text\n",
    "\n",
    "text = read_file('/Users/rohankilledar/Documents/MSc Artificial Intelligence/repos/summarisation/cnn/stories/0a0a4c90d59df9e36ffec4ba306b4f20f3ba4acb.story')\n",
    "#text.split(\"\\n\")\n",
    "\n"
   ]
  },
  {
   "cell_type": "markdown",
   "metadata": {},
   "source": [
    "It seems the we need to do some cleaning before we start working on the file."
   ]
  },
  {
   "cell_type": "code",
   "execution_count": 106,
   "metadata": {},
   "outputs": [
    {
     "name": "stdout",
     "output_type": "stream",
     "text": [
      "Manchester United's Spaniards may have struggled to gel on the pitch, but they have been building up a close relationship off it.\n",
      "\n",
      "Juan Mata, Ander Herrera and David de Gea have become good friends and enjoyed lunch together in Hale Village, Cheshire on Tuesday afternoon.\n",
      "\n",
      "The Spanish trio were all named in Louis van Gaal's starting line-up for the opening day fixture against Swansea, although they were unable to prevent a disappointing 2-1 defeat bySwansea.\n",
      "\n",
      "VIDEO Scroll down to watch Mata challenge compatriot De Gea to Corner Kick Challenge \n",
      "\n",
      "Meet and greet: Juan Mata (left) has been helping fellow Spaniard Ander Herrera (right) settle in\n",
      "\n",
      "Join the club: Manchester United keeper David de Gea and Herrera pictured together on Tuesday\n",
      "\n",
      "Three Amigos: The Spaniards stroll down the high street as they enjoy an afternoon in Hale Village\n",
      "\n",
      "Van Gaal has brought another Spanish speaker to Old Trafford, with Argentina defender Marcos Rojo describing it as a 'dream' to play for the Old Trafford club.\n",
      "\n",
      "The Sporting Lisbon player has emerged has been a key summer target for Van Gaal and United have paid £16million for the defender and sent Portuguese winger Nani back to his former club on a one-year loan deal.\n",
      "\n",
      "In an interview with the radio station Continental, quoted in several national newspapers, Rojo said: 'It's a dream to play at Manchester United and I am very proud of having the chance of working with [Louis] van Gaal.\n",
      "\n",
      "'I spoke with Juan Sebastian Veron about Manchester United when we were at Estudiantes. I have always liked English football, and I should adapt to this new playing style easily.' \n",
      "\n",
      "Double act: Mata and Herrera are hoping to form a close-knit midfield partnership at Old Trafford\n",
      "\n",
      "Slow start: Mata and his United team-mates will be hoping for  improved performances after defeat by Swansea\n",
      "\n",
      "Dream move: Marcos Rojo (left) has signed for United from Sporting Lisbon for £16m\n",
      "\n",
      "VIDEO United reach deal for Rojo \n",
      "\n",
      "@highlight\n",
      "\n",
      "Manchester United's Spanish trio enjoyed lunch in Hale Village\n",
      "\n",
      "@highlight\n",
      "\n",
      "Mata, Herrera and De Gea pictured together on Tuesday afternoon\n",
      "\n",
      "@highlight\n",
      "\n",
      "All three players started in the opening day fixture with Swansea \n"
     ]
    },
    {
     "name": "stderr",
     "output_type": "stream",
     "text": [
      "[nltk_data] Downloading package stopwords to\n",
      "[nltk_data]     /Users/rohankilledar/nltk_data...\n",
      "[nltk_data]   Package stopwords is already up-to-date!\n"
     ]
    }
   ],
   "source": [
    "import re\n",
    "from nltk.corpus import stopwords\n",
    "import string\n",
    "import nltk\n",
    "nltk.download('stopwords')\n",
    "en_stopwords = stopwords.words('english')\n",
    "\n",
    "def read_file(filename):\n",
    "    file = open(filename, encoding= 'UTF-8')\n",
    "    text = file.read()\n",
    "    file.close()\n",
    "    # cnn_indx = text.find(\"(CNN)\")\n",
    "    # if cnn_indx >=0:\n",
    "    #     text = text[cnn_indx+len(\"(CNN)\"):]\n",
    "        \n",
    "    #text = re.sub(\"\\n\",\" \",text).lower()\n",
    "\n",
    "    #text.split(\"\\n\")\n",
    "    # cleaned = list()\n",
    "    # table = str.maketrans('','',string.punctuation)\n",
    "\n",
    "    # for line in text:\n",
    "       \n",
    "    #     line = line.split(\" \")\n",
    "\n",
    "    #     line = [w.translate(table) for w in line]\n",
    "        \n",
    "    #     line = [w for w in line if w.isalpha()]\n",
    "    #     cleaned.append(' '.join(line))\n",
    "\n",
    "    # text = [sent for sent in cleaned if len(sent)>0]\n",
    "\n",
    "    return text\n",
    "\n",
    "article = read_file('/Users/rohankilledar/Documents/MSc Artificial Intelligence/repos/summarisation/cnn/stories/0a0a4c90d59df9e36ffec4ba306b4f20f3ba4acb.story')\n",
    "dmarticle = read_file('/Users/rohankilledar/Documents/MSc Artificial Intelligence/repos/summarisation/dailymail/stories/0a00a9aebcb754c51534867cf1db2335dcb76884.story')\n",
    "# t = article.split(\"\\n\")\n",
    "# cleaned = list()\n",
    "# table = str.maketrans('','',string.punctuation)\n",
    "# for w in t:\n",
    "#     if len(w)>0:\n",
    "#         w = w.split(\" \")\n",
    "#         w = [word.translate(table) for word in w]\n",
    "#         w = [word for word in w if word.isalpha()]\n",
    "#         cleaned.append(\" \".join(w))\n",
    "# print(cleaned)\n",
    "print(dmarticle)\n"
   ]
  },
  {
   "cell_type": "markdown",
   "metadata": {},
   "source": [
    "Now we need to split the article and the hightlights"
   ]
  },
  {
   "cell_type": "code",
   "execution_count": 107,
   "metadata": {},
   "outputs": [
    {
     "name": "stdout",
     "output_type": "stream",
     "text": [
      "Manchester United's Spaniards may have struggled to gel on the pitch, but they have been building up a close relationship off it.\n",
      "\n",
      "Juan Mata, Ander Herrera and David de Gea have become good friends and enjoyed lunch together in Hale Village, Cheshire on Tuesday afternoon.\n",
      "\n",
      "The Spanish trio were all named in Louis van Gaal's starting line-up for the opening day fixture against Swansea, although they were unable to prevent a disappointing 2-1 defeat bySwansea.\n",
      "\n",
      "VIDEO Scroll down to watch Mata challenge compatriot De Gea to Corner Kick Challenge \n",
      "\n",
      "Meet and greet: Juan Mata (left) has been helping fellow Spaniard Ander Herrera (right) settle in\n",
      "\n",
      "Join the club: Manchester United keeper David de Gea and Herrera pictured together on Tuesday\n",
      "\n",
      "Three Amigos: The Spaniards stroll down the high street as they enjoy an afternoon in Hale Village\n",
      "\n",
      "Van Gaal has brought another Spanish speaker to Old Trafford, with Argentina defender Marcos Rojo describing it as a 'dream' to play for the Old Trafford club.\n",
      "\n",
      "The Sporting Lisbon player has emerged has been a key summer target for Van Gaal and United have paid £16million for the defender and sent Portuguese winger Nani back to his former club on a one-year loan deal.\n",
      "\n",
      "In an interview with the radio station Continental, quoted in several national newspapers, Rojo said: 'It's a dream to play at Manchester United and I am very proud of having the chance of working with [Louis] van Gaal.\n",
      "\n",
      "'I spoke with Juan Sebastian Veron about Manchester United when we were at Estudiantes. I have always liked English football, and I should adapt to this new playing style easily.' \n",
      "\n",
      "Double act: Mata and Herrera are hoping to form a close-knit midfield partnership at Old Trafford\n",
      "\n",
      "Slow start: Mata and his United team-mates will be hoping for  improved performances after defeat by Swansea\n",
      "\n",
      "Dream move: Marcos Rojo (left) has signed for United from Sporting Lisbon for £16m\n",
      "\n",
      "VIDEO United reach deal for Rojo \n",
      "\n",
      "\n",
      "Manchester United's Spanish trio enjoyed lunch in Hale Village. Mata, Herrera and De Gea pictured together on Tuesday afternoon. All three players started in the opening day fixture with Swansea\n"
     ]
    }
   ],
   "source": [
    "def split_text(article):\n",
    "    indx = article.index('@highlight')\n",
    "    story = article[:indx]\n",
    "    highlight = article[indx:].split('@highlight')\n",
    "\n",
    "    highlight = \". \".join([h.strip() for h in highlight if len(h)>0])\n",
    "    return story,highlight\n",
    "\n",
    "st,hi = split_text(dmarticle)\n",
    "print(st)\n",
    "print(hi)"
   ]
  },
  {
   "cell_type": "markdown",
   "metadata": {},
   "source": [
    "one of the dataset file seems to be usable now. Need to load all of the stories together using these given functions"
   ]
  },
  {
   "cell_type": "code",
   "execution_count": 108,
   "metadata": {},
   "outputs": [
    {
     "data": {
      "application/vnd.jupyter.widget-view+json": {
       "model_id": "1ea525b670bf403d8188710b18c45d0b",
       "version_major": 2,
       "version_minor": 0
      },
      "text/plain": [
       "  0%|          | 0/92579 [00:00<?, ?it/s]"
      ]
     },
     "metadata": {},
     "output_type": "display_data"
    },
    {
     "data": {
      "application/vnd.jupyter.widget-view+json": {
       "model_id": "9200988830bd426aacf0d3e8ba9a0f24",
       "version_major": 2,
       "version_minor": 0
      },
      "text/plain": [
       "  0%|          | 0/219506 [00:00<?, ?it/s]"
      ]
     },
     "metadata": {},
     "output_type": "display_data"
    },
    {
     "name": "stdout",
     "output_type": "stream",
     "text": [
      "total stories in dataset: 312085\n"
     ]
    }
   ],
   "source": [
    "from os import listdir\n",
    "\n",
    "def read_all(folder):\n",
    "    dataset = list()\n",
    "\n",
    "    for file in tqdm(listdir(folder)):\n",
    "        filename = folder + '/' + file\n",
    "        article = read_file(filename)\n",
    "        story,highlight = split_text(article)\n",
    "\n",
    "        dataset.append({'story':story, 'highlight':highlight})\n",
    "    \n",
    "    return dataset\n",
    "\n",
    "folder = \"/Users/rohankilledar/Documents/MSc Artificial Intelligence/repos/summarisation/cnn/stories\"\n",
    "daily_mail = '/Users/rohankilledar/Documents/MSc Artificial Intelligence/repos/summarisation/dailymail/stories'\n",
    "\n",
    "dataset = read_all(folder)\n",
    "daily_mail_dataset = read_all(daily_mail)\n",
    "dataset.extend(daily_mail_dataset)\n",
    "\n",
    "print(\"total stories in dataset: \"+ str(len(dataset)))"
   ]
  },
  {
   "cell_type": "code",
   "execution_count": 109,
   "metadata": {},
   "outputs": [
    {
     "data": {
      "text/plain": [
       "'Zimmerman posts $5,000 bail; he was accused of throwing a bottle at a girlfriend. \"He hasn\\'t been very lucky with the ladies,\" attorney says of Zimmerman. He became a national figure after being charged, then acquitted in Trayvon Martin\\'s death'"
      ]
     },
     "execution_count": 109,
     "metadata": {},
     "output_type": "execute_result"
    }
   ],
   "source": [
    "example = dataset[1]['highlight']\n",
    "example\n"
   ]
  },
  {
   "cell_type": "markdown",
   "metadata": {},
   "source": [
    "Data Cleaning"
   ]
  },
  {
   "cell_type": "code",
   "execution_count": 110,
   "metadata": {},
   "outputs": [
    {
     "data": {
      "application/vnd.jupyter.widget-view+json": {
       "model_id": "f4b1f60cdce04342baf445d28d284c33",
       "version_major": 2,
       "version_minor": 0
      },
      "text/plain": [
       "  0%|          | 0/312085 [00:00<?, ?it/s]"
      ]
     },
     "metadata": {},
     "output_type": "display_data"
    }
   ],
   "source": [
    "import re\n",
    "def clean_data(data):\n",
    "    cleaned = list()\n",
    "    table = str.maketrans('', '', string.punctuation)\n",
    "    for line in data:\n",
    "        #line = re.split(r\"(CNN)+ --\",line)\n",
    "\n",
    "        dash_indx = line.find(\"--\")\n",
    "        if dash_indx >=0:\n",
    "            line = line[dash_indx+len(\"--\"):]\n",
    "\n",
    "        #line = line.trim()\n",
    "        # tokenize on white space\n",
    "        line = line.split()\n",
    "        # convert to lower case\n",
    "        line = [word.lower() for word in line]\n",
    "        # remove punctuation from each token\n",
    "        line = [w.translate(table) for w in line]\n",
    "        # remove tokens with numbers in them\n",
    "        line = [word for word in line if word.isalpha()]\n",
    "        # store as string\n",
    "        cleaned.append(' '.join(line))\n",
    "\t# remove empty strings\n",
    "    cleaned = [c for c in cleaned if len(c) > 0]\n",
    "    return cleaned\n",
    "\n",
    "\n",
    "#dataset[0]['story'] = clean_data(dataset[0]['story'].split('\\n'))\n",
    "#dataset[0]['highlight'] = clean_data(dataset[0]['highlight'])\n",
    "#     #text = re.sub(\"\\n\",\" \",text).lower()\n",
    "# cleaned_dataset = dataset.copy()\n",
    "for i in tqdm(range(len(dataset))):\n",
    "\n",
    "    dataset[i]['story']= clean_data(dataset[i]['story'].split('\\n'))#.lstrip(\"[\\'\").rstrip(\"\\']\")\n",
    "    dataset[i]['highlight'] = clean_data(dataset[i]['highlight'].split('\\n'))#.lstrip(\"[\\'\").rstrip(\"\\']\")\n",
    "    "
   ]
  },
  {
   "cell_type": "code",
   "execution_count": 111,
   "metadata": {},
   "outputs": [
    {
     "data": {
      "text/plain": [
       "['delta plane circled airport for minutes following the blunder the federal aviation administration is investigating the incident air traffic controller told pilot im kidding but plane had already ascended']"
      ]
     },
     "execution_count": 111,
     "metadata": {},
     "output_type": "execute_result"
    }
   ],
   "source": [
    "dataset[100000]['highlight']"
   ]
  },
  {
   "cell_type": "markdown",
   "metadata": {},
   "source": [
    "Saving the dataset"
   ]
  },
  {
   "cell_type": "code",
   "execution_count": 113,
   "metadata": {},
   "outputs": [],
   "source": [
    "import csv\n",
    "csv_columns = ['story','highlight']\n",
    "csv_file = \"data.csv\"\n",
    "try:\n",
    "    with open(csv_file, 'w') as csvfile:\n",
    "        writer = csv.DictWriter(csvfile, fieldnames=csv_columns)\n",
    "        writer.writeheader()\n",
    "        for data in dataset:\n",
    "            writer.writerow(data)\n",
    "except IOError:\n",
    "    print(\"I/O error\")"
   ]
  },
  {
   "cell_type": "code",
   "execution_count": 114,
   "metadata": {},
   "outputs": [],
   "source": [
    "import pandas as pd\n",
    "\n",
    "dataset_pd = pd.read_csv(\"data.csv\")"
   ]
  },
  {
   "cell_type": "code",
   "execution_count": 115,
   "metadata": {},
   "outputs": [
    {
     "data": {
      "text/plain": [
       "\"at the start of a big week for the higgs boson the most soughtafter particle in all of physics scientists in illinois said monday that they had crept closer to proving that the particle exists but had been unable to reach a definitive conclusion', 'the scientists outlined their final analysis based on more than years of research and trillion particle collisions using the us department of energys fermilab tevatron collider near batavia illinois whose budgetary woes shut it down last year', 'what is the higgs boson and why is it important', 'their announcement came two days before researchers at the large hadron collider under the alps are due to unveil their latest results at an eagerly awaited seminar at the cern particle physics laboratory in geneva switzerland', 'our data strongly point toward the existence of the higgs boson rob roser a spokesman for one of two independent experiments at the tevatron said in a statement but it will take results from the experiments at the large hadron collider in europe to establish a discovery', 'read more the woman at the edge of physics', 'finding the higgs boson would help explain the origin of mass one of the open questions in physicists current understanding of the way the universe works', 'the particle has been so difficult to pin down that the physicist leon lederman reportedly wanted to call his book the goddamn particle but he truncated that epithet to the god particle which may have helped elevate the particles allure in popular culture', 'more science news from cnn light years', 'about times the mass of the proton', 'before the tevatron closed the experiments there sent beams of particles whizzing around a fourmile circumference in opposite directions traveling at a fraction below the speed of light the particles would crash into each other creating conditions similar to those at the dawn of the universe for scientists to observe', 'but so far neither the results from the us collider experiments nor from the the large hadron collider located feet underneath the border of france and switzerland have enough statistical significance to constitute a discovery', 'it is easier to look for a friends face in a sports stadium filled with people than to search for a higgslike event among trillions of collisions said luciano ristori a physicist at the us facility', 'attention now turns to the latest analysis of data from the billion european machine the worlds most powerful particle smasher', 'we now have more than double the data we had last year sergio bertolucci the director for research and computing at cern said last month that should be enough to see whether the trends we were seeing in the data are still there or whether theyve gone away its a very exciting time', 'scientists getting clearer picture of god particle\""
      ]
     },
     "execution_count": 115,
     "metadata": {},
     "output_type": "execute_result"
    }
   ],
   "source": [
    "#dataset_pd['highlight'][0].lstrip(\"[\\'\").rstrip(\"\\']\")\n",
    "dataset_pd['story'][0].lstrip(\"[\\'\").rstrip(\"\\']\")"
   ]
  },
  {
   "cell_type": "code",
   "execution_count": 124,
   "metadata": {},
   "outputs": [],
   "source": [
    "dataset_pd['highlight'] = dataset_pd['highlight'].apply(lambda x:  'sostok ' + x.lstrip(\"[\\'\").rstrip(\"\\']\") + ' eostok')\n",
    "dataset_pd['story'] = dataset_pd['story'].apply(lambda x: x.lstrip(\"[\\'\").rstrip(\"\\']\") )\n"
   ]
  },
  {
   "cell_type": "code",
   "execution_count": 138,
   "metadata": {},
   "outputs": [],
   "source": [
    "import pickle\n",
    "output_file = open('dataset.pkl','wb')\n",
    "pickle.dump(dataset_pd, output_file)\n",
    "output_file.close()"
   ]
  },
  {
   "cell_type": "code",
   "execution_count": 126,
   "metadata": {},
   "outputs": [],
   "source": [
    "#dataset_pd.drop('hightlight1', axis=1, inplace=True)\n",
    "dataset_pd['word_count_text'] = dataset_pd['story'].apply(lambda x: len(str(x).split()))"
   ]
  },
  {
   "cell_type": "code",
   "execution_count": 134,
   "metadata": {},
   "outputs": [
    {
     "name": "stdout",
     "output_type": "stream",
     "text": [
      " 0 percentile value is 0\n",
      " 10 percentile value is 293\n",
      " 20 percentile value is 379\n",
      " 30 percentile value is 451\n",
      " 40 percentile value is 521\n",
      " 50 percentile value is 592\n",
      " 60 percentile value is 672\n",
      " 70 percentile value is 766\n",
      " 80 percentile value is 891\n",
      " 90 percentile value is 1096\n",
      "100 percentile value is  2094\n"
     ]
    }
   ],
   "source": [
    "import numpy as np\n",
    "for i in range(0,100,10) :\n",
    "    var =dataset_pd[\"word_count_text\"]. values\n",
    "    var = np.sort(var,axis = None)\n",
    "    print (\" {} percentile value is {}\".format (i,var[int(len(var)*(float(i)/100))]))\n",
    "print (\"100 percentile value is \",var[-1])"
   ]
  },
  {
   "cell_type": "code",
   "execution_count": 135,
   "metadata": {},
   "outputs": [
    {
     "name": "stdout",
     "output_type": "stream",
     "text": [
      "90 percentile value is 1096\n",
      "91 percentile value is 1126\n",
      "92 percentile value is 1159\n",
      "93 percentile value is 1195\n",
      "94 percentile value is 1236\n",
      "95 percentile value is 1285\n",
      "96 percentile value is 1340\n",
      "97 percentile value is 1403\n",
      "98 percentile value is 1482\n",
      "99 percentile value is 1579\n",
      "100 percentile value is  2094\n"
     ]
    }
   ],
   "source": [
    "for i in range (90,100) :\n",
    "    var =dataset_pd[\"word_count_text\"].values\n",
    "    var = np.sort(var, axis = None)\n",
    "    print(\"{} percentile value is {}\".format(i, var[int (len(var)*(float (i)/100))]))\n",
    "print (\"100 percentile value is \", var[-1])"
   ]
  }
 ],
 "metadata": {
  "interpreter": {
   "hash": "cd78fef2128015050713e82ca51c6520b11aee7c9ee8df750520bbbc7384cbaa"
  },
  "kernelspec": {
   "display_name": "Python 3.8.8 64-bit ('base': conda)",
   "name": "python3"
  },
  "language_info": {
   "codemirror_mode": {
    "name": "ipython",
    "version": 3
   },
   "file_extension": ".py",
   "mimetype": "text/x-python",
   "name": "python",
   "nbconvert_exporter": "python",
   "pygments_lexer": "ipython3",
   "version": "3.8.8"
  },
  "orig_nbformat": 4
 },
 "nbformat": 4,
 "nbformat_minor": 2
}
