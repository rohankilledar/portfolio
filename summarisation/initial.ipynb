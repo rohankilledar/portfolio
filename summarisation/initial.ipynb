{
 "cells": [
  {
   "cell_type": "markdown",
   "metadata": {},
   "source": [
    "I'll be using CNN articles as dataset. These articles are stored in multiple files along with their highlights. These highlight can be used to gauge the summary output. "
   ]
  },
  {
   "cell_type": "code",
   "execution_count": 16,
   "metadata": {},
   "outputs": [],
   "source": [
    "from tqdm.notebook import tqdm "
   ]
  },
  {
   "cell_type": "markdown",
   "metadata": {},
   "source": [
    "Let's try reading the file content "
   ]
  },
  {
   "cell_type": "code",
   "execution_count": 17,
   "metadata": {},
   "outputs": [],
   "source": [
    "def read_file(filename):\n",
    "    file = open(filename, encoding= 'UTF-8')\n",
    "    text = file.read()\n",
    "    file.close()\n",
    "    return text\n",
    "\n",
    "text = read_file('/Users/rohankilledar/Documents/MSc Artificial Intelligence/repos/summarisation/cnn/stories/0a0a4c90d59df9e36ffec4ba306b4f20f3ba4acb.story')\n",
    "#text.split(\"\\n\")\n",
    "\n"
   ]
  },
  {
   "cell_type": "markdown",
   "metadata": {},
   "source": [
    "It seems the we need to do some cleaning before we start working on the file."
   ]
  },
  {
   "cell_type": "code",
   "execution_count": 18,
   "metadata": {},
   "outputs": [
    {
     "name": "stdout",
     "output_type": "stream",
     "text": [
      "(CNN) -- Can a movie actually convince you to support torture? Can a movie really persuade you that \"fracking\" -- a process used to drill for natural gas -- is a danger to the environment? Can a movie truly cause you to view certain minority groups in a negative light?\n",
      "\n",
      "Some scoff at the notion that movies do anything more than entertain. They are wrong. Sure, it's unlikely that one movie alone will change your views on issues of magnitude. But a movie (or TV show) can begin your \"education\" or \"miseducation\" on a topic. And for those already agreeing with the film's thesis, it can further entrench your views.\n",
      "\n",
      "Anyone who doubts the potential influence that movies can have on public opinion need to look no further than two films that are causing an uproar even before they have opened nationwide. They present hot button issues that manage to fire up people from the left and right.\n",
      "\n",
      "The first, \"Zero Dark Thirty,\" is about the pursuit and killing of Osama bin Laden, which features scenes of torture. The second, \"Promised Land,\" stars Matt Damon and explores how the use of fracking to drill for natural gas can pose health and environmental dangers.\n",
      "\n",
      "Critics of \"Zero Dark Thirty\" fear that audiences will accept as true the film's story line that torture was effective in eliciting information to locate bin Laden. They are rightfully concerned that the film will sway some to become more receptive or even supportive of the idea of torturing prisoners.\n",
      "\n",
      "Peter Bergen: Did torture really net bin Laden?\n",
      "\n",
      "Opposition to the film escalated last week as three senior U.S. senators -- John McCain, Carl Levin and Dianne Feinstein -- sent a letter to the film's distributor, Sony Pictures, characterizing the film's use of torture as \"grossly inaccurate and misleading.\" The senators bluntly informed Sony Pictures that it has \"an obligation to state that the role of torture in the hunt for Osama bin Laden is not based on the facts, but rather part of the film's fictional narrative.\"\n",
      "\n",
      "The hostility toward \"Promised Land\" shows us that it's not just politicians who complain about movie messages. Big business -- namely, the gas industry -- is aggressively objecting to the allegation in \"Promised Land\" that fracking poses environmental and health risks.\n",
      "\n",
      "How concerned is the gas industry?\n",
      "\n",
      "It has set up a rapid response team to counter publicity for the film by using two Washington-based groups that lobby for gas and oil companies: the Independent Petroleum Association of America and Energy in Depth. These groups have scrutinized appearances by the films stars on talk shows, questioned who the financiers of the film are, published parts of the script and mocked the film on social media.\n",
      "\n",
      "Energy in Depth went as far as to \"fact check\" a recent appearance by the film's co-star and co-writer, John Krasinski, on \"Late Night With David Letterman.\" Within hours of Krasinski's appearance, Energy in Depth posted a blog on its website pointing out what it perceived as factual errors made by Krasinski about fracking.\n",
      "\n",
      "Regardless of whether \"Zero Dark Thirty\" and \"Promised Land\" intended to promote any message, people who watch them will be \"educated\" in some way on torture and fracking -- even if very subtly.\n",
      "\n",
      "This is the same reason that minority groups continue to object to being represented in a negative light in movies and TV. They understand that accurate representations matter because studies have shown that biases can form based on stereotypes or inaccurate representations. (Being of Italian and Arab descent, I'm acutely aware of this issue as my respective heritages have been represented by a parade of mobsters and terrorists.)\n",
      "\n",
      "What's Hollywood's role in all of this? The same as it has always been -- to make money.\n",
      "\n",
      "In fact, there's no doubt that the studios behind these movies are overjoyed at the controversy that has erupted and the resulting free press. Indeed, the response of Sony Pictures to the uproar over \"Zero Dark Thirty\" tells you about what they really hope we will all do: \"We encourage people to see the film before characterizing it.\"\n",
      "\n",
      "So go ahead, enjoy these films and ones like them that are based on actual events or current hot issues. But while you are watching them, be aware you might be getting more than the price of ticket. You might also be getting a (mis)education.\n",
      "\n",
      "The opinions expressed in this commentary are solely those of Dean Obeidallah.\n",
      "\n",
      "@highlight\n",
      "\n",
      "Dean Obeidallah: A movie or TV show can educate or (mis)educate you\n",
      "\n",
      "@highlight\n",
      "\n",
      "Obeidallah: Two new films about hot issues are firing up both the left and right\n",
      "\n",
      "@highlight\n",
      "\n",
      "Senators slammed \"Zero Dark Thirty,\" and energy industry attacked \"Promised Land\"\n",
      "\n",
      "@highlight\n",
      "\n",
      "Obeidallah: What does Hollywood want? To make money, of course\n"
     ]
    },
    {
     "name": "stderr",
     "output_type": "stream",
     "text": [
      "[nltk_data] Downloading package stopwords to\n",
      "[nltk_data]     /Users/rohankilledar/nltk_data...\n",
      "[nltk_data]   Package stopwords is already up-to-date!\n"
     ]
    }
   ],
   "source": [
    "import re\n",
    "from nltk.corpus import stopwords\n",
    "import string\n",
    "import nltk\n",
    "nltk.download('stopwords')\n",
    "en_stopwords = stopwords.words('english')\n",
    "\n",
    "def read_file(filename):\n",
    "    file = open(filename, encoding= 'UTF-8')\n",
    "    text = file.read()\n",
    "    file.close()\n",
    "    # cnn_indx = text.find(\"(CNN)\")\n",
    "    # if cnn_indx >=0:\n",
    "    #     text = text[cnn_indx+len(\"(CNN)\"):]\n",
    "        \n",
    "    #text = re.sub(\"\\n\",\" \",text).lower()\n",
    "\n",
    "    #text.split(\"\\n\")\n",
    "    # cleaned = list()\n",
    "    # table = str.maketrans('','',string.punctuation)\n",
    "\n",
    "    # for line in text:\n",
    "       \n",
    "    #     line = line.split(\" \")\n",
    "\n",
    "    #     line = [w.translate(table) for w in line]\n",
    "        \n",
    "    #     line = [w for w in line if w.isalpha()]\n",
    "    #     cleaned.append(' '.join(line))\n",
    "\n",
    "    # text = [sent for sent in cleaned if len(sent)>0]\n",
    "\n",
    "    return text\n",
    "\n",
    "article = read_file('/Users/rohankilledar/Documents/MSc Artificial Intelligence/repos/summarisation/cnn/stories/0a0a4c90d59df9e36ffec4ba306b4f20f3ba4acb.story')\n",
    "\n",
    "# t = article.split(\"\\n\")\n",
    "# cleaned = list()\n",
    "# table = str.maketrans('','',string.punctuation)\n",
    "# for w in t:\n",
    "#     if len(w)>0:\n",
    "#         w = w.split(\" \")\n",
    "#         w = [word.translate(table) for word in w]\n",
    "#         w = [word for word in w if word.isalpha()]\n",
    "#         cleaned.append(\" \".join(w))\n",
    "# print(cleaned)\n",
    "print(article)\n"
   ]
  },
  {
   "cell_type": "code",
   "execution_count": 19,
   "metadata": {},
   "outputs": [],
   "source": [
    "line  = article.split(\"\\n\")\n",
    "\n",
    "# ex = re.split(r\"(CNN)*-- \", article)\n",
    "# print(ex)"
   ]
  },
  {
   "cell_type": "markdown",
   "metadata": {},
   "source": [
    "Now we need to split the article and the hightlights"
   ]
  },
  {
   "cell_type": "code",
   "execution_count": 20,
   "metadata": {},
   "outputs": [],
   "source": [
    "def split_text(article):\n",
    "    indx = article.index('@highlight')\n",
    "    story = article[:indx]\n",
    "    highlight = article[indx:].split('@highlight')\n",
    "    highlight = [h.strip() for h in highlight if len(h)>0]\n",
    "    return story,highlight\n",
    "\n",
    "st,hi = split_text(article)\n",
    "#print(st)\n",
    "#print(hi)"
   ]
  },
  {
   "cell_type": "markdown",
   "metadata": {},
   "source": [
    "one of the dataset file seems to be usable now. Need to load all of the stories together using these given functions"
   ]
  },
  {
   "cell_type": "code",
   "execution_count": 37,
   "metadata": {},
   "outputs": [
    {
     "data": {
      "application/vnd.jupyter.widget-view+json": {
       "model_id": "9c3f4690e4264fa4a370e18baec994b3",
       "version_major": 2,
       "version_minor": 0
      },
      "text/plain": [
       "  0%|          | 0/92579 [00:00<?, ?it/s]"
      ]
     },
     "metadata": {},
     "output_type": "display_data"
    },
    {
     "name": "stdout",
     "output_type": "stream",
     "text": [
      "total stories in dataset: 92579\n"
     ]
    }
   ],
   "source": [
    "from os import listdir\n",
    "\n",
    "def read_all(folder):\n",
    "    dataset = list()\n",
    "\n",
    "    for file in tqdm(listdir(folder)):\n",
    "        filename = folder + '/' + file\n",
    "        article = read_file(filename)\n",
    "        story,highlight = split_text(article)\n",
    "\n",
    "        dataset.append({'story':story, 'highlight':highlight})\n",
    "    \n",
    "    return dataset\n",
    "\n",
    "folder = \"/Users/rohankilledar/Documents/MSc Artificial Intelligence/repos/summarisation/cnn/stories\"\n",
    "dataset = read_all(folder)\n",
    "print(\"total stories in dataset: \"+ str(len(dataset)))"
   ]
  },
  {
   "cell_type": "code",
   "execution_count": 39,
   "metadata": {},
   "outputs": [
    {
     "data": {
      "text/plain": [
       "['Zimmerman posts $5,000 bail; he was accused of throwing a bottle at a girlfriend',\n",
       " '\"He hasn\\'t been very lucky with the ladies,\" attorney says of Zimmerman',\n",
       " \"He became a national figure after being charged, then acquitted in Trayvon Martin's death\"]"
      ]
     },
     "execution_count": 39,
     "metadata": {},
     "output_type": "execute_result"
    }
   ],
   "source": [
    "example = dataset[1]['highlight']\n",
    "example\n"
   ]
  },
  {
   "cell_type": "markdown",
   "metadata": {},
   "source": [
    "Data Cleaning"
   ]
  },
  {
   "cell_type": "code",
   "execution_count": 40,
   "metadata": {},
   "outputs": [
    {
     "data": {
      "application/vnd.jupyter.widget-view+json": {
       "model_id": "531d1ff124bd4f649d881909dd6b44cb",
       "version_major": 2,
       "version_minor": 0
      },
      "text/plain": [
       "  0%|          | 0/92579 [00:00<?, ?it/s]"
      ]
     },
     "metadata": {},
     "output_type": "display_data"
    }
   ],
   "source": [
    "import re\n",
    "def clean_data(data):\n",
    "    cleaned = list()\n",
    "    table = str.maketrans('', '', string.punctuation)\n",
    "    for line in data:\n",
    "        #line = re.split(r\"(CNN)+ --\",line)\n",
    "\n",
    "        dash_indx = line.find(\"--\")\n",
    "        if dash_indx >=0:\n",
    "            line = line[dash_indx+len(\"--\"):]\n",
    "\n",
    "        #line = line.trim()\n",
    "        # tokenize on white space\n",
    "        line = line.split()\n",
    "        # convert to lower case\n",
    "        line = [word.lower() for word in line]\n",
    "        # remove punctuation from each token\n",
    "        line = [w.translate(table) for w in line]\n",
    "        # remove tokens with numbers in them\n",
    "        line = [word for word in line if word.isalpha()]\n",
    "        # store as string\n",
    "        cleaned.append(' '.join(line))\n",
    "\t# remove empty strings\n",
    "    cleaned = [c for c in cleaned if len(c) > 0]\n",
    "    return cleaned\n",
    "\n",
    "\n",
    "#dataset[0]['story'] = clean_data(dataset[0]['story'].split('\\n'))\n",
    "#dataset[0]['highlight'] = clean_data(dataset[0]['highlight'])\n",
    "#     #text = re.sub(\"\\n\",\" \",text).lower()\n",
    "# cleaned_dataset = dataset.copy()\n",
    "for i in tqdm(range(len(dataset))):\n",
    "\n",
    "    dataset[i]['story']= clean_data(dataset[i]['story'].split('\\n'))\n",
    "    dataset[i]['highlight'] = clean_data(dataset[i]['highlight'])\n",
    "    "
   ]
  },
  {
   "cell_type": "code",
   "execution_count": 46,
   "metadata": {},
   "outputs": [
    {
     "data": {
      "text/plain": [
       "['usbased scientists say their data points toward the existence of the higgs boson',\n",
       " 'finding the higgs boson would help explain the origin of mass',\n",
       " 'but the research at the tevatron collider doesnt provide a conclusive answer',\n",
       " 'attention now turns to a seminar wednesday on data from the large hadron collider']"
      ]
     },
     "execution_count": 46,
     "metadata": {},
     "output_type": "execute_result"
    }
   ],
   "source": [
    "dataset[0]['highlight']"
   ]
  },
  {
   "cell_type": "markdown",
   "metadata": {},
   "source": [
    "Saving the dataset"
   ]
  },
  {
   "cell_type": "code",
   "execution_count": 42,
   "metadata": {},
   "outputs": [],
   "source": [
    "# save to file\n",
    "from pickle import dump\n",
    "dump(dataset, open('cnn_dataset.pkl', 'wb'))"
   ]
  },
  {
   "cell_type": "code",
   "execution_count": 43,
   "metadata": {},
   "outputs": [],
   "source": [
    "import csv\n",
    "csv_columns = ['story','highlight']\n",
    "csv_file = \"cnn.csv\"\n",
    "try:\n",
    "    with open(csv_file, 'w') as csvfile:\n",
    "        writer = csv.DictWriter(csvfile, fieldnames=csv_columns)\n",
    "        writer.writeheader()\n",
    "        for data in dataset:\n",
    "            writer.writerow(data)\n",
    "except IOError:\n",
    "    print(\"I/O error\")"
   ]
  },
  {
   "cell_type": "code",
   "execution_count": 44,
   "metadata": {},
   "outputs": [],
   "source": [
    "import pandas as pd\n",
    "\n",
    "dataset_pd = pd.read_csv(\"cnn.csv\")"
   ]
  },
  {
   "cell_type": "code",
   "execution_count": 45,
   "metadata": {},
   "outputs": [
    {
     "data": {
      "text/html": [
       "<div>\n",
       "<style scoped>\n",
       "    .dataframe tbody tr th:only-of-type {\n",
       "        vertical-align: middle;\n",
       "    }\n",
       "\n",
       "    .dataframe tbody tr th {\n",
       "        vertical-align: top;\n",
       "    }\n",
       "\n",
       "    .dataframe thead th {\n",
       "        text-align: right;\n",
       "    }\n",
       "</style>\n",
       "<table border=\"1\" class=\"dataframe\">\n",
       "  <thead>\n",
       "    <tr style=\"text-align: right;\">\n",
       "      <th></th>\n",
       "      <th>story</th>\n",
       "      <th>highlight</th>\n",
       "    </tr>\n",
       "  </thead>\n",
       "  <tbody>\n",
       "    <tr>\n",
       "      <th>0</th>\n",
       "      <td>['at the start of a big week for the higgs bos...</td>\n",
       "      <td>['usbased scientists say their data points tow...</td>\n",
       "    </tr>\n",
       "    <tr>\n",
       "      <th>1</th>\n",
       "      <td>['acquitted by a florida jury over the death o...</td>\n",
       "      <td>['zimmerman posts bail he was accused of throw...</td>\n",
       "    </tr>\n",
       "    <tr>\n",
       "      <th>2</th>\n",
       "      <td>['zlatan ibrahimovic scored his third goal in ...</td>\n",
       "      <td>['barcelona move three points clear of real ma...</td>\n",
       "    </tr>\n",
       "    <tr>\n",
       "      <th>3</th>\n",
       "      <td>['nobel laureate norman e borlaug an agricultu...</td>\n",
       "      <td>['borlaug died at the age of from complication...</td>\n",
       "    </tr>\n",
       "    <tr>\n",
       "      <th>4</th>\n",
       "      <td>['cnnlouisiana gov bobby jindal on monday stoo...</td>\n",
       "      <td>['louisiana gov bobby jindal decried nogo zone...</td>\n",
       "    </tr>\n",
       "  </tbody>\n",
       "</table>\n",
       "</div>"
      ],
      "text/plain": [
       "                                               story  \\\n",
       "0  ['at the start of a big week for the higgs bos...   \n",
       "1  ['acquitted by a florida jury over the death o...   \n",
       "2  ['zlatan ibrahimovic scored his third goal in ...   \n",
       "3  ['nobel laureate norman e borlaug an agricultu...   \n",
       "4  ['cnnlouisiana gov bobby jindal on monday stoo...   \n",
       "\n",
       "                                           highlight  \n",
       "0  ['usbased scientists say their data points tow...  \n",
       "1  ['zimmerman posts bail he was accused of throw...  \n",
       "2  ['barcelona move three points clear of real ma...  \n",
       "3  ['borlaug died at the age of from complication...  \n",
       "4  ['louisiana gov bobby jindal decried nogo zone...  "
      ]
     },
     "execution_count": 45,
     "metadata": {},
     "output_type": "execute_result"
    }
   ],
   "source": [
    "dataset_pd.head()"
   ]
  }
 ],
 "metadata": {
  "interpreter": {
   "hash": "cd78fef2128015050713e82ca51c6520b11aee7c9ee8df750520bbbc7384cbaa"
  },
  "kernelspec": {
   "display_name": "Python 3.8.8 64-bit ('base': conda)",
   "name": "python3"
  },
  "language_info": {
   "codemirror_mode": {
    "name": "ipython",
    "version": 3
   },
   "file_extension": ".py",
   "mimetype": "text/x-python",
   "name": "python",
   "nbconvert_exporter": "python",
   "pygments_lexer": "ipython3",
   "version": "3.8.8"
  },
  "orig_nbformat": 4
 },
 "nbformat": 4,
 "nbformat_minor": 2
}
