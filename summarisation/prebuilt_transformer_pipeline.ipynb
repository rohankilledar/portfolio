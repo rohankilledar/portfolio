{
 "cells": [
  {
   "cell_type": "code",
   "execution_count": 1,
   "metadata": {},
   "outputs": [
    {
     "name": "stdout",
     "output_type": "stream",
     "text": [
      "Requirement already satisfied: transformers in /Applications/anaconda3/lib/python3.8/site-packages (4.12.5)\n",
      "Requirement already satisfied: requests in /Applications/anaconda3/lib/python3.8/site-packages (from transformers) (2.25.1)\n",
      "Requirement already satisfied: pyyaml>=5.1 in /Applications/anaconda3/lib/python3.8/site-packages (from transformers) (5.4.1)\n",
      "Requirement already satisfied: filelock in /Applications/anaconda3/lib/python3.8/site-packages (from transformers) (3.0.12)\n",
      "Requirement already satisfied: packaging>=20.0 in /Applications/anaconda3/lib/python3.8/site-packages (from transformers) (20.9)\n",
      "Requirement already satisfied: tqdm>=4.27 in /Applications/anaconda3/lib/python3.8/site-packages (from transformers) (4.59.0)\n",
      "Requirement already satisfied: numpy>=1.17 in /Applications/anaconda3/lib/python3.8/site-packages (from transformers) (1.20.1)\n",
      "Requirement already satisfied: sacremoses in /Applications/anaconda3/lib/python3.8/site-packages (from transformers) (0.0.46)\n",
      "Requirement already satisfied: tokenizers<0.11,>=0.10.1 in /Applications/anaconda3/lib/python3.8/site-packages (from transformers) (0.10.3)\n",
      "Requirement already satisfied: regex!=2019.12.17 in /Applications/anaconda3/lib/python3.8/site-packages (from transformers) (2021.4.4)\n",
      "Requirement already satisfied: huggingface-hub<1.0,>=0.1.0 in /Applications/anaconda3/lib/python3.8/site-packages (from transformers) (0.1.2)\n",
      "Requirement already satisfied: typing-extensions>=3.7.4.3 in /Applications/anaconda3/lib/python3.8/site-packages (from huggingface-hub<1.0,>=0.1.0->transformers) (3.7.4.3)\n",
      "Requirement already satisfied: pyparsing>=2.0.2 in /Applications/anaconda3/lib/python3.8/site-packages (from packaging>=20.0->transformers) (2.4.7)\n",
      "Requirement already satisfied: certifi>=2017.4.17 in /Applications/anaconda3/lib/python3.8/site-packages (from requests->transformers) (2020.12.5)\n",
      "Requirement already satisfied: urllib3<1.27,>=1.21.1 in /Applications/anaconda3/lib/python3.8/site-packages (from requests->transformers) (1.26.4)\n",
      "Requirement already satisfied: idna<3,>=2.5 in /Applications/anaconda3/lib/python3.8/site-packages (from requests->transformers) (2.10)\n",
      "Requirement already satisfied: chardet<5,>=3.0.2 in /Applications/anaconda3/lib/python3.8/site-packages (from requests->transformers) (4.0.0)\n",
      "Requirement already satisfied: joblib in /Applications/anaconda3/lib/python3.8/site-packages (from sacremoses->transformers) (1.0.1)\n",
      "Requirement already satisfied: six in /Applications/anaconda3/lib/python3.8/site-packages (from sacremoses->transformers) (1.15.0)\n",
      "Requirement already satisfied: click in /Applications/anaconda3/lib/python3.8/site-packages (from sacremoses->transformers) (7.1.2)\n"
     ]
    }
   ],
   "source": [
    "!pip install transformers"
   ]
  },
  {
   "cell_type": "code",
   "execution_count": null,
   "metadata": {},
   "outputs": [],
   "source": []
  },
  {
   "cell_type": "code",
   "execution_count": 2,
   "metadata": {},
   "outputs": [],
   "source": [
    "import torch\n",
    "import transformers"
   ]
  },
  {
   "cell_type": "code",
   "execution_count": 3,
   "metadata": {},
   "outputs": [
    {
     "name": "stderr",
     "output_type": "stream",
     "text": [
      "No model was supplied, defaulted to sshleifer/distilbart-cnn-12-6 (https://huggingface.co/sshleifer/distilbart-cnn-12-6)\n"
     ]
    }
   ],
   "source": [
    "summarizer = transformers.pipeline('summarization')"
   ]
  },
  {
   "cell_type": "code",
   "execution_count": 4,
   "metadata": {},
   "outputs": [],
   "source": [
    "def summarize_with_pipeline(text,pipeline,max_length=70,min_length=30):\n",
    "\n",
    "    return pipeline(text,max_length=max_length,min_length=min_length)[0]['summary_text']"
   ]
  },
  {
   "cell_type": "code",
   "execution_count": 5,
   "metadata": {},
   "outputs": [
    {
     "name": "stdout",
     "output_type": "stream",
     "text": [
      " U.S. system of government is designed to make it difficult to get things done . Constitution was written 222 years ago by men who didn't trust government . Constitution meant strong government meant despotism; separation of powers designed to ensure weak government . Clinton, Bush had trouble getting what he wanted from a Republican Congress .\n"
     ]
    }
   ],
   "source": [
    "text = \"\"\" (CNN)  -- Be bold! Think big! Barack Obama wants to do just that. An $800 billion economic stimulus plan. Three million jobs. Health care reform. A restructured automobile industry.\n",
    "\n",
    "Obama's popularity with voters will win him influence with political opponents.\n",
    "\n",
    "Obama won the biggest Democratic majority for president in 44 years. His party made big gains in Congress. Democrats now have a majority of nearly 60 percent in both the House and Senate. President Obama's got a mandate. And a majority. What's to stop him?\n",
    "\n",
    "Just this: the U.S. system of government. It is set up to make it difficult to get things done.\n",
    "\n",
    "The Constitution was written 222 years ago by men who didn't trust government. They had just waged a revolution against a king. To the founders of the American republic, strong government meant despotism.\n",
    "\n",
    "So they set up a system with an elaborate separation of powers. The idea was to ensure weak government.\n",
    "\n",
    "The dirty little secret of American government is that it was designed not to work very well.\n",
    "\n",
    "As president after president has discovered, there are innumerable ways opponents can stop measures from getting passed, even if the president's party holds a majority in Congress.\n",
    "\n",
    "The Senate has its own rule that's not in the Constitution requiring a super-majority of 60 Senate votes to control the agenda.\n",
    "\n",
    "A minority of 41 senators can \"filibuster'' a measure and prevent it from coming up for a vote. How many votes will Republicans have in the Senate? 41 or 42, depending on the outcome in Minnesota where ballots are still being counted.\n",
    "\n",
    "Presidents often have problems holding their own party together. That's because members of Congress are elected by local constituencies and they are expected to represent local interests.\n",
    "\n",
    "American politicians are independent political entrepreneurs. They are not foot-soldiers of a party.\n",
    "\n",
    "When Bill Clinton first became president, he had a solid Democratic majority in Congress. But he could not get his health care reform plan passed.\n",
    "\n",
    "After an intense advertising campaign by opponents, many Americans were worried that the Clintons were planning a government takeover of the health care system. The Clinton plan failed, and within two years, Democrats lost their majority in Congress.\n",
    "\n",
    "One-party control didn't work any better for George W. Bush. Bush had trouble getting what he wanted -- notably, immigration reform -- from a Republican Congress. Republicans lost their majority in Congress in 2006.\n",
    "\n",
    "But here's another dirty little secret of American government: it often does work. Very well in fact.\n",
    "\n",
    "Under the right conditions, barriers fall away and things get done, sometimes with amazing speed and efficiency.\n",
    "\n",
    "What are the right conditions? An overwhelming sense of public urgency. That sense of urgency certainly existed after 9/11, when Congress quickly passed the Patriot Act.\n",
    "\n",
    "Getting anything big done in American government requires a sense of crisis. That's why politicians in the U.S. are always declaring crises -- a drug crisis, an education crisis, an environmental crisis. Or they're trying to rally the country to fight a war on something -- a war on poverty, a war on crime.\n",
    "\n",
    "If the public urgency is not authentic, however, opponents won't have much trouble stopping things from happening.\n",
    "\n",
    "Obama certainly takes office at a time of crisis, just as Abraham Lincoln and Franklin D. Roosevelt did.\n",
    "\n",
    "Like them, he has the opportunity to transform American government. Members of Congress who try to block President Obama's program may find themselves in political trouble.\n",
    "\n",
    "Because there is yet another dirty little secret of American government: the United States is the most populist democracy in the world.\n",
    "\n",
    "Here, the people rule.\n",
    "\n",
    "When the people want something, they will get it, whether it's the death penalty or gun rights or lower taxes.\n",
    "\n",
    "Why doesn't the United States have a metric system or dollar coins like other countries? Because the people won't use them.\n",
    "\n",
    "Obama's popularity is soaring right now. When a president is popular, he has clout.\n",
    "\n",
    "Everyone wants to be on his side, even members of the opposition party. They're in business for themselves, and supporting a popular president is good for business. Standing in his way could drive them out of business.\n",
    "\n",
    "American government is not an efficient, well-oiled machine. It was never designed to be. It has to be lubricated by public pressure.\n",
    "\n",
    "If the people are shouting \"Do something!'' -- as they are right now -- then something will happen. Even if it means a lot more spending and a lot more government.\n",
    "\n",
    "The people reserve one key right: they will let the government know, rather quickly, whether or not it's working.\n",
    "\"\"\"\n",
    "\n",
    "summary = summarize_with_pipeline(text,summarizer)\n",
    "print(summary)"
   ]
  },
  {
   "cell_type": "code",
   "execution_count": 6,
   "metadata": {},
   "outputs": [],
   "source": [
    "from rouge import Rouge\n",
    "\n",
    "reference = \"\"\"Three secrets behind the way U.S. government works\n",
    "It was designed to ensure weak government\n",
    "In times of crisis usual barriers fall away\n",
    "If voters want something done, it will get done somehow\"\"\"\n",
    "rouge = Rouge()\n",
    "scores = rouge.get_scores(summary,reference)\n"
   ]
  },
  {
   "cell_type": "code",
   "execution_count": 7,
   "metadata": {},
   "outputs": [
    {
     "name": "stdout",
     "output_type": "stream",
     "text": [
      "[{'rouge-1': {'r': 0.36363636363636365, 'p': 0.2727272727272727, 'f': 0.31168830679035253}, 'rouge-2': {'r': 0.15151515151515152, 'p': 0.09803921568627451, 'f': 0.11904761427721107}, 'rouge-l': {'r': 0.3333333333333333, 'p': 0.25, 'f': 0.2857142808163266}}]\n"
     ]
    }
   ],
   "source": [
    "print(scores)"
   ]
  },
  {
   "cell_type": "code",
   "execution_count": 8,
   "metadata": {},
   "outputs": [
    {
     "name": "stdout",
     "output_type": "stream",
     "text": [
      " The higgs boson would help explain the origin of mass one of the open questions in physicists current understanding of the way the universe works . Researchers at the large hadron collider under the alps due to unveil their latest results at an eagerly awaited seminar at the cern particle physics laboratory in geneva switzerland .\n",
      "[{'rouge-1': {'r': 0.42105263157894735, 'p': 0.37209302325581395, 'f': 0.3950617234141137}, 'rouge-2': {'r': 0.2765957446808511, 'p': 0.2549019607843137, 'f': 0.2653061174573095}, 'rouge-l': {'r': 0.34210526315789475, 'p': 0.3023255813953488, 'f': 0.32098764934003965}}]\n"
     ]
    }
   ],
   "source": [
    "text = 'at the start of a big week for the higgs boson the most soughtafter particle in all of physics scientists in illinois said monday that they had crept closer to proving that the particle exists but had been unable to reach a definitive conclusion. the scientists outlined their final analysis based on more than years of research and trillion particle collisions using the us department of energys fermilab tevatron collider near batavia illinois whose budgetary woes shut it down last year. what is the higgs boson and why is it important. their announcement came two days before researchers at the large hadron collider under the alps are due to unveil their latest results at an eagerly awaited seminar at the cern particle physics laboratory in geneva switzerland. our data strongly point toward the existence of the higgs boson rob roser a spokesman for one of two independent experiments at the tevatron said in a statement but it will take results from the experiments at the large hadron collider in europe to establish a discovery. read more the woman at the edge of physics. finding the higgs boson would help explain the origin of mass one of the open questions in physicists current understanding of the way the universe works. the particle has been so difficult to pin down that the physicist leon lederman reportedly wanted to call his book the goddamn particle but he truncated that epithet to the god particle which may have helped elevate the particles allure in popular culture. more science news from cnn light years. about times the mass of the proton. before the tevatron closed the experiments there sent beams of particles whizzing around a fourmile circumference in opposite directions traveling at a fraction below the speed of light the particles would crash into each other creating conditions similar to those at the dawn of the universe for scientists to observe. but so far neither the results from the us collider experiments nor from the the large hadron collider located feet underneath the border of france and switzerland have enough statistical significance to constitute a discovery. it is easier to look for a friends face in a sports stadium filled with people than to search for a higgslike event among trillions of collisions said luciano ristori a physicist at the us facility. attention now turns to the latest analysis of data from the billion european machine the worlds most powerful particle smasher. we now have more than double the data we had last year sergio bertolucci the director for research and computing at cern said last month that should be enough to see whether the trends we were seeing in the data are still there or whether theyve gone away its a very exciting time. scientists getting clearer picture of god particle'\n",
    "\n",
    "summary = summarize_with_pipeline(text,summarizer)\n",
    "print(summary)\n",
    "reference = 'usbased scientists say their data points toward the existence of the higgs boson finding the higgs boson would help explain the origin of mass but the research at the tevatron collider doesnt provide a conclusive answer attention now turns to a seminar wednesday on data from the large hadron collider'\n",
    "scores = rouge.get_scores(summary,reference)\n",
    "print(scores)"
   ]
  }
 ],
 "metadata": {
  "interpreter": {
   "hash": "cd78fef2128015050713e82ca51c6520b11aee7c9ee8df750520bbbc7384cbaa"
  },
  "kernelspec": {
   "display_name": "Python 3.8.8 64-bit ('base': conda)",
   "language": "python",
   "name": "python3"
  },
  "language_info": {
   "codemirror_mode": {
    "name": "ipython",
    "version": 3
   },
   "file_extension": ".py",
   "mimetype": "text/x-python",
   "name": "python",
   "nbconvert_exporter": "python",
   "pygments_lexer": "ipython3",
   "version": "3.8.8"
  },
  "orig_nbformat": 4
 },
 "nbformat": 4,
 "nbformat_minor": 2
}
