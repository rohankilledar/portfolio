{
 "cells": [
  {
   "cell_type": "markdown",
   "metadata": {},
   "source": [
    "As each of the news articile is stored in a seperate file, we first need to open the file and read the text iteratively ."
   ]
  },
  {
   "cell_type": "code",
   "execution_count": 32,
   "metadata": {},
   "outputs": [],
   "source": [
    "def read_file(filename):\n",
    "    file= open(filename, encoding = 'UTF-8')\n",
    "    text = file.read()\n",
    "    file.close()\n",
    "    return text"
   ]
  },
  {
   "cell_type": "code",
   "execution_count": 33,
   "metadata": {},
   "outputs": [
    {
     "data": {
      "text/plain": [
       "'(CNN) -- Can a movie actually convince you to support torture? Can a movie really persuade you that \"fracking\" -- a process used to drill for natural gas -- is a danger to the environment? Can a movie truly cause you to view certain minority groups in a negative light?\\n\\nSome scoff at the notion that movies do anything more than entertain. They are wrong. Sure, it\\'s unlikely that one movie alone will change your views on issues of magnitude. But a movie (or TV show) can begin your \"education\" or \"miseducation\" on a topic. And for those already agreeing with the film\\'s thesis, it can further entrench your views.\\n\\nAnyone who doubts the potential influence that movies can have on public opinion need to look no further than two films that are causing an uproar even before they have opened nationwide. They present hot button issues that manage to fire up people from the left and right.\\n\\nThe first, \"Zero Dark Thirty,\" is about the pursuit and killing of Osama bin Laden, which features scenes of torture. The second, \"Promised Land,\" stars Matt Damon and explores how the use of fracking to drill for natural gas can pose health and environmental dangers.\\n\\nCritics of \"Zero Dark Thirty\" fear that audiences will accept as true the film\\'s story line that torture was effective in eliciting information to locate bin Laden. They are rightfully concerned that the film will sway some to become more receptive or even supportive of the idea of torturing prisoners.\\n\\nPeter Bergen: Did torture really net bin Laden?\\n\\nOpposition to the film escalated last week as three senior U.S. senators -- John McCain, Carl Levin and Dianne Feinstein -- sent a letter to the film\\'s distributor, Sony Pictures, characterizing the film\\'s use of torture as \"grossly inaccurate and misleading.\" The senators bluntly informed Sony Pictures that it has \"an obligation to state that the role of torture in the hunt for Osama bin Laden is not based on the facts, but rather part of the film\\'s fictional narrative.\"\\n\\nThe hostility toward \"Promised Land\" shows us that it\\'s not just politicians who complain about movie messages. Big business -- namely, the gas industry -- is aggressively objecting to the allegation in \"Promised Land\" that fracking poses environmental and health risks.\\n\\nHow concerned is the gas industry?\\n\\nIt has set up a rapid response team to counter publicity for the film by using two Washington-based groups that lobby for gas and oil companies: the Independent Petroleum Association of America and Energy in Depth. These groups have scrutinized appearances by the films stars on talk shows, questioned who the financiers of the film are, published parts of the script and mocked the film on social media.\\n\\nEnergy in Depth went as far as to \"fact check\" a recent appearance by the film\\'s co-star and co-writer, John Krasinski, on \"Late Night With David Letterman.\" Within hours of Krasinski\\'s appearance, Energy in Depth posted a blog on its website pointing out what it perceived as factual errors made by Krasinski about fracking.\\n\\nRegardless of whether \"Zero Dark Thirty\" and \"Promised Land\" intended to promote any message, people who watch them will be \"educated\" in some way on torture and fracking -- even if very subtly.\\n\\nThis is the same reason that minority groups continue to object to being represented in a negative light in movies and TV. They understand that accurate representations matter because studies have shown that biases can form based on stereotypes or inaccurate representations. (Being of Italian and Arab descent, I\\'m acutely aware of this issue as my respective heritages have been represented by a parade of mobsters and terrorists.)\\n\\nWhat\\'s Hollywood\\'s role in all of this? The same as it has always been -- to make money.\\n\\nIn fact, there\\'s no doubt that the studios behind these movies are overjoyed at the controversy that has erupted and the resulting free press. Indeed, the response of Sony Pictures to the uproar over \"Zero Dark Thirty\" tells you about what they really hope we will all do: \"We encourage people to see the film before characterizing it.\"\\n\\nSo go ahead, enjoy these films and ones like them that are based on actual events or current hot issues. But while you are watching them, be aware you might be getting more than the price of ticket. You might also be getting a (mis)education.\\n\\nThe opinions expressed in this commentary are solely those of Dean Obeidallah.\\n\\n@highlight\\n\\nDean Obeidallah: A movie or TV show can educate or (mis)educate you\\n\\n@highlight\\n\\nObeidallah: Two new films about hot issues are firing up both the left and right\\n\\n@highlight\\n\\nSenators slammed \"Zero Dark Thirty,\" and energy industry attacked \"Promised Land\"\\n\\n@highlight\\n\\nObeidallah: What does Hollywood want? To make money, of course'"
      ]
     },
     "execution_count": 33,
     "metadata": {},
     "output_type": "execute_result"
    }
   ],
   "source": [
    "read_file('/Users/rohankilledar/Documents/MSc Artificial Intelligence/repos/summarisation/cnn/stories/0a0a4c90d59df9e36ffec4ba306b4f20f3ba4acb.story')"
   ]
  },
  {
   "cell_type": "markdown",
   "metadata": {},
   "source": [
    "each of these article can be split into text and its highlight or summary points. "
   ]
  },
  {
   "cell_type": "code",
   "execution_count": 41,
   "metadata": {},
   "outputs": [],
   "source": [
    "def split_text(article):\n",
    "    indx = article.index('@highlight')\n",
    "    story = article[:indx]\n",
    "    highlights = article[:indx].split('@highlight')\n",
    "    highlights = [h.strip() for h in highlights if len(h)>0]\n",
    "    return story,highlights\n",
    "    "
   ]
  },
  {
   "cell_type": "code",
   "execution_count": 42,
   "metadata": {},
   "outputs": [
    {
     "name": "stdout",
     "output_type": "stream",
     "text": [
      "total stories in dataset: 92579\n"
     ]
    }
   ],
   "source": [
    "from os import listdir\n",
    "def read_all(folder):\n",
    "    dataset = list()\n",
    "    for file in listdir(folder):\n",
    "        filename= folder+'/'+file\n",
    "        article = read_file(filename)\n",
    "        story,highlights = split_text(article)\n",
    "        dataset.append({'story':story,'highlights':highlights})\n",
    "    return dataset\n",
    "        \n",
    "folder = \"/Users/rohankilledar/Documents/MSc Artificial Intelligence/repos/summarisation/cnn/stories\"\n",
    "dataset = read_all(folder)\n",
    "print(\"total stories in dataset: \"+ str(len(dataset)))"
   ]
  },
  {
   "cell_type": "code",
   "execution_count": 51,
   "metadata": {},
   "outputs": [
    {
     "name": "stdout",
     "output_type": "stream",
     "text": [
      "At the start of a big week for the Higgs boson, the most sought-after particle in all of physics, scientists in Illinois said Monday that they had crept closer to proving that the particle exists but had been unable to reach a definitive conclusion.\n",
      "\n",
      "The scientists outlined their final analysis based on more than 10 years of research and 500 trillion particle collisions using the U.S. Department of Energy's Fermilab Tevatron collider near Batavia, Illinois, whose budgetary woes shut it down last year.\n",
      "\n",
      "What is the Higgs boson and why is it important?\n",
      "\n",
      "Their announcement came two days before researchers at the Large Hadron Collider under the Alps are due to unveil their latest results at an eagerly awaited seminar at the CERN particle physics laboratory in Geneva, Switzerland.\n",
      "\n",
      "\"Our data strongly point toward the existence of the Higgs boson,\" Rob Roser, a spokesman for one of two independent experiments at the Tevatron, said in a statement. \"But it will take results from the experiments at the Large Hadron Collider in Europe to establish a discovery.\"\n",
      "\n",
      "Read more: The woman at the edge of physics\n",
      "\n",
      "Finding the Higgs boson would help explain the origin of mass, one of the open questions in physicists' current understanding of the way the universe works.\n",
      "\n",
      "The particle has been so difficult to pin down that the physicist Leon Lederman reportedly wanted to call his book \"The Goddamn Particle.\" But he truncated that epithet to \"The God Particle,\" which may have helped elevate the particle's allure in popular culture.\n",
      "\n",
      "More science news from CNN Light Years\n",
      "\n",
      "The results from the Tevatron, stemming from the two different experiments, suggest that if the Higgs boson does exist, it would have a mass between 115 and 135 GeV -- about 130 times the mass of the proton.\n",
      "\n",
      "Before the Tevatron closed, the experiments there sent beams of particles whizzing around a four-mile circumference in opposite directions. Traveling at a fraction below the speed of light, the particles would crash into each other, creating conditions similar to those at the dawn of the universe for scientists to observe.\n",
      "\n",
      "But so far, neither the results from the U.S. collider experiments nor from the the Large Hadron Collider, located 328 feet underneath the border of France and Switzerland, have enough statistical significance to constitute a discovery.\n",
      "\n",
      "\"It is easier to look for a friend's face in a sports stadium filled with 100,000 people than to search for a Higgs-like event among trillions of collisions,\" said Luciano Ristori, a physicist at the U.S. facility.\n",
      "\n",
      "Attention now turns to the latest analysis of data from the $10 billion European machine, the world's most powerful particle smasher.\n",
      "\n",
      "\"We now have more than double the data we had last year,\" Sergio Bertolucci, the director for research and computing at CERN, said last month. \"That should be enough to see whether the trends we were seeing in the 2011 data are still there, or whether they've gone away. It's a very exciting time.\"\n",
      "\n",
      "Scientists getting clearer picture of 'God particle'\n",
      "\n",
      "\n"
     ]
    }
   ],
   "source": [
    "print(dataset[0]['story'])"
   ]
  },
  {
   "cell_type": "code",
   "execution_count": 53,
   "metadata": {},
   "outputs": [
    {
     "name": "stdout",
     "output_type": "stream",
     "text": [
      "['At the start of a big week for the Higgs boson, the most sought-after particle in all of physics, scientists in Illinois said Monday that they had crept closer to proving that the particle exists but had been unable to reach a definitive conclusion.\\n\\nThe scientists outlined their final analysis based on more than 10 years of research and 500 trillion particle collisions using the U.S. Department of Energy\\'s Fermilab Tevatron collider near Batavia, Illinois, whose budgetary woes shut it down last year.\\n\\nWhat is the Higgs boson and why is it important?\\n\\nTheir announcement came two days before researchers at the Large Hadron Collider under the Alps are due to unveil their latest results at an eagerly awaited seminar at the CERN particle physics laboratory in Geneva, Switzerland.\\n\\n\"Our data strongly point toward the existence of the Higgs boson,\" Rob Roser, a spokesman for one of two independent experiments at the Tevatron, said in a statement. \"But it will take results from the experiments at the Large Hadron Collider in Europe to establish a discovery.\"\\n\\nRead more: The woman at the edge of physics\\n\\nFinding the Higgs boson would help explain the origin of mass, one of the open questions in physicists\\' current understanding of the way the universe works.\\n\\nThe particle has been so difficult to pin down that the physicist Leon Lederman reportedly wanted to call his book \"The Goddamn Particle.\" But he truncated that epithet to \"The God Particle,\" which may have helped elevate the particle\\'s allure in popular culture.\\n\\nMore science news from CNN Light Years\\n\\nThe results from the Tevatron, stemming from the two different experiments, suggest that if the Higgs boson does exist, it would have a mass between 115 and 135 GeV -- about 130 times the mass of the proton.\\n\\nBefore the Tevatron closed, the experiments there sent beams of particles whizzing around a four-mile circumference in opposite directions. Traveling at a fraction below the speed of light, the particles would crash into each other, creating conditions similar to those at the dawn of the universe for scientists to observe.\\n\\nBut so far, neither the results from the U.S. collider experiments nor from the the Large Hadron Collider, located 328 feet underneath the border of France and Switzerland, have enough statistical significance to constitute a discovery.\\n\\n\"It is easier to look for a friend\\'s face in a sports stadium filled with 100,000 people than to search for a Higgs-like event among trillions of collisions,\" said Luciano Ristori, a physicist at the U.S. facility.\\n\\nAttention now turns to the latest analysis of data from the $10 billion European machine, the world\\'s most powerful particle smasher.\\n\\n\"We now have more than double the data we had last year,\" Sergio Bertolucci, the director for research and computing at CERN, said last month. \"That should be enough to see whether the trends we were seeing in the 2011 data are still there, or whether they\\'ve gone away. It\\'s a very exciting time.\"\\n\\nScientists getting clearer picture of \\'God particle\\'']\n"
     ]
    }
   ],
   "source": [
    "print(dataset[0]['highlights'])"
   ]
  },
  {
   "cell_type": "code",
   "execution_count": 66,
   "metadata": {},
   "outputs": [],
   "source": [
    "import string\n",
    "numbers = [str(n) for n in range(0,10)]\n",
    "alphabets = [a for a in string.ascii_lowercase]\n",
    "    \n",
    "result = numbers + alphabets"
   ]
  },
  {
   "cell_type": "code",
   "execution_count": 67,
   "metadata": {},
   "outputs": [
    {
     "data": {
      "text/plain": [
       "['8',\n",
       " 'h',\n",
       " 'y',\n",
       " 'p',\n",
       " 'o',\n",
       " 't',\n",
       " 'h',\n",
       " 'e',\n",
       " 't',\n",
       " 'i',\n",
       " 'c',\n",
       " 'a',\n",
       " 'l',\n",
       " 'l',\n",
       " '0',\n",
       " '2',\n",
       " '4',\n",
       " 'y',\n",
       " '6',\n",
       " 'w',\n",
       " 'x',\n",
       " 'z']"
      ]
     },
     "execution_count": 67,
     "metadata": {},
     "output_type": "execute_result"
    }
   ],
   "source": [
    "inputstring  = '8hypotheticall024y6wxz'\n",
    "\n",
    "inputarray = [s for s in inputstring]\n",
    "inputarray"
   ]
  },
  {
   "cell_type": "code",
   "execution_count": 68,
   "metadata": {},
   "outputs": [],
   "source": [
    "for s in inputarray:\n",
    "    if s in result:\n",
    "        result.remove(s)\n"
   ]
  },
  {
   "cell_type": "code",
   "execution_count": 69,
   "metadata": {},
   "outputs": [
    {
     "data": {
      "text/plain": [
       "['1',\n",
       " '3',\n",
       " '5',\n",
       " '7',\n",
       " '9',\n",
       " 'b',\n",
       " 'd',\n",
       " 'f',\n",
       " 'g',\n",
       " 'j',\n",
       " 'k',\n",
       " 'm',\n",
       " 'n',\n",
       " 'q',\n",
       " 'r',\n",
       " 's',\n",
       " 'u',\n",
       " 'v']"
      ]
     },
     "execution_count": 69,
     "metadata": {},
     "output_type": "execute_result"
    }
   ],
   "source": [
    "result"
   ]
  },
  {
   "cell_type": "code",
   "execution_count": 38,
   "metadata": {},
   "outputs": [],
   "source": [
    "dm_folder = '/Users/rohankilledar/Documents/MSc Artificial Intelligence/repos/summarisation/dailymail/stories'\n",
    "dm_dataset = read_all(dm_folder)\n",
    "\n"
   ]
  },
  {
   "cell_type": "code",
   "execution_count": 39,
   "metadata": {},
   "outputs": [
    {
     "data": {
      "text/plain": [
       "[\"By\\nJohn Hall\\n\\nPUBLISHED:\\n  \\n  \\n      09:32 EST, 28 February 2014\\n    \\n  \\n\\n | \\n  UPDATED:\\n  \\n  \\n      14:20 EST, 28 February 2014\\n\\nDozens of children and members of staff at a secondary school in Essex have been treated for chemical inhalation after a GCSE science experiment went wrong.\\n\\nAmbulances were called to St Mary's Catholic School in Bishop's Stortford this morning after a classroom filled with noxious gasses, apparently after a pupil accidentally overheated a chemical.\\n\\nAt least 33 people received medical attention after complaining of bronchial inflammation following the incident, with two adults and a child taken to hospital for further treatment.\\n\\nEvacuated: Ambulances were called to St Mary's Catholic School in Bishop's Stortford (pictured) after a classroom filled with noxious gasses, apparently after a pupil accidentally overheated a chemical\\n\\nA spokesperson for East of England Ambulance Service said: 'The ambulance service was called to an incident at 11.15am at St Maryâ€™s Catholic School in Bishops Stortford, Hertfordshire to reports of up to 33 patients complaining of bronchial inflammation due to suspected chemical inhalation.'\\n\\n'The Trust has a number of resources on scene including the hazardous area response team, two paramedic response cars, two ambulance officers, an ambulance and a community first responder,' they added.\\n\\n'The first response was on scene in five minutes, with an ambulance being on scene within nine minutes.Two patients have been taken to hospital, both adults with minor conditions. Officers are currently treating those who are still at the scene, with seven patients with minor complaints,' the statement went on to say.\\n\\nSpeaking to the Hertfordshire and Essex Observer, Emmanuel Bonich, assistant head at St Maryâ€™s, confirmed the cause was an experiment and said the classroom was evacuated and ventilated as soon as the chemical substance was noticed.\\n\\nAccident: The incident is believed to have occurred after a GCSE student accidentally overheated a chemical during a classroom experiment (file image)\\n\\nHe said: 'It was a science experiment. As part of the experiment one of the chemicals was heated for too long by one of the students and resulted in some gas being released. The classroom was evacuated and ventilated.'\\n\\nHe added: 'We immediately called for the assistance of the emergency services. Every single class member was given a check over, as were members of staff. So far everyone has been given the OK.'\\n\\n'Two members of staff have gone to hospital as a precaution and for further checks and a parent has taken a pupil to hospital for further checks.'\\n\\nIn 2009, 48 St Mary's Catholic School pupils escaped uninjured after a school bus caught fire on the busy A414 road near Hadhams.\\n\\nOlder students were forced to help younger pupils get off the bus after it burst into flames.\\n\\nAt the time parents said they had been complaining about health and safety issues surrounding the school bus for months, but nothing had been done.\"]"
      ]
     },
     "execution_count": 39,
     "metadata": {},
     "output_type": "execute_result"
    }
   ],
   "source": [
    "dm_dataset[1]['highlights']"
   ]
  },
  {
   "cell_type": "code",
   "execution_count": null,
   "metadata": {},
   "outputs": [],
   "source": []
  },
  {
   "cell_type": "code",
   "execution_count": null,
   "metadata": {},
   "outputs": [],
   "source": []
  },
  {
   "cell_type": "code",
   "execution_count": null,
   "metadata": {},
   "outputs": [],
   "source": []
  },
  {
   "cell_type": "code",
   "execution_count": null,
   "metadata": {},
   "outputs": [],
   "source": []
  },
  {
   "cell_type": "code",
   "execution_count": 40,
   "metadata": {},
   "outputs": [
    {
     "data": {
      "text/plain": [
       "[{'rouge-1': {'r': 0.42857142857142855,\n",
       "   'p': 0.5833333333333334,\n",
       "   'f': 0.49411764217577864},\n",
       "  'rouge-2': {'r': 0.18571428571428572,\n",
       "   'p': 0.3170731707317073,\n",
       "   'f': 0.23423422957552154},\n",
       "  'rouge-l': {'r': 0.3877551020408163,\n",
       "   'p': 0.5277777777777778,\n",
       "   'f': 0.44705881864636676}}]"
      ]
     },
     "execution_count": 40,
     "metadata": {},
     "output_type": "execute_result"
    }
   ],
   "source": [
    "import os\n",
    "command=\"pip3 install rouge\"\n",
    "os.system(command)\n",
    "\n",
    "from rouge import Rouge \n",
    "\n",
    "hypothesis = \"the #### transcript is a written version of each day 's cnn student news program use this transcript to he    lp students with reading comprehension and vocabulary use the weekly newsquiz to test your knowledge of storie s you     saw on cnn student news\"\n",
    "\n",
    "reference = \"this page includes the show transcript use the transcript to help students with reading comprehension and     vocabulary at the bottom of the page , comment for a chance to be mentioned on cnn student news . you must be a teac    her or a student age # # or older to request a mention on the cnn student news roll call . the weekly newsquiz tests     students ' knowledge of even ts in the news\"\n",
    "\n",
    "rouge = Rouge()\n",
    "scores = rouge.get_scores(hypothesis, reference)\n",
    "\n",
    "scores"
   ]
  }
 ],
 "metadata": {
  "interpreter": {
   "hash": "cd78fef2128015050713e82ca51c6520b11aee7c9ee8df750520bbbc7384cbaa"
  },
  "kernelspec": {
   "display_name": "Python 3.8.8 64-bit ('base': conda)",
   "name": "python3"
  },
  "language_info": {
   "codemirror_mode": {
    "name": "ipython",
    "version": 3
   },
   "file_extension": ".py",
   "mimetype": "text/x-python",
   "name": "python",
   "nbconvert_exporter": "python",
   "pygments_lexer": "ipython3",
   "version": "3.8.8"
  },
  "orig_nbformat": 4
 },
 "nbformat": 4,
 "nbformat_minor": 2
}
