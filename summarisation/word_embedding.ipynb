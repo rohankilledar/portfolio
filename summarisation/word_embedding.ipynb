{
 "cells": [
  {
   "cell_type": "markdown",
   "metadata": {},
   "source": [
    "Using googlenews word2vec"
   ]
  },
  {
   "cell_type": "code",
   "execution_count": 16,
   "metadata": {},
   "outputs": [],
   "source": [
    "# load pretrained word2vec\n",
    "from gensim.test.utils import datapath\n",
    "from gensim.models import KeyedVectors\n",
    "path_of_downloaded_bin = \"/Users/rohankilledar/Documents/MSc Artificial Intelligence/Natural Language Processing/labs/GoogleNews-vectors-negative300.bin\"\n",
    "word_vectors = KeyedVectors.load_word2vec_format(datapath(path_of_downloaded_bin), binary=True)"
   ]
  },
  {
   "cell_type": "markdown",
   "metadata": {},
   "source": [
    "We need to vectorize the input string ."
   ]
  },
  {
   "cell_type": "code",
   "execution_count": 17,
   "metadata": {},
   "outputs": [],
   "source": [
    "import numpy as np\n",
    "def vectorize_sent(word_vectors, sent):\n",
    "    word_vecs = []\n",
    "    for token in sent.split():\n",
    "        if token not in word_vectors: continue # if a word doesn't have an embedding, skip\n",
    "        word_vecs.append(word_vectors[token]) # otherwise, obtain the word embedding\n",
    "    # print(np.array(word_vecs).shape)\n",
    "    return np.mean(np.array(word_vecs),axis=0) # compute the average embedding"
   ]
  },
  {
   "cell_type": "code",
   "execution_count": 4,
   "metadata": {},
   "outputs": [
    {
     "name": "stdout",
     "output_type": "stream",
     "text": [
      "                                               story  \\\n",
      "0  at the start of a big week for the higgs boson...   \n",
      "1  acquitted by a florida jury over the death of ...   \n",
      "2  zlatan ibrahimovic scored his third goal in as...   \n",
      "3  nobel laureate norman e borlaug an agricultura...   \n",
      "4  cnnlouisiana gov bobby jindal on monday stood ...   \n",
      "\n",
      "                                           highlight  \n",
      "0  usbased scientists say their data points towar...  \n",
      "1  zimmerman posts bail he was accused of throwin...  \n",
      "2  barcelona move three points clear of real madr...  \n",
      "3  borlaug died at the age of from complications ...  \n",
      "4  louisiana gov bobby jindal decried nogo zones ...  \n"
     ]
    }
   ],
   "source": [
    "import pandas as pd\n",
    "\n",
    "#df = pd.read_csv('data.csv')\n",
    "\n",
    "news_df =  pd.read_pickle(r'dataset.pkl')\n",
    "news_df.isnull().sum()\n",
    "print(news_df.head())"
   ]
  },
  {
   "cell_type": "code",
   "execution_count": 9,
   "metadata": {},
   "outputs": [],
   "source": [
    "news_df['highlight'] = news_df['highlight'].apply(lambda x: 'sostok '+ str(x) +' eostok')\n"
   ]
  },
  {
   "cell_type": "code",
   "execution_count": 11,
   "metadata": {},
   "outputs": [
    {
     "data": {
      "text/html": [
       "<div>\n",
       "<style scoped>\n",
       "    .dataframe tbody tr th:only-of-type {\n",
       "        vertical-align: middle;\n",
       "    }\n",
       "\n",
       "    .dataframe tbody tr th {\n",
       "        vertical-align: top;\n",
       "    }\n",
       "\n",
       "    .dataframe thead th {\n",
       "        text-align: right;\n",
       "    }\n",
       "</style>\n",
       "<table border=\"1\" class=\"dataframe\">\n",
       "  <thead>\n",
       "    <tr style=\"text-align: right;\">\n",
       "      <th></th>\n",
       "      <th>story</th>\n",
       "      <th>highlight</th>\n",
       "    </tr>\n",
       "  </thead>\n",
       "  <tbody>\n",
       "    <tr>\n",
       "      <th>0</th>\n",
       "      <td>at the start of a big week for the higgs boson...</td>\n",
       "      <td>sostok usbased scientists say their data point...</td>\n",
       "    </tr>\n",
       "    <tr>\n",
       "      <th>1</th>\n",
       "      <td>acquitted by a florida jury over the death of ...</td>\n",
       "      <td>sostok zimmerman posts bail he was accused of ...</td>\n",
       "    </tr>\n",
       "    <tr>\n",
       "      <th>2</th>\n",
       "      <td>zlatan ibrahimovic scored his third goal in as...</td>\n",
       "      <td>sostok barcelona move three points clear of re...</td>\n",
       "    </tr>\n",
       "    <tr>\n",
       "      <th>3</th>\n",
       "      <td>nobel laureate norman e borlaug an agricultura...</td>\n",
       "      <td>sostok borlaug died at the age of from complic...</td>\n",
       "    </tr>\n",
       "    <tr>\n",
       "      <th>4</th>\n",
       "      <td>cnnlouisiana gov bobby jindal on monday stood ...</td>\n",
       "      <td>sostok louisiana gov bobby jindal decried nogo...</td>\n",
       "    </tr>\n",
       "  </tbody>\n",
       "</table>\n",
       "</div>"
      ],
      "text/plain": [
       "                                               story  \\\n",
       "0  at the start of a big week for the higgs boson...   \n",
       "1  acquitted by a florida jury over the death of ...   \n",
       "2  zlatan ibrahimovic scored his third goal in as...   \n",
       "3  nobel laureate norman e borlaug an agricultura...   \n",
       "4  cnnlouisiana gov bobby jindal on monday stood ...   \n",
       "\n",
       "                                           highlight  \n",
       "0  sostok usbased scientists say their data point...  \n",
       "1  sostok zimmerman posts bail he was accused of ...  \n",
       "2  sostok barcelona move three points clear of re...  \n",
       "3  sostok borlaug died at the age of from complic...  \n",
       "4  sostok louisiana gov bobby jindal decried nogo...  "
      ]
     },
     "execution_count": 11,
     "metadata": {},
     "output_type": "execute_result"
    }
   ],
   "source": [
    "news_df.head()"
   ]
  },
  {
   "cell_type": "code",
   "execution_count": null,
   "metadata": {},
   "outputs": [],
   "source": []
  },
  {
   "cell_type": "code",
   "execution_count": 24,
   "metadata": {},
   "outputs": [
    {
     "name": "stdout",
     "output_type": "stream",
     "text": [
      "at the start of a big week for the higgs boson the most soughtafter particle in all of physics scientists in illinois said monday that they had crept closer to proving that the particle exists but had been unable to reach a definitive conclusion. the scientists outlined their final analysis based on more than years of research and trillion particle collisions using the us department of energys fermilab tevatron collider near batavia illinois whose budgetary woes shut it down last year. what is the higgs boson and why is it important. their announcement came two days before researchers at the large hadron collider under the alps are due to unveil their latest results at an eagerly awaited seminar at the cern particle physics laboratory in geneva switzerland. our data strongly point toward the existence of the higgs boson rob roser a spokesman for one of two independent experiments at the tevatron said in a statement but it will take results from the experiments at the large hadron collider in europe to establish a discovery. read more the woman at the edge of physics. finding the higgs boson would help explain the origin of mass one of the open questions in physicists current understanding of the way the universe works. the particle has been so difficult to pin down that the physicist leon lederman reportedly wanted to call his book the goddamn particle but he truncated that epithet to the god particle which may have helped elevate the particles allure in popular culture. more science news from cnn light years. about times the mass of the proton. before the tevatron closed the experiments there sent beams of particles whizzing around a fourmile circumference in opposite directions traveling at a fraction below the speed of light the particles would crash into each other creating conditions similar to those at the dawn of the universe for scientists to observe. but so far neither the results from the us collider experiments nor from the the large hadron collider located feet underneath the border of france and switzerland have enough statistical significance to constitute a discovery. it is easier to look for a friends face in a sports stadium filled with people than to search for a higgslike event among trillions of collisions said luciano ristori a physicist at the us facility. attention now turns to the latest analysis of data from the billion european machine the worlds most powerful particle smasher. we now have more than double the data we had last year sergio bertolucci the director for research and computing at cern said last month that should be enough to see whether the trends we were seeing in the data are still there or whether theyve gone away its a very exciting time. scientists getting clearer picture of god particle\n",
      "(300,)\n"
     ]
    }
   ],
   "source": [
    "print(news_df['story'][0])\n",
    "inputstring = news_df['story'][0]\n",
    "vec_sent = vectorize_sent(word_vectors,inputstring)\n",
    "print(vec_sent.shape)"
   ]
  },
  {
   "cell_type": "code",
   "execution_count": null,
   "metadata": {},
   "outputs": [],
   "source": [
    "# import pickle\n",
    "# def read_from_pickle(path):\n",
    "#     with open(path, 'rb') as file:\n",
    "#         try:\n",
    "#             while True:\n",
    "#                 yield pickle.load(file)\n",
    "#         except EOFError:\n",
    "#             pass"
   ]
  },
  {
   "cell_type": "code",
   "execution_count": 18,
   "metadata": {},
   "outputs": [],
   "source": [
    "from sklearn.model_selection import train_test_split\n",
    "x_train, x_test,y_train,y_test = train_test_split(news_df['story'],news_df['highlight'],test_size=0.3,random_state=2501,shuffle=True)"
   ]
  },
  {
   "cell_type": "code",
   "execution_count": 20,
   "metadata": {},
   "outputs": [
    {
     "data": {
      "text/plain": [
       "62459     sostok new jacksons son criticizes him for rem...\n",
       "247863    sostok lager drinkers struggle to distinguish ...\n",
       "52669     sostok facebooks where do you live question ca...\n",
       "188692    sostok clair watson picked up hand grenade on ...\n",
       "63333     sostok marco rubios rise in the polls was fuel...\n",
       "                                ...                        \n",
       "210324    sostok emily jones from hampshire is member of...\n",
       "176775    sostok mothertobe christina barton collapsed o...\n",
       "143271    sostok teams up with nutritionist to unveil me...\n",
       "99553     sostok boy dragged downstairs by the animal wh...\n",
       "281673    sostok nearly sex offenders missing for more t...\n",
       "Name: highlight, Length: 218459, dtype: object"
      ]
     },
     "execution_count": 20,
     "metadata": {},
     "output_type": "execute_result"
    }
   ],
   "source": [
    "y_train"
   ]
  }
 ],
 "metadata": {
  "interpreter": {
   "hash": "cd78fef2128015050713e82ca51c6520b11aee7c9ee8df750520bbbc7384cbaa"
  },
  "kernelspec": {
   "display_name": "Python 3.8.8 64-bit ('base': conda)",
   "name": "python3"
  },
  "language_info": {
   "codemirror_mode": {
    "name": "ipython",
    "version": 3
   },
   "file_extension": ".py",
   "mimetype": "text/x-python",
   "name": "python",
   "nbconvert_exporter": "python",
   "pygments_lexer": "ipython3",
   "version": "3.8.8"
  },
  "orig_nbformat": 4
 },
 "nbformat": 4,
 "nbformat_minor": 2
}
